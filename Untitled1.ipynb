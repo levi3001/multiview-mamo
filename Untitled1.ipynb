{
 "cells": [
  {
   "cell_type": "code",
   "execution_count": 1,
   "id": "74e7be43",
   "metadata": {},
   "outputs": [
    {
     "name": "stderr",
     "output_type": "stream",
     "text": [
      "/home/vishc1/anaconda3/envs/hoang/lib/python3.9/site-packages/requests/__init__.py:109: RequestsDependencyWarning: urllib3 (1.26.14) or chardet (None)/charset_normalizer (3.1.0) doesn't match a supported version!\n",
      "  warnings.warn(\n"
     ]
    }
   ],
   "source": [
    "from datasets import (\n",
    "    create_valid_dataset, create_valid_loader\n",
    ")\n",
    "from models.create_fasterrcnn_model import create_model\n",
    "from torch_utils import utils\n",
    "from torchmetrics.detection.mean_ap import MeanAveragePrecision\n",
    "from pprint import pprint\n",
    "from tqdm import tqdm\n",
    "from utils import transforms as T\n",
    "import torch\n",
    "import argparse\n",
    "import yaml\n",
    "import torchvision\n",
    "import torchvision.transforms.functional as F\n",
    "import time\n",
    "import numpy as np\n",
    "from torch_utils import froc\n",
    "import matplotlib.pyplot as plt\n",
    "import cv2\n",
    "torch.multiprocessing.set_sharing_strategy('file_system')\n",
    "from typing import Dict, List, Optional, Tuple, Union"
   ]
  },
  {
   "cell_type": "code",
   "execution_count": 2,
   "id": "db63ea50",
   "metadata": {},
   "outputs": [
    {
     "data": {
      "text/plain": [
       "{'TRAIN_DIR_IMAGES': '../VinDr_Mammo/physionet.org/files/vindr-mammo/1.0.0/images/',\n",
       " 'TRAIN_DIR_LABELS': '../VinDr_Mammo/physionet.org/files/vindr-mammo/1.0.0/',\n",
       " 'VALID_DIR_IMAGES': '../VinDr_Mammo/physionet.org/files/vindr-mammo/1.0.0/images/',\n",
       " 'VALID_DIR_LABELS': '../VinDr_Mammo/physionet.org/files/vindr-mammo/1.0.0/',\n",
       " 'CLASSES': ['__background__',\n",
       "  'Mass',\n",
       "  'Suspicious Calcification',\n",
       "  'Asymmetry',\n",
       "  'Focal Asymmetry',\n",
       "  'Architectural Distortion',\n",
       "  'Other'],\n",
       " 'NC': 7,\n",
       " 'SAVE_VALID_PREDICTION_IMAGES': True}"
      ]
     },
     "execution_count": 2,
     "metadata": {},
     "output_type": "execute_result"
    }
   ],
   "source": [
    "data_configs= {\n",
    "    'TRAIN_DIR_IMAGES' : '../VinDr_Mammo/physionet.org/files/vindr-mammo/1.0.0/images/',\n",
    "    'TRAIN_DIR_LABELS' : '../VinDr_Mammo/physionet.org/files/vindr-mammo/1.0.0/',\n",
    "    'VALID_DIR_IMAGES' : '../VinDr_Mammo/physionet.org/files/vindr-mammo/1.0.0/images/',\n",
    "    'VALID_DIR_LABELS' : '../VinDr_Mammo/physionet.org/files/vindr-mammo/1.0.0/',\n",
    "# Class names.\n",
    "    'CLASSES' :[\n",
    "    '__background__',\n",
    "    'Mass',\n",
    "    'Suspicious Calcification', \n",
    "    'Asymmetry',\n",
    "    'Focal Asymmetry', \n",
    "    'Architectural Distortion',\n",
    "    'Other'\n",
    "\n",
    "],\n",
    "\n",
    "# Number of classes (object classes + 1 for background class in Faster RCNN).\n",
    "    'NC' : 7,\n",
    "\n",
    "# Whether to save the predictions of the validation set while training.\n",
    "    'SAVE_VALID_PREDICTION_IMAGES' : True,\n",
    "}\n",
    "data_configs"
   ]
  },
  {
   "cell_type": "code",
   "execution_count": 3,
   "id": "cb4aeb0b",
   "metadata": {},
   "outputs": [],
   "source": [
    "args={\n",
    "    'model' : 'fasterrcnn_resnet50_fpn_sigmoid',\n",
    "    'weights' : 'outputs/training/resnet50_all1/best_model.pth',\n",
    "    'batch' : 2,\n",
    "    'workers': 4,\n",
    "    'device' : 'cuda:0',\n",
    "    'imgsz' : (1400, 1700),\n",
    "    \n",
    "}"
   ]
  },
  {
   "cell_type": "code",
   "execution_count": 4,
   "id": "9963b1a1",
   "metadata": {},
   "outputs": [
    {
     "name": "stdout",
     "output_type": "stream",
     "text": [
      "ResNet(\n",
      "  (conv1): Conv2d(3, 64, kernel_size=(7, 7), stride=(2, 2), padding=(3, 3), bias=False)\n",
      "  (bn1): FrozenBatchNorm2d(64, eps=1e-05)\n",
      "  (relu): ReLU(inplace=True)\n",
      "  (maxpool): MaxPool2d(kernel_size=3, stride=2, padding=1, dilation=1, ceil_mode=False)\n",
      "  (layer1): Sequential(\n",
      "    (0): Bottleneck(\n",
      "      (conv1): Conv2d(64, 64, kernel_size=(1, 1), stride=(1, 1), bias=False)\n",
      "      (bn1): FrozenBatchNorm2d(64, eps=1e-05)\n",
      "      (conv2): Conv2d(64, 64, kernel_size=(3, 3), stride=(1, 1), padding=(1, 1), bias=False)\n",
      "      (bn2): FrozenBatchNorm2d(64, eps=1e-05)\n",
      "      (conv3): Conv2d(64, 256, kernel_size=(1, 1), stride=(1, 1), bias=False)\n",
      "      (bn3): FrozenBatchNorm2d(256, eps=1e-05)\n",
      "      (relu): ReLU(inplace=True)\n",
      "      (downsample): Sequential(\n",
      "        (0): Conv2d(64, 256, kernel_size=(1, 1), stride=(1, 1), bias=False)\n",
      "        (1): FrozenBatchNorm2d(256, eps=1e-05)\n",
      "      )\n",
      "    )\n",
      "    (1): Bottleneck(\n",
      "      (conv1): Conv2d(256, 64, kernel_size=(1, 1), stride=(1, 1), bias=False)\n",
      "      (bn1): FrozenBatchNorm2d(64, eps=1e-05)\n",
      "      (conv2): Conv2d(64, 64, kernel_size=(3, 3), stride=(1, 1), padding=(1, 1), bias=False)\n",
      "      (bn2): FrozenBatchNorm2d(64, eps=1e-05)\n",
      "      (conv3): Conv2d(64, 256, kernel_size=(1, 1), stride=(1, 1), bias=False)\n",
      "      (bn3): FrozenBatchNorm2d(256, eps=1e-05)\n",
      "      (relu): ReLU(inplace=True)\n",
      "    )\n",
      "    (2): Bottleneck(\n",
      "      (conv1): Conv2d(256, 64, kernel_size=(1, 1), stride=(1, 1), bias=False)\n",
      "      (bn1): FrozenBatchNorm2d(64, eps=1e-05)\n",
      "      (conv2): Conv2d(64, 64, kernel_size=(3, 3), stride=(1, 1), padding=(1, 1), bias=False)\n",
      "      (bn2): FrozenBatchNorm2d(64, eps=1e-05)\n",
      "      (conv3): Conv2d(64, 256, kernel_size=(1, 1), stride=(1, 1), bias=False)\n",
      "      (bn3): FrozenBatchNorm2d(256, eps=1e-05)\n",
      "      (relu): ReLU(inplace=True)\n",
      "    )\n",
      "  )\n",
      "  (layer2): Sequential(\n",
      "    (0): Bottleneck(\n",
      "      (conv1): Conv2d(256, 128, kernel_size=(1, 1), stride=(1, 1), bias=False)\n",
      "      (bn1): FrozenBatchNorm2d(128, eps=1e-05)\n",
      "      (conv2): Conv2d(128, 128, kernel_size=(3, 3), stride=(2, 2), padding=(1, 1), bias=False)\n",
      "      (bn2): FrozenBatchNorm2d(128, eps=1e-05)\n",
      "      (conv3): Conv2d(128, 512, kernel_size=(1, 1), stride=(1, 1), bias=False)\n",
      "      (bn3): FrozenBatchNorm2d(512, eps=1e-05)\n",
      "      (relu): ReLU(inplace=True)\n",
      "      (downsample): Sequential(\n",
      "        (0): Conv2d(256, 512, kernel_size=(1, 1), stride=(2, 2), bias=False)\n",
      "        (1): FrozenBatchNorm2d(512, eps=1e-05)\n",
      "      )\n",
      "    )\n",
      "    (1): Bottleneck(\n",
      "      (conv1): Conv2d(512, 128, kernel_size=(1, 1), stride=(1, 1), bias=False)\n",
      "      (bn1): FrozenBatchNorm2d(128, eps=1e-05)\n",
      "      (conv2): Conv2d(128, 128, kernel_size=(3, 3), stride=(1, 1), padding=(1, 1), bias=False)\n",
      "      (bn2): FrozenBatchNorm2d(128, eps=1e-05)\n",
      "      (conv3): Conv2d(128, 512, kernel_size=(1, 1), stride=(1, 1), bias=False)\n",
      "      (bn3): FrozenBatchNorm2d(512, eps=1e-05)\n",
      "      (relu): ReLU(inplace=True)\n",
      "    )\n",
      "    (2): Bottleneck(\n",
      "      (conv1): Conv2d(512, 128, kernel_size=(1, 1), stride=(1, 1), bias=False)\n",
      "      (bn1): FrozenBatchNorm2d(128, eps=1e-05)\n",
      "      (conv2): Conv2d(128, 128, kernel_size=(3, 3), stride=(1, 1), padding=(1, 1), bias=False)\n",
      "      (bn2): FrozenBatchNorm2d(128, eps=1e-05)\n",
      "      (conv3): Conv2d(128, 512, kernel_size=(1, 1), stride=(1, 1), bias=False)\n",
      "      (bn3): FrozenBatchNorm2d(512, eps=1e-05)\n",
      "      (relu): ReLU(inplace=True)\n",
      "    )\n",
      "    (3): Bottleneck(\n",
      "      (conv1): Conv2d(512, 128, kernel_size=(1, 1), stride=(1, 1), bias=False)\n",
      "      (bn1): FrozenBatchNorm2d(128, eps=1e-05)\n",
      "      (conv2): Conv2d(128, 128, kernel_size=(3, 3), stride=(1, 1), padding=(1, 1), bias=False)\n",
      "      (bn2): FrozenBatchNorm2d(128, eps=1e-05)\n",
      "      (conv3): Conv2d(128, 512, kernel_size=(1, 1), stride=(1, 1), bias=False)\n",
      "      (bn3): FrozenBatchNorm2d(512, eps=1e-05)\n",
      "      (relu): ReLU(inplace=True)\n",
      "    )\n",
      "  )\n",
      "  (layer3): Sequential(\n",
      "    (0): Bottleneck(\n",
      "      (conv1): Conv2d(512, 256, kernel_size=(1, 1), stride=(1, 1), bias=False)\n",
      "      (bn1): FrozenBatchNorm2d(256, eps=1e-05)\n",
      "      (conv2): Conv2d(256, 256, kernel_size=(3, 3), stride=(2, 2), padding=(1, 1), bias=False)\n",
      "      (bn2): FrozenBatchNorm2d(256, eps=1e-05)\n",
      "      (conv3): Conv2d(256, 1024, kernel_size=(1, 1), stride=(1, 1), bias=False)\n",
      "      (bn3): FrozenBatchNorm2d(1024, eps=1e-05)\n",
      "      (relu): ReLU(inplace=True)\n",
      "      (downsample): Sequential(\n",
      "        (0): Conv2d(512, 1024, kernel_size=(1, 1), stride=(2, 2), bias=False)\n",
      "        (1): FrozenBatchNorm2d(1024, eps=1e-05)\n",
      "      )\n",
      "    )\n",
      "    (1): Bottleneck(\n",
      "      (conv1): Conv2d(1024, 256, kernel_size=(1, 1), stride=(1, 1), bias=False)\n",
      "      (bn1): FrozenBatchNorm2d(256, eps=1e-05)\n",
      "      (conv2): Conv2d(256, 256, kernel_size=(3, 3), stride=(1, 1), padding=(1, 1), bias=False)\n",
      "      (bn2): FrozenBatchNorm2d(256, eps=1e-05)\n",
      "      (conv3): Conv2d(256, 1024, kernel_size=(1, 1), stride=(1, 1), bias=False)\n",
      "      (bn3): FrozenBatchNorm2d(1024, eps=1e-05)\n",
      "      (relu): ReLU(inplace=True)\n",
      "    )\n",
      "    (2): Bottleneck(\n",
      "      (conv1): Conv2d(1024, 256, kernel_size=(1, 1), stride=(1, 1), bias=False)\n",
      "      (bn1): FrozenBatchNorm2d(256, eps=1e-05)\n",
      "      (conv2): Conv2d(256, 256, kernel_size=(3, 3), stride=(1, 1), padding=(1, 1), bias=False)\n",
      "      (bn2): FrozenBatchNorm2d(256, eps=1e-05)\n",
      "      (conv3): Conv2d(256, 1024, kernel_size=(1, 1), stride=(1, 1), bias=False)\n",
      "      (bn3): FrozenBatchNorm2d(1024, eps=1e-05)\n",
      "      (relu): ReLU(inplace=True)\n",
      "    )\n",
      "    (3): Bottleneck(\n",
      "      (conv1): Conv2d(1024, 256, kernel_size=(1, 1), stride=(1, 1), bias=False)\n",
      "      (bn1): FrozenBatchNorm2d(256, eps=1e-05)\n",
      "      (conv2): Conv2d(256, 256, kernel_size=(3, 3), stride=(1, 1), padding=(1, 1), bias=False)\n",
      "      (bn2): FrozenBatchNorm2d(256, eps=1e-05)\n",
      "      (conv3): Conv2d(256, 1024, kernel_size=(1, 1), stride=(1, 1), bias=False)\n",
      "      (bn3): FrozenBatchNorm2d(1024, eps=1e-05)\n",
      "      (relu): ReLU(inplace=True)\n",
      "    )\n",
      "    (4): Bottleneck(\n",
      "      (conv1): Conv2d(1024, 256, kernel_size=(1, 1), stride=(1, 1), bias=False)\n",
      "      (bn1): FrozenBatchNorm2d(256, eps=1e-05)\n",
      "      (conv2): Conv2d(256, 256, kernel_size=(3, 3), stride=(1, 1), padding=(1, 1), bias=False)\n",
      "      (bn2): FrozenBatchNorm2d(256, eps=1e-05)\n",
      "      (conv3): Conv2d(256, 1024, kernel_size=(1, 1), stride=(1, 1), bias=False)\n",
      "      (bn3): FrozenBatchNorm2d(1024, eps=1e-05)\n",
      "      (relu): ReLU(inplace=True)\n",
      "    )\n",
      "    (5): Bottleneck(\n",
      "      (conv1): Conv2d(1024, 256, kernel_size=(1, 1), stride=(1, 1), bias=False)\n",
      "      (bn1): FrozenBatchNorm2d(256, eps=1e-05)\n",
      "      (conv2): Conv2d(256, 256, kernel_size=(3, 3), stride=(1, 1), padding=(1, 1), bias=False)\n",
      "      (bn2): FrozenBatchNorm2d(256, eps=1e-05)\n",
      "      (conv3): Conv2d(256, 1024, kernel_size=(1, 1), stride=(1, 1), bias=False)\n",
      "      (bn3): FrozenBatchNorm2d(1024, eps=1e-05)\n",
      "      (relu): ReLU(inplace=True)\n",
      "    )\n",
      "  )\n",
      "  (layer4): Sequential(\n",
      "    (0): Bottleneck(\n",
      "      (conv1): Conv2d(1024, 512, kernel_size=(1, 1), stride=(1, 1), bias=False)\n",
      "      (bn1): FrozenBatchNorm2d(512, eps=1e-05)\n",
      "      (conv2): Conv2d(512, 512, kernel_size=(3, 3), stride=(2, 2), padding=(1, 1), bias=False)\n",
      "      (bn2): FrozenBatchNorm2d(512, eps=1e-05)\n",
      "      (conv3): Conv2d(512, 2048, kernel_size=(1, 1), stride=(1, 1), bias=False)\n",
      "      (bn3): FrozenBatchNorm2d(2048, eps=1e-05)\n",
      "      (relu): ReLU(inplace=True)\n",
      "      (downsample): Sequential(\n",
      "        (0): Conv2d(1024, 2048, kernel_size=(1, 1), stride=(2, 2), bias=False)\n",
      "        (1): FrozenBatchNorm2d(2048, eps=1e-05)\n",
      "      )\n",
      "    )\n",
      "    (1): Bottleneck(\n",
      "      (conv1): Conv2d(2048, 512, kernel_size=(1, 1), stride=(1, 1), bias=False)\n",
      "      (bn1): FrozenBatchNorm2d(512, eps=1e-05)\n",
      "      (conv2): Conv2d(512, 512, kernel_size=(3, 3), stride=(1, 1), padding=(1, 1), bias=False)\n",
      "      (bn2): FrozenBatchNorm2d(512, eps=1e-05)\n",
      "      (conv3): Conv2d(512, 2048, kernel_size=(1, 1), stride=(1, 1), bias=False)\n",
      "      (bn3): FrozenBatchNorm2d(2048, eps=1e-05)\n",
      "      (relu): ReLU(inplace=True)\n",
      "    )\n",
      "    (2): Bottleneck(\n",
      "      (conv1): Conv2d(2048, 512, kernel_size=(1, 1), stride=(1, 1), bias=False)\n",
      "      (bn1): FrozenBatchNorm2d(512, eps=1e-05)\n",
      "      (conv2): Conv2d(512, 512, kernel_size=(3, 3), stride=(1, 1), padding=(1, 1), bias=False)\n",
      "      (bn2): FrozenBatchNorm2d(512, eps=1e-05)\n",
      "      (conv3): Conv2d(512, 2048, kernel_size=(1, 1), stride=(1, 1), bias=False)\n",
      "      (bn3): FrozenBatchNorm2d(2048, eps=1e-05)\n",
      "      (relu): ReLU(inplace=True)\n",
      "    )\n",
      "  )\n",
      "  (avgpool): AdaptiveAvgPool2d(output_size=(1, 1))\n",
      "  (fc): Linear(in_features=2048, out_features=1000, bias=True)\n",
      ")\n"
     ]
    },
    {
     "name": "stdout",
     "output_type": "stream",
     "text": [
      "[\"['Mass']\" \"['Global Asymmetry']\" \"['Architectural Distortion']\"\n",
      " \"['Asymmetry']\" \"['Suspicious Calcification']\" \"['Focal Asymmetry']\"\n",
      " \"['Skin Thickening', 'Mass']\" \"['Asymmetry', 'Mass']\"\n",
      " \"['Suspicious Calcification', 'Mass']\"\n",
      " \"['Suspicious Calcification', 'Architectural Distortion']\"\n",
      " \"['Suspicious Calcification', 'Focal Asymmetry']\" \"['Skin Thickening']\"\n",
      " \"['Skin Thickening', 'Focal Asymmetry']\"\n",
      " \"['Suspicious Calcification', 'Architectural Distortion', 'Nipple Retraction', 'Skin Retraction']\"\n",
      " \"['Skin Retraction', 'Skin Thickening']\" \"['Nipple Retraction']\"\n",
      " \"['Architectural Distortion', 'Mass']\"\n",
      " \"['Skin Retraction', 'Nipple Retraction']\" \"['No Finding']\"]\n",
      "__background__\n",
      "Empty DataFrame\n",
      "Columns: [index, study_id, image_id, height, width, xmin, ymin, xmax, ymax, finding_categories, breast_birads]\n",
      "Index: []\n",
      "Mass\n",
      "    index                          study_id                          image_id  \\\n",
      "0      56  8e30fe5fbe424206c9f57ce26f80f6c2  425f59f5c6461ba1bcda816bc0bfccb7   \n",
      "1      86  d51872cb860414480dbedb3733e70724  e507bee7c9fba777c89f4f1a96887f78   \n",
      "2      98  100d1197bd368737356f1da7fc270ae4  6b1dd04208019290c84add37e109fa79   \n",
      "4     180  658602d790b802fb079fe5d2eba494dd  aa02e8c5422114d20da11c573d0ee8ee   \n",
      "9     369  c79e16f69c355bad0291d281d674f53b  f90ec8e52522a65d1c0c9f999837cc6c   \n",
      "11    441  4fc011ee4b49040648fdd2d3dcf883c3  a9c839293c5d12e8ccccd20281ffb692   \n",
      "12    442  4fc011ee4b49040648fdd2d3dcf883c3  a9c839293c5d12e8ccccd20281ffb692   \n",
      "16    517  21fddc967eb5a31695a60d4bb075df7a  1a1d13244aaafa6a12988c4e1d3efe5b   \n",
      "18    540  5214f4386efcea56014510f1068da2a0  847d82f41872e77590bb7cde05a60fcd   \n",
      "19    545  ea75b79a86ae33661802cc9f2ee5d938  a170a92368091b985595f6b1d18f2154   \n",
      "20    562  944072b1af80b5038a0434d689012b12  cfdda9d0be846ba0716fcf18ae3abf70   \n",
      "24    658  2b48f13688211af161ca5880d9fcaec3  41b26fbba63c7cb1ffd46446fb7dff96   \n",
      "25    703  7923de65390f4cfe6fb047515f9474f0  a2d73fa3622b7227587f480a63d24ab0   \n",
      "26    730  2c90542f6f10926cde501ebd8de7c3c3  248979f8c341862b99d2ab1e40a4efb1   \n",
      "29    789  0d8fc33c55f2f6af87ee3bd16614e208  dd0b143a10f7dd0cedb9de5f146005aa   \n",
      "33    878  014d843f13a9d86fec945664e2541fe6  a3abc78b80b104b171f2dd76c215f1a5   \n",
      "40   1055  28605b2b2337d1a4aae65900df2a36ae  4d11b9d3d15d656ddc4313aec9ff6822   \n",
      "41   1059  8dd986e8174fc84c2a984e66a416ff9f  6c89a90416411eecf56e5ea1fff2a1e2   \n",
      "44   1080  18249f2f393ec3a4e59d4f3e9e7c6d1d  0dac8664468ff3ab7a3e24fda8053cf6   \n",
      "45   1084  94522717c9827bb41fe0814a514ae68b  b4659ca39d982567f231131634135791   \n",
      "46   1096  543d36c1e4f0957fddd46c3078f21c93  80440acf117f4cecd3ac74097adc8101   \n",
      "48   1118  07a0dbae70b94afb01313eeeeaaef9ac  726355704c0328a581f9182fee4d198f   \n",
      "50   1143  db3c5cf7336cc061ad5679d2209c2386  de8b49dee1cd6c3a7dfd404a1de4d266   \n",
      "52   1232  02c9621d5af7d0485e20c071f605678c  3a69cb46471f1417f099a177608cd5c1   \n",
      "53   1271  27d4dc70d6f73554e4ead70f01867167  01958718afdf303581e758cdf34eaf8a   \n",
      "54   1285  443af8de1a0d47fe93e88ee1e4dfac8e  98d9121596f36834a1de8441d0aab483   \n",
      "57   1339  2e1f57baf6e3e742404c401b0999cadb  64e88bc3716211bb2fc5dae3ca9e5b92   \n",
      "60   1451  afa8d58b60cf82ce642d5c917fb6c8af  729fae337639d825ca83e563c6efedc6   \n",
      "61   1461  4141898a609bbcdf7fa4e9b49188514e  09d71ae86ca0383de5dcbcc40fa421ce   \n",
      "62   1478  a4e90efc3a2dc8260b51e7f0121ccde3  f1301e728ee3553f3a701c15e64ea041   \n",
      "65   1492  46ab23ec866810a4212c33db471153a2  98eb0445d9d24e3eaddd9e244441ca1d   \n",
      "66   1503  2df4404b9c286ec49851d4261faec924  99f560a37e4a4c1d1c95b19436700837   \n",
      "70   1579  93514476602890f55d1758d1f3e1a9b5  b38c4d76e10c004a7b779c01b3f66da0   \n",
      "71   1616  f6648f91c1486446d8ad32cdd928d977  ed6643439c5e0ec39ec171b579188dca   \n",
      "72   1685  9fe8e9aef78ad365197d8f6ee0fdb932  e793562ebc24362abe53753378f9cf28   \n",
      "73   1706  792610d6c4044d3a4e2cfdbc5b494768  5cb3de6d9a5c63eeb83d660420c9044c   \n",
      "74   1726  91489fc5a74d1452737d06d7113837f4  899a09abd9ab542682b3a41724bcccdc   \n",
      "76   1759  cf399797f9211774fdb1470bf4ba5600  67eba147095e0fb7cc0fb928c08a6fa0   \n",
      "77   1768  0f19f51df3ae39481f0a88d5b17b8499  aef8595fed1885ce9cb1644ba5d88f6f   \n",
      "78   1775  9bb21300e3a92937024437cacc180158  347b32bd628a543c96ba6baf027e9781   \n",
      "81   1898  937f8b7c688c373cff168ea6529a4731  7e2cda8f991e2e14ab585427cbbfd25e   \n",
      "83   1949  e668b1bed3d1501af1c88ef1ecd85a8c  6f6c283d16eef33b314e99fcedad3831   \n",
      "85   2014  b4ed83d02fa675475155a5551f92fd1f  645750c02921da235324e6b32b8d9eaf   \n",
      "88   2091  3b9d3e9aa2fcdefd74d4cbfb496694b4  46d9c0dced48fa61647ce80db623491e   \n",
      "89   2173  31937d26eec6ebdceb4c4d676fd06018  608702adb4fc8f88e22b458dc95a63aa   \n",
      "90   2235  68107a7fd1e370b88e161f37cff1c2d7  6ffc6c2d163e10db5e43dd845638f6e7   \n",
      "91   2244  b8acac150be7f949f78dc631a3851f8b  dbe631b24f8759c7f7022513582c39ba   \n",
      "92   2245  b8acac150be7f949f78dc631a3851f8b  dbe631b24f8759c7f7022513582c39ba   \n",
      "93   2246  b8acac150be7f949f78dc631a3851f8b  dbe631b24f8759c7f7022513582c39ba   \n",
      "94   2247  b8acac150be7f949f78dc631a3851f8b  dbe631b24f8759c7f7022513582c39ba   \n",
      "\n",
      "    height  width         xmin         ymin         xmax         ymax  \\\n",
      "0     3518   2800  2068.590088  1064.020020  2291.590088  1302.500000   \n",
      "1     3518   2800  2264.889893  1995.420044  2461.909912  2197.429932   \n",
      "2     3518   2800  2293.830078  1448.420044  2432.510010  1536.189941   \n",
      "4     3518   2800  2316.909912  1716.250000  2506.350098  1912.339966   \n",
      "9     3518   2800  2040.170044  1272.150024  2625.580078  1760.479980   \n",
      "11    3518   2800  1600.339966  1662.569946  1714.170044  1804.300049   \n",
      "12    3518   2800  1544.540039  1648.839966  1640.209961  1784.369995   \n",
      "16    3518   2800  2311.770020  1561.969971  2411.969971  1651.709961   \n",
      "18    3518   2800  1298.209961  1479.979980  1625.630005  1773.810059   \n",
      "19    3518   2800  2324.550049  1081.310059  2487.510010  1251.170044   \n",
      "20    3518   2800  2518.629883  1874.810059  2782.729980  2190.860107   \n",
      "24    3518   2800  2010.579956   828.125000  2346.260010  1190.400024   \n",
      "25    3518   2800  2550.449951  1684.930054  2662.840088  1789.989990   \n",
      "26    3518   2800  2423.929932  1980.420044  2533.010010  2100.310059   \n",
      "29    3518   2800  2203.239990  1183.520020  2348.409912  1341.729980   \n",
      "33    3518   2800  2664.020020  2191.669922  2793.820068  2327.649902   \n",
      "40    3518   2800  2184.969971   553.219971  2791.909912  1305.819946   \n",
      "41    3518   2800  2072.379883  1164.160034  2533.189941  1695.640015   \n",
      "44    3518   2800  2503.310059  1864.079956  2790.729980  2275.110107   \n",
      "45    3518   2800  2576.540039  2026.400024  2787.429932  2220.010010   \n",
      "46    3518   2800  2173.899902  2013.280029  2378.429932  2228.870117   \n",
      "48    3518   2800  2462.429932   966.393005  2606.879883  1072.709961   \n",
      "50    3518   2800  2650.750000   912.705994  2787.830078  1029.400024   \n",
      "52    3518   2800  2541.540039  1831.800049  2656.989990  1963.060059   \n",
      "53    3518   2800  2316.580078  1402.209961  2527.100098  1620.930054   \n",
      "54    3518   2800  2351.909912  1747.540039  2508.270020  1911.229980   \n",
      "57    3518   2800  2299.020020  1454.489990  2541.729980  1797.619995   \n",
      "60    3518   2800  2562.360107   711.414001  2708.669922   846.018982   \n",
      "61    3518   2800  2349.770020  1735.810059  2587.459961  1960.939941   \n",
      "62    3518   2800  2591.110107   858.632996  2799.790039  1102.479980   \n",
      "65    3518   2800  2519.489990  1504.599976  2786.300049  1758.900024   \n",
      "66    3518   2800  1727.569946  1717.380005  1826.489990  1844.670044   \n",
      "70    3580   2812  1901.810059  1294.010010  2659.209961  2080.080078   \n",
      "71    3580   2812  2359.319968  2104.261835  2536.479383  2299.961189   \n",
      "72    3580   2657  2122.189941  1724.300049  2370.770020  1967.560059   \n",
      "73    2812   2012  1469.298262  1379.102505  1675.308226  1588.714041   \n",
      "74    2812   2012  1221.291318  1444.382088  1366.790205  1559.069446   \n",
      "76    2812   2012  1751.119995  1745.619995  2045.189941  2121.459961   \n",
      "77    2812   2012  1593.818478  1052.339122  1804.452141  1305.710050   \n",
      "78    2812   2012  1505.513093  1313.460722  1979.154989  1866.706299   \n",
      "81    2812   2012  1191.087310   518.053799  1550.113015   877.079504   \n",
      "83    2812   2012  1797.729980  1617.390015  1978.839966  1779.959961   \n",
      "85    3580   2766  2314.292046  1936.305723  2441.624466  2040.609939   \n",
      "88    3580   2812  2498.603583  1508.474588  2810.791296  1904.104177   \n",
      "89    3580   2812  2186.979980  1741.349976  2721.949951  2444.060059   \n",
      "90    3580   2675  2299.250000  1311.449951  2657.010010  1762.119995   \n",
      "91    3580   2609  2023.930054  1868.959961  2197.929932  2037.300049   \n",
      "92    3580   2609  1830.119995  1665.260010  2124.360107  1992.040039   \n",
      "93    3580   2609  2173.879883  1673.750000  2333.729980  1825.109985   \n",
      "94    3580   2609  2336.560059  1458.719971  2519.040039  1612.920044   \n",
      "\n",
      "                      finding_categories breast_birads  \n",
      "0                               ['Mass']     BI-RADS 3  \n",
      "1                               ['Mass']     BI-RADS 3  \n",
      "2                               ['Mass']     BI-RADS 3  \n",
      "4                               ['Mass']     BI-RADS 3  \n",
      "9                               ['Mass']     BI-RADS 3  \n",
      "11  ['Suspicious Calcification', 'Mass']     BI-RADS 4  \n",
      "12                              ['Mass']     BI-RADS 4  \n",
      "16                              ['Mass']     BI-RADS 4  \n",
      "18                              ['Mass']     BI-RADS 4  \n",
      "19                              ['Mass']     BI-RADS 4  \n",
      "20                              ['Mass']     BI-RADS 3  \n",
      "24                              ['Mass']     BI-RADS 3  \n",
      "25                              ['Mass']     BI-RADS 3  \n",
      "26                              ['Mass']     BI-RADS 4  \n",
      "29                              ['Mass']     BI-RADS 4  \n",
      "33                              ['Mass']     BI-RADS 4  \n",
      "40                              ['Mass']     BI-RADS 4  \n",
      "41                              ['Mass']     BI-RADS 5  \n",
      "44                              ['Mass']     BI-RADS 3  \n",
      "45                              ['Mass']     BI-RADS 3  \n",
      "46                              ['Mass']     BI-RADS 3  \n",
      "48                              ['Mass']     BI-RADS 4  \n",
      "50                              ['Mass']     BI-RADS 4  \n",
      "52                              ['Mass']     BI-RADS 3  \n",
      "53                              ['Mass']     BI-RADS 4  \n",
      "54                              ['Mass']     BI-RADS 3  \n",
      "57                              ['Mass']     BI-RADS 3  \n",
      "60                              ['Mass']     BI-RADS 4  \n",
      "61  ['Suspicious Calcification', 'Mass']     BI-RADS 4  \n",
      "62                              ['Mass']     BI-RADS 3  \n",
      "65                              ['Mass']     BI-RADS 3  \n",
      "66                              ['Mass']     BI-RADS 3  \n",
      "70                              ['Mass']     BI-RADS 4  \n",
      "71                              ['Mass']     BI-RADS 4  \n",
      "72                              ['Mass']     BI-RADS 3  \n",
      "73                              ['Mass']     BI-RADS 4  \n",
      "74                              ['Mass']     BI-RADS 3  \n",
      "76                              ['Mass']     BI-RADS 4  \n",
      "77                              ['Mass']     BI-RADS 3  \n",
      "78  ['Architectural Distortion', 'Mass']     BI-RADS 5  \n",
      "81                              ['Mass']     BI-RADS 5  \n",
      "83                              ['Mass']     BI-RADS 3  \n",
      "85                              ['Mass']     BI-RADS 4  \n",
      "88  ['Suspicious Calcification', 'Mass']     BI-RADS 5  \n",
      "89                              ['Mass']     BI-RADS 5  \n",
      "90                              ['Mass']     BI-RADS 4  \n",
      "91                              ['Mass']     BI-RADS 4  \n",
      "92                              ['Mass']     BI-RADS 4  \n",
      "93                              ['Mass']     BI-RADS 4  \n",
      "94                              ['Mass']     BI-RADS 4  \n",
      "Suspicious Calcification\n",
      "    index                          study_id                          image_id  \\\n",
      "8     267  751ef8517c9221362d71e6326f622904  8f7ffe31b78dbfe056bb3c6be5a844db   \n",
      "10    433  de585e55834681c650d1f34ff21c2139  6ffb4582bf7434518000863d13bf8915   \n",
      "11    441  4fc011ee4b49040648fdd2d3dcf883c3  a9c839293c5d12e8ccccd20281ffb692   \n",
      "14    468  5988446083ab88daccc8fc5c6c679474  ebe0d766cf25c8576d78d0e7a351e39a   \n",
      "15    498  7eab495d8ae42610e89e53788db3e019  212bc03533346819d0c6d449d631f69f   \n",
      "17    518  21fddc967eb5a31695a60d4bb075df7a  1a1d13244aaafa6a12988c4e1d3efe5b   \n",
      "23    625  f773364cb25ff6d46f85fcdbb0984ee7  e153f0c95056a74dfe8bc5c5260ee939   \n",
      "27    773  9d70df5a83f33ec2d4c1f9eed8151f6e  3fcc4242c9e4a841fa6843880f1b18de   \n",
      "34    916  0baef459a10e51c65302ddb63012c147  c53418f3bc12b3173db174c86ca11355   \n",
      "35    981  8caa9e54b30e54edbdcbc771e7386fd7  a7c64ea280c0c19d81e43e3e272c12f5   \n",
      "39   1026  20bd4110f46e0a2579a554743f51f173  7d642cca9647103a993d4b3f9e6be393   \n",
      "42   1060  8dd986e8174fc84c2a984e66a416ff9f  6c89a90416411eecf56e5ea1fff2a1e2   \n",
      "47   1106  e3ea477f6b1f7347c184f55cb7c336b4  492dd7f17bc6af6fb657b874cadcd66a   \n",
      "55   1308  a739f537d66fb48c49eca89a0991088f  664b12ccff1d1acfe8f965d87615ae3d   \n",
      "61   1461  4141898a609bbcdf7fa4e9b49188514e  09d71ae86ca0383de5dcbcc40fa421ce   \n",
      "63   1484  fe97163790007e5539f8da8181f4374b  c44f22812f3bc45f49498bded8056914   \n",
      "68   1556  145927026debdaedb04126ab0f182f4e  80a19174eea887c90779fc040405258f   \n",
      "69   1578  93514476602890f55d1758d1f3e1a9b5  b38c4d76e10c004a7b779c01b3f66da0   \n",
      "75   1755  bcab78ee9a90e5cfd4c5fb59771bbfca  b68769ba266c8a6ccfc95b649e14e23c   \n",
      "80   1861  c659e0e01ed8e0ba6dc0adf5418eeaa9  9ba92f29441854cfcb0c2abc08a013c6   \n",
      "82   1899  937f8b7c688c373cff168ea6529a4731  7e2cda8f991e2e14ab585427cbbfd25e   \n",
      "84   2002  2035c27f797e5b80a104640985636167  b4b83d6c6e16b93b623b9ac0943a665c   \n",
      "87   2048  f9b9d3c214c10fa252823cd4aaab269e  1cbc0ae5d67abccd58a4ba6d657d921e   \n",
      "88   2091  3b9d3e9aa2fcdefd74d4cbfb496694b4  46d9c0dced48fa61647ce80db623491e   \n",
      "\n",
      "    height  width         xmin         ymin         xmax         ymax  \\\n",
      "8     3518   2800  2220.820068  1445.280029  2432.469971  1760.069946   \n",
      "10    3518   2800  2208.310059  1206.800049  2661.120117  1853.469971   \n",
      "11    3518   2800  1600.339966  1662.569946  1714.170044  1804.300049   \n",
      "14    3518   2800  2141.570068  2005.699951  2257.010010  2107.560059   \n",
      "15    3518   2800  2412.379883   773.846985  2782.780029  1953.439941   \n",
      "17    3518   2800  2447.760010  1625.839966  2471.979980  1653.910034   \n",
      "23    3518   2800  2278.320068  1269.020020  2356.729980  1342.260010   \n",
      "27    3518   2800  2520.959961  1183.939941  2618.000000  1237.849976   \n",
      "34    3518   2800  2272.459961  1193.630005  2575.120117  1326.760010   \n",
      "35    3518   2800  2188.120117  1349.150024  2789.979980  2074.000000   \n",
      "39    3518   2800  2723.429932  1242.380005  2793.610107  1400.150024   \n",
      "42    3518   2800  2177.919922  1005.159973  2782.090088  1686.810059   \n",
      "47    3518   2800  2345.729980  1019.539978  2458.840088  1101.930054   \n",
      "55    3518   2800  2625.570068   903.757996  2705.149902   975.534973   \n",
      "61    3518   2800  2349.770020  1735.810059  2587.459961  1960.939941   \n",
      "63    3518   2800  2154.659912  1428.150024  2234.850098  1516.069946   \n",
      "68    3580   2812  2049.739990  1347.369995  2800.540039  2363.610107   \n",
      "69    3580   2812  1949.967913  1510.243998  2805.625752  2163.282060   \n",
      "75    2812   2012  1810.910034  1098.160034  2008.449951  1282.439941   \n",
      "80    2812   2012   775.179993   684.505981  1650.949951  1668.250000   \n",
      "82    2812   2012  1296.466868   644.264200  1436.156051   760.671852   \n",
      "84    2812   2012   779.625000   612.033997  1894.660034  2014.290039   \n",
      "87    3580   2654  2188.860107  1807.140015  2659.540039  2433.669922   \n",
      "88    3580   2812  2498.603583  1508.474588  2810.791296  1904.104177   \n",
      "\n",
      "                                 finding_categories breast_birads  \n",
      "8   ['Suspicious Calcification', 'Focal Asymmetry']     BI-RADS 3  \n",
      "10                     ['Suspicious Calcification']     BI-RADS 5  \n",
      "11             ['Suspicious Calcification', 'Mass']     BI-RADS 4  \n",
      "14                     ['Suspicious Calcification']     BI-RADS 4  \n",
      "15                     ['Suspicious Calcification']     BI-RADS 4  \n",
      "17                     ['Suspicious Calcification']     BI-RADS 4  \n",
      "23                     ['Suspicious Calcification']     BI-RADS 3  \n",
      "27                     ['Suspicious Calcification']     BI-RADS 4  \n",
      "34                     ['Suspicious Calcification']     BI-RADS 4  \n",
      "35  ['Suspicious Calcification', 'Focal Asymmetry']     BI-RADS 5  \n",
      "39                     ['Suspicious Calcification']     BI-RADS 3  \n",
      "42                     ['Suspicious Calcification']     BI-RADS 5  \n",
      "47                     ['Suspicious Calcification']     BI-RADS 3  \n",
      "55                     ['Suspicious Calcification']     BI-RADS 4  \n",
      "61             ['Suspicious Calcification', 'Mass']     BI-RADS 4  \n",
      "63                     ['Suspicious Calcification']     BI-RADS 4  \n",
      "68                     ['Suspicious Calcification']     BI-RADS 5  \n",
      "69                     ['Suspicious Calcification']     BI-RADS 4  \n",
      "75                     ['Suspicious Calcification']     BI-RADS 4  \n",
      "80                     ['Suspicious Calcification']     BI-RADS 5  \n",
      "82                     ['Suspicious Calcification']     BI-RADS 5  \n",
      "84                     ['Suspicious Calcification']     BI-RADS 5  \n",
      "87                     ['Suspicious Calcification']     BI-RADS 4  \n",
      "88             ['Suspicious Calcification', 'Mass']     BI-RADS 5  \n",
      "Asymmetry\n",
      "    index                          study_id                          image_id  \\\n",
      "13    449  043febde473009753d404fe89a41c395  3e97b77c1736218890e5c1f3d01fbc0a   \n",
      "22    611  d0389f18021cd6e9294eef7d553039b3  54d0efb124cfa5d783b2ad5f074608e1   \n",
      "79   1836  75b2eef816fe608734977d1ffb16eae9  d6a5571d179a36b0f8b0196a9d7fa69c   \n",
      "\n",
      "    height  width         xmin         ymin         xmax         ymax  \\\n",
      "13    3518   2800  2584.959961  2256.790039  2750.889893  2408.290039   \n",
      "22    3518   2800  2338.020020  1029.040039  2577.300049  1244.040039   \n",
      "79    2812   2012  1709.146681  1621.115210  1823.819963  1708.485330   \n",
      "\n",
      "   finding_categories breast_birads  \n",
      "13      ['Asymmetry']     BI-RADS 3  \n",
      "22      ['Asymmetry']     BI-RADS 3  \n",
      "79      ['Asymmetry']     BI-RADS 3  \n",
      "Focal Asymmetry\n",
      "    index                          study_id                          image_id  \\\n",
      "3     136  90bdb495b39d53271b2ccf97cde90bac  1c1d29264b338e71d94bf33db3a2849f   \n",
      "7     254  1e23350a1da64abd78dc27a56f966186  1f7810314e30e081e2d81ddb34019cc4   \n",
      "8     267  751ef8517c9221362d71e6326f622904  8f7ffe31b78dbfe056bb3c6be5a844db   \n",
      "30    811  d9d54d68fc1c66ad5ee8481bafcd55da  72423f5fe30fe6377c15d1331761d594   \n",
      "31    828  dec442c750151a175272b8ef0007cf09  63a6fea3ac77af3f8e332371745ccd65   \n",
      "32    836  3f77a67d63af8d57a4119efa6fe298c6  bfd31e5e6ba3c8df271e317b0d87576f   \n",
      "35    981  8caa9e54b30e54edbdcbc771e7386fd7  a7c64ea280c0c19d81e43e3e272c12f5   \n",
      "36    982  8caa9e54b30e54edbdcbc771e7386fd7  a7c64ea280c0c19d81e43e3e272c12f5   \n",
      "38   1012  eb6f53ebf42ab3aa19d5e7cc362195c4  8ddcc6ca07bfbf89fe828d46a0f64e92   \n",
      "51   1160  d35b1a4107f0d52e18acdd7a9360ca85  a404014023088ae711fd4445d8b298b4   \n",
      "56   1337  439e1f994fe010feb04b891db651ae55  29c0834b48a96abe9d002778c55e698e   \n",
      "64   1485  fe97163790007e5539f8da8181f4374b  c44f22812f3bc45f49498bded8056914   \n",
      "67   1542  4dab957b2babcf264a088bc7802261c4  8bd6f0c10da77a15a1cd6d2ab6fd65a6   \n",
      "86   2015  b4ed83d02fa675475155a5551f92fd1f  645750c02921da235324e6b32b8d9eaf   \n",
      "\n",
      "    height  width         xmin         ymin         xmax         ymax  \\\n",
      "3     3518   2800  2743.610107  1814.439941  2798.969971  1925.140015   \n",
      "7     3518   2800  1987.640015  1822.390015  2148.550049  2002.670044   \n",
      "8     3518   2800  2220.820068  1445.280029  2432.469971  1760.069946   \n",
      "30    3518   2800  2293.510010  1309.849976  2728.330078  1773.329956   \n",
      "31    3518   2800  2309.229980  1105.719971  2602.100098  1330.599976   \n",
      "32    3518   2800  2161.149902   989.398010  2786.780029  1753.239990   \n",
      "35    3518   2800  2188.120117  1349.150024  2789.979980  2074.000000   \n",
      "36    3518   2800  2194.719971  1350.849976  2472.040039  1799.520020   \n",
      "38    3518   2800  2030.060059  1621.380005  2369.810059  1965.439941   \n",
      "51    3518   2800  2320.419922   803.931030  2817.370117  1156.599976   \n",
      "56    3518   2800  2253.449951  1474.239990  2398.300049  1635.550049   \n",
      "64    3518   2800  2142.100098   856.161011  2757.570068  1572.109985   \n",
      "67    2812   2012  1635.780029  1645.079956  1936.119995  1956.219971   \n",
      "86    3580   2766  2205.411792   864.834910  2719.443102  1362.104329   \n",
      "\n",
      "                                 finding_categories breast_birads  \n",
      "3                               ['Focal Asymmetry']     BI-RADS 4  \n",
      "7                               ['Focal Asymmetry']     BI-RADS 3  \n",
      "8   ['Suspicious Calcification', 'Focal Asymmetry']     BI-RADS 3  \n",
      "30                              ['Focal Asymmetry']     BI-RADS 3  \n",
      "31                              ['Focal Asymmetry']     BI-RADS 3  \n",
      "32                              ['Focal Asymmetry']     BI-RADS 3  \n",
      "35  ['Suspicious Calcification', 'Focal Asymmetry']     BI-RADS 5  \n",
      "36                              ['Focal Asymmetry']     BI-RADS 5  \n",
      "38                              ['Focal Asymmetry']     BI-RADS 3  \n",
      "51                              ['Focal Asymmetry']     BI-RADS 3  \n",
      "56                              ['Focal Asymmetry']     BI-RADS 3  \n",
      "64                              ['Focal Asymmetry']     BI-RADS 4  \n",
      "67                              ['Focal Asymmetry']     BI-RADS 3  \n",
      "86                              ['Focal Asymmetry']     BI-RADS 4  \n",
      "Architectural Distortion\n",
      "    index                          study_id                          image_id  \\\n",
      "5     212  48975fff28d21f8a852624749fcc7411  9b41ab605b23a804f8891e25b37097fd   \n",
      "6     214  a532d84e9df16bef3a9b4f86acfe722a  6a0be4f170fec63f560775a183182be5   \n",
      "21    604  f16980e8b518373d4748c94ad31207ce  510552a160e46b33a48b8c523568827b   \n",
      "28    774  9d70df5a83f33ec2d4c1f9eed8151f6e  3fcc4242c9e4a841fa6843880f1b18de   \n",
      "37    995  6db648c3e684230add2cb3189b3e7f82  9f57b616c50edb4a67ef9711917e86e5   \n",
      "58   1397  5bf7f3c05f93f02085789af720be64d6  5a5a99a13dc38d2f7dbfd0e89f941d31   \n",
      "59   1418  f5c548e47e4ac764243e9b068b2d6e5e  6904df2bf7180487ad11bf6da7890b5b   \n",
      "78   1775  9bb21300e3a92937024437cacc180158  347b32bd628a543c96ba6baf027e9781   \n",
      "\n",
      "    height  width         xmin         ymin         xmax         ymax  \\\n",
      "5     3518   2800  2029.780029  1975.160034  2181.250000  2123.020020   \n",
      "6     3518   2800  2370.620117  1512.189941  2497.189941  1603.560059   \n",
      "21    3518   2800  2203.510010  1936.790039  2650.750000  2289.580078   \n",
      "28    3518   2800  2482.629883  1165.599976  2687.510010  1283.109985   \n",
      "37    3518   2800  2636.989990  2024.680054  2771.399902  2139.550049   \n",
      "58    3518   2800  2099.389893  1071.459961  2298.820068  1347.319946   \n",
      "59    3518   2800  2420.080078  1452.599976  2774.659912  1818.030029   \n",
      "78    2812   2012  1505.513093  1313.460722  1979.154989  1866.706299   \n",
      "\n",
      "                      finding_categories breast_birads  \n",
      "5           ['Architectural Distortion']     BI-RADS 4  \n",
      "6           ['Architectural Distortion']     BI-RADS 3  \n",
      "21          ['Architectural Distortion']     BI-RADS 4  \n",
      "28          ['Architectural Distortion']     BI-RADS 4  \n",
      "37          ['Architectural Distortion']     BI-RADS 4  \n",
      "58          ['Architectural Distortion']     BI-RADS 4  \n",
      "59          ['Architectural Distortion']     BI-RADS 4  \n",
      "78  ['Architectural Distortion', 'Mass']     BI-RADS 5  \n",
      "Other\n",
      "Empty DataFrame\n",
      "Columns: [index, study_id, image_id, height, width, xmin, ymin, xmax, ymax, finding_categories, breast_birads]\n",
      "Index: []\n",
      "    index                          study_id                          image_id  \\\n",
      "0      56  8e30fe5fbe424206c9f57ce26f80f6c2  425f59f5c6461ba1bcda816bc0bfccb7   \n",
      "1      86  d51872cb860414480dbedb3733e70724  e507bee7c9fba777c89f4f1a96887f78   \n",
      "2      98  100d1197bd368737356f1da7fc270ae4  6b1dd04208019290c84add37e109fa79   \n",
      "3     136  90bdb495b39d53271b2ccf97cde90bac  1c1d29264b338e71d94bf33db3a2849f   \n",
      "4     180  658602d790b802fb079fe5d2eba494dd  aa02e8c5422114d20da11c573d0ee8ee   \n",
      "..    ...                               ...                               ...   \n",
      "90   2235  68107a7fd1e370b88e161f37cff1c2d7  6ffc6c2d163e10db5e43dd845638f6e7   \n",
      "91   2244  b8acac150be7f949f78dc631a3851f8b  dbe631b24f8759c7f7022513582c39ba   \n",
      "92   2245  b8acac150be7f949f78dc631a3851f8b  dbe631b24f8759c7f7022513582c39ba   \n",
      "93   2246  b8acac150be7f949f78dc631a3851f8b  dbe631b24f8759c7f7022513582c39ba   \n",
      "94   2247  b8acac150be7f949f78dc631a3851f8b  dbe631b24f8759c7f7022513582c39ba   \n",
      "\n",
      "    height  width         xmin         ymin         xmax         ymax  \\\n",
      "0     3518   2800  2068.590088  1064.020020  2291.590088  1302.500000   \n",
      "1     3518   2800  2264.889893  1995.420044  2461.909912  2197.429932   \n",
      "2     3518   2800  2293.830078  1448.420044  2432.510010  1536.189941   \n",
      "3     3518   2800  2743.610107  1814.439941  2798.969971  1925.140015   \n",
      "4     3518   2800  2316.909912  1716.250000  2506.350098  1912.339966   \n",
      "..     ...    ...          ...          ...          ...          ...   \n",
      "90    3580   2675  2299.250000  1311.449951  2657.010010  1762.119995   \n",
      "91    3580   2609  2023.930054  1868.959961  2197.929932  2037.300049   \n",
      "92    3580   2609  1830.119995  1665.260010  2124.360107  1992.040039   \n",
      "93    3580   2609  2173.879883  1673.750000  2333.729980  1825.109985   \n",
      "94    3580   2609  2336.560059  1458.719971  2519.040039  1612.920044   \n",
      "\n",
      "     finding_categories breast_birads  \n",
      "0              ['Mass']     BI-RADS 3  \n",
      "1              ['Mass']     BI-RADS 3  \n",
      "2              ['Mass']     BI-RADS 3  \n",
      "3   ['Focal Asymmetry']     BI-RADS 4  \n",
      "4              ['Mass']     BI-RADS 3  \n",
      "..                  ...           ...  \n",
      "90             ['Mass']     BI-RADS 4  \n",
      "91             ['Mass']     BI-RADS 4  \n",
      "92             ['Mass']     BI-RADS 4  \n",
      "93             ['Mass']     BI-RADS 4  \n",
      "94             ['Mass']     BI-RADS 4  \n",
      "\n",
      "[95 rows x 11 columns]\n"
     ]
    }
   ],
   "source": [
    "try: # Use test images if present.\n",
    "    VALID_DIR_IMAGES = data_configs['TEST_DIR_IMAGES']\n",
    "    VALID_DIR_LABELS = data_configs['TEST_DIR_LABELS']\n",
    "except: # Else use the validation images.\n",
    "    VALID_DIR_IMAGES = data_configs['VALID_DIR_IMAGES']\n",
    "    VALID_DIR_LABELS = data_configs['VALID_DIR_LABELS']\n",
    "NUM_CLASSES = data_configs['NC']\n",
    "CLASSES = data_configs['CLASSES']\n",
    "NUM_WORKERS = args['workers']\n",
    "DEVICE = args['device']\n",
    "BATCH_SIZE = args['batch']\n",
    "\n",
    "# Model configurations\n",
    "IMAGE_SIZE = args['imgsz']\n",
    "\n",
    "# Load the pretrained model\n",
    "create_model1 = create_model[args['model']]\n",
    "if args['weights'] is None:\n",
    "    model = create_model1(num_classes=NUM_CLASSES, norm = None,size= IMAGE_SIZE, coco_model=False)\n",
    "\n",
    "\n",
    "# Load weights.\n",
    "if args['weights'] is not None:\n",
    "    model = create_model1(num_classes=NUM_CLASSES, norm = None,size= IMAGE_SIZE, coco_model=False)\n",
    "    checkpoint = torch.load(args['weights'], map_location=DEVICE)\n",
    "    model.load_state_dict(checkpoint['model_state_dict'])\n",
    "    valid_dataset = create_valid_dataset(\n",
    "        VALID_DIR_IMAGES, \n",
    "        VALID_DIR_LABELS, \n",
    "        IMAGE_SIZE, \n",
    "        CLASSES,\n",
    "    )\n",
    "model.to(DEVICE).eval()\n",
    "\n",
    "valid_loader = create_valid_loader(valid_dataset, BATCH_SIZE, NUM_WORKERS)\n",
    "\n"
   ]
  },
  {
   "cell_type": "code",
   "execution_count": 5,
   "id": "f63491df",
   "metadata": {
    "scrolled": true
   },
   "outputs": [
    {
     "name": "stderr",
     "output_type": "stream",
     "text": [
      "100%|███████████████████████████████████████████████████████████████████████████████████████████████████████████████████████████████████████████████████████████████████████████████████████████████████████████████████████████████████████████████████████████████████████████████████| 500/500 [01:49<00:00,  4.55it/s]\n"
     ]
    },
    {
     "name": "stdout",
     "output_type": "stream",
     "text": [
      "[0.00000000e+00 1.00000000e-06 2.00000000e-06 ... 9.97997998e-01\n",
      " 9.98998999e-01 1.00000000e+00]\n"
     ]
    },
    {
     "data": {
      "application/vnd.jupyter.widget-view+json": {
       "model_id": "bb43424dc44741bda95eef5015b7ae41",
       "version_major": 2,
       "version_minor": 0
      },
      "text/plain": [
       "  0%|          | 0/1999 [00:00<?, ?it/s]"
      ]
     },
     "metadata": {},
     "output_type": "display_data"
    },
    {
     "name": "stdout",
     "output_type": "stream",
     "text": [
      "1 1e-06\n",
      "2 1e-06\n",
      "3 4e-06\n",
      "5 5.1e-05\n",
      "6 0.000127\n",
      "4 0.000156\n",
      "445 445\n",
      "Mass [0.83058824 0.9        0.9        0.9       ]\n",
      "340 340\n",
      "Suspicious Calcification [0.91666667 0.95833333 0.95833333 0.95833333]\n",
      "323 323\n",
      "Asymmetry [1. 1. 1. 1.]\n",
      "577 577\n",
      "Focal Asymmetry [0.78571429 0.92857143 0.92857143 0.92857143]\n",
      "443 443\n",
      "Architectural Distortion [0.8004386 0.875     1.        1.       ]\n",
      "540 540\n",
      "Other [1. 1. 1. 1.]\n"
     ]
    },
    {
     "data": {
      "image/png": "[encoded data removed]",
      "text/plain": [
       "<Figure size 1500x1000 with 1 Axes>"
      ]
     },
     "metadata": {},
     "output_type": "display_data"
    }
   ],
   "source": [
    "@torch.inference_mode()\n",
    "def evaluate(\n",
    "    model, \n",
    "    data_loader, \n",
    "    device, \n",
    "    num_classes =NUM_CLASSES,\n",
    "    out_dir=None,\n",
    "    classes=None,\n",
    "    colors=None\n",
    "):\n",
    "    n_threads = torch.get_num_threads()\n",
    "    # FIXME remove this and make paste_masks_in_image run on the GPU\n",
    "    torch.set_num_threads(1)\n",
    "    cpu_device = torch.device(\"cpu\")\n",
    "    model.eval()\n",
    "    metric_logger = utils.MetricLogger(delimiter=\"  \")\n",
    "    header = \"Test:\"\n",
    "\n",
    "    target = []\n",
    "    preds = []\n",
    "    counter = 0\n",
    "    for images, targets in tqdm(metric_logger.log_every(data_loader, 100, header), total=len(data_loader)):\n",
    "        counter += 1\n",
    "        images = list(img.to(device) for img in images)\n",
    "\n",
    "        if torch.cuda.is_available():\n",
    "            torch.cuda.synchronize()\n",
    "        model_time = time.time()\n",
    "        with torch.no_grad():\n",
    "            outputs = model(images)\n",
    "            #print('out',outputs)\n",
    "            #print('tar',targets)\n",
    "        #####################################\n",
    "        for i in range(len(images)):\n",
    "            true_dict = dict()\n",
    "            preds_dict = dict()\n",
    "            true_dict['boxes'] = targets[i]['boxes'].detach().cpu()\n",
    "            true_dict['labels'] = targets[i]['labels'].detach().cpu()\n",
    "            preds_dict['boxes'] = outputs[i]['boxes'].detach().cpu()\n",
    "            preds_dict['scores'] = outputs[i]['scores'].detach().cpu()\n",
    "            preds_dict['labels'] = outputs[i]['labels'].detach().cpu()\n",
    "            preds.append(preds_dict)\n",
    "            target.append(true_dict)\n",
    "        #####################################\n",
    "\n",
    "        outputs = [{k: v.to(cpu_device) for k, v in t.items()} for t in outputs]\n",
    "    # gather the stats from all processes\n",
    "    metric_logger.synchronize_between_processes()\n",
    "    torch.set_num_threads(n_threads)\n",
    "    #metric = MeanAveragePrecision(class_metrics=args['verbose'], iou_thresholds =[0.2])\n",
    "    metric = froc.FROC(num_classes, classes)\n",
    "    #metric.update(preds, target)\n",
    "    #metric_summary = metric.compute()\n",
    "    metric_summary = metric.compute(preds,target)\n",
    "    return metric_summary\n",
    "stats = evaluate(\n",
    "        model, \n",
    "        valid_loader, \n",
    "        device=DEVICE,\n",
    "        classes=CLASSES,\n",
    "    )"
   ]
  },
  {
   "cell_type": "code",
   "execution_count": null,
   "id": "c794fcae",
   "metadata": {},
   "outputs": [],
   "source": []
  },
  {
   "cell_type": "code",
   "execution_count": 6,
   "id": "029ceb48",
   "metadata": {},
   "outputs": [
    {
     "name": "stdout",
     "output_type": "stream",
     "text": [
      "({'boxes': tensor([], size=(0, 4)), 'labels': tensor([], dtype=torch.int64), 'area': tensor([]), 'iscrowd': tensor([]), 'image_id': tensor([0]), 'size': tensor([1700, 1400])}, {'boxes': tensor([], size=(0, 4)), 'labels': tensor([], dtype=torch.int64), 'area': tensor([]), 'iscrowd': tensor([]), 'image_id': tensor([1]), 'size': tensor([1700, 1400])})\n",
      "torch.Size([1000, 4])\n",
      "14\n"
     ]
    }
   ],
   "source": [
    "images, targets = valid_loader.__iter__().__next__()\n",
    "print(targets)\n",
    "images\n",
    "model.eval()\n",
    "images = list(img.to(DEVICE) for img in images)\n",
    "\n",
    "if torch.cuda.is_available():\n",
    "    torch.cuda.synchronize()\n",
    "with torch.no_grad():\n",
    "    original_image_sizes: List[Tuple[int, int]] = []\n",
    "    for img in images:\n",
    "        val = img.shape[-2:]\n",
    "        torch._assert(\n",
    "            len(val) == 2,\n",
    "            f\"expecting the last two dimensions of the Tensor to be H and W instead got {img.shape[-2:]}\",\n",
    "        )\n",
    "        original_image_sizes.append((val[0], val[1]))\n",
    "    images, target =model.transform(images)\n",
    "    features = model.backbone(images.tensors)\n",
    "    if isinstance(features, torch.Tensor):\n",
    "        features = OrderedDict([(\"0\", features)])\n",
    "    proposals, proposal_losses = model.rpn(images, features)\n",
    "    print(proposals[0].shape)\n",
    "    detections, detector_losses = model.roi_heads(features, proposals, images.image_sizes)\n",
    "    detections = model.transform.postprocess(detections, images.image_sizes, original_image_sizes)  # type: ignore[operator]\n",
    "    print(len(detections[0]['boxes']))"
   ]
  },
  {
   "cell_type": "code",
   "execution_count": 7,
   "id": "6d281f14",
   "metadata": {},
   "outputs": [
    {
     "name": "stdout",
     "output_type": "stream",
     "text": [
      "None\n"
     ]
    }
   ],
   "source": [
    "print(target)"
   ]
  },
  {
   "cell_type": "code",
   "execution_count": 8,
   "id": "04365523",
   "metadata": {},
   "outputs": [],
   "source": [
    "invTrans = T.Normalize(\n",
    "                mean=[-0.485 / 0.229, -0.456 / 0.224, -0.406 / 0.225],\n",
    "                std=[1 / 0.229, 1 / 0.224, 1 / 0.225]\n",
    "            )"
   ]
  },
  {
   "cell_type": "code",
   "execution_count": 11,
   "id": "c45b5fd5",
   "metadata": {
    "scrolled": true
   },
   "outputs": [
    {
     "name": "stderr",
     "output_type": "stream",
     "text": [
      "  0%|▌                                                                                                                                                                                                                                                                                    | 1/500 [00:01<12:18,  1.48s/it]"
     ]
    },
    {
     "name": "stdout",
     "output_type": "stream",
     "text": [
      "0\n",
      "1\n"
     ]
    },
    {
     "name": "stderr",
     "output_type": "stream",
     "text": [
      "\r",
      "  0%|█                                                                                                                                                                                                                                                                                    | 2/500 [00:01<06:10,  1.34it/s]"
     ]
    },
    {
     "name": "stdout",
     "output_type": "stream",
     "text": [
      "0\n",
      "1\n"
     ]
    },
    {
     "name": "stderr",
     "output_type": "stream",
     "text": [
      "\r",
      "  1%|█▋                                                                                                                                                                                                                                                                                   | 3/500 [00:01<04:18,  1.93it/s]"
     ]
    },
    {
     "name": "stdout",
     "output_type": "stream",
     "text": [
      "0\n",
      "tensor(1265.9453) tensor(815.7120) tensor(1334.6750) tensor(896.5761)\n",
      "1\n"
     ]
    },
    {
     "name": "stderr",
     "output_type": "stream",
     "text": [
      "\r",
      "  1%|██▏                                                                                                                                                                                                                                                                                  | 4/500 [00:02<03:23,  2.43it/s]"
     ]
    },
    {
     "name": "stdout",
     "output_type": "stream",
     "text": [
      "0\n",
      "1\n"
     ]
    },
    {
     "name": "stderr",
     "output_type": "stream",
     "text": [
      "\r",
      "  1%|██▊                                                                                                                                                                                                                                                                                  | 5/500 [00:02<03:14,  2.54it/s]"
     ]
    },
    {
     "name": "stdout",
     "output_type": "stream",
     "text": [
      "0\n",
      "1\n"
     ]
    },
    {
     "name": "stderr",
     "output_type": "stream",
     "text": [
      "\r",
      "  1%|███▎                                                                                                                                                                                                                                                                                 | 6/500 [00:02<02:47,  2.96it/s]"
     ]
    },
    {
     "name": "stdout",
     "output_type": "stream",
     "text": [
      "tensor(1339.7224) tensor(857.8333) tensor(1383.0859) tensor(941.7805)\n",
      "tensor(1141.7729) tensor(566.5403) tensor(1400.) tensor(1132.5828)\n",
      "0\n",
      "1\n"
     ]
    },
    {
     "name": "stderr",
     "output_type": "stream",
     "text": [
      "\r",
      "  1%|███▉                                                                                                                                                                                                                                                                                 | 7/500 [00:03<02:26,  3.36it/s]"
     ]
    },
    {
     "name": "stdout",
     "output_type": "stream",
     "text": [
      "0\n",
      "1\n"
     ]
    },
    {
     "name": "stderr",
     "output_type": "stream",
     "text": [
      "\r",
      "  2%|████▍                                                                                                                                                                                                                                                                                | 8/500 [00:03<02:20,  3.49it/s]"
     ]
    },
    {
     "name": "stdout",
     "output_type": "stream",
     "text": [
      "tensor(1253.8840) tensor(744.1080) tensor(1396.2349) tensor(865.8071)\n",
      "tensor(1203.8575) tensor(826.2133) tensor(1265.4198) tensor(885.5807)\n",
      "0\n",
      "tensor(1146.4937) tensor(687.0640) tensor(1276.5376) tensor(797.2321)\n",
      "1\n"
     ]
    },
    {
     "name": "stderr",
     "output_type": "stream",
     "text": [
      "\r",
      "  2%|████▉                                                                                                                                                                                                                                                                                | 9/500 [00:03<02:18,  3.56it/s]"
     ]
    },
    {
     "name": "stdout",
     "output_type": "stream",
     "text": [
      "tensor(1187.1594) tensor(714.2683) tensor(1340.5464) tensor(862.8049)\n",
      "0\n",
      "1\n"
     ]
    },
    {
     "name": "stderr",
     "output_type": "stream",
     "text": [
      "\r",
      "  2%|█████▌                                                                                                                                                                                                                                                                              | 10/500 [00:03<02:11,  3.73it/s]"
     ]
    },
    {
     "name": "stdout",
     "output_type": "stream",
     "text": [
      "0\n",
      "1\n"
     ]
    },
    {
     "name": "stderr",
     "output_type": "stream",
     "text": [
      "\r",
      "  2%|██████                                                                                                                                                                                                                                                                              | 11/500 [00:04<02:04,  3.94it/s]"
     ]
    },
    {
     "name": "stdout",
     "output_type": "stream",
     "text": [
      "0\n",
      "tensor(1250.8916) tensor(544.1373) tensor(1373.1311) tensor(658.7722)\n",
      "1\n"
     ]
    },
    {
     "name": "stderr",
     "output_type": "stream",
     "text": [
      "\r",
      "  2%|██████▌                                                                                                                                                                                                                                                                             | 12/500 [00:04<02:02,  3.99it/s]"
     ]
    },
    {
     "name": "stdout",
     "output_type": "stream",
     "text": [
      "tensor(1127.0996) tensor(656.9572) tensor(1275.5479) tensor(811.6924)\n",
      "tensor(1266.1001) tensor(762.0095) tensor(1339.4199) tensor(835.2618)\n",
      "0\n",
      "1\n"
     ]
    },
    {
     "name": "stderr",
     "output_type": "stream",
     "text": [
      "\r",
      "  3%|███████▏                                                                                                                                                                                                                                                                            | 13/500 [00:04<01:55,  4.22it/s]"
     ]
    },
    {
     "name": "stdout",
     "output_type": "stream",
     "text": [
      "tensor(1239.7476) tensor(791.7556) tensor(1319.7246) tensor(879.6585)\n",
      "0\n",
      "1\n"
     ]
    },
    {
     "name": "stderr",
     "output_type": "stream",
     "text": [
      "\r",
      "  3%|███████▋                                                                                                                                                                                                                                                                            | 14/500 [00:04<01:57,  4.15it/s]"
     ]
    },
    {
     "name": "stdout",
     "output_type": "stream",
     "text": [
      "0\n",
      "1\n"
     ]
    },
    {
     "name": "stderr",
     "output_type": "stream",
     "text": [
      "\r",
      "  3%|████████▎                                                                                                                                                                                                                                                                           | 15/500 [00:04<01:54,  4.23it/s]"
     ]
    },
    {
     "name": "stdout",
     "output_type": "stream",
     "text": [
      "0\n",
      "1\n"
     ]
    },
    {
     "name": "stderr",
     "output_type": "stream",
     "text": [
      "\r",
      "  3%|████████▊                                                                                                                                                                                                                                                                           | 16/500 [00:05<01:58,  4.10it/s]"
     ]
    },
    {
     "name": "stdout",
     "output_type": "stream",
     "text": [
      "0\n",
      "1\n"
     ]
    },
    {
     "name": "stderr",
     "output_type": "stream",
     "text": [
      "\r",
      "  3%|█████████▍                                                                                                                                                                                                                                                                          | 17/500 [00:05<01:55,  4.18it/s]"
     ]
    },
    {
     "name": "stdout",
     "output_type": "stream",
     "text": [
      "0\n",
      "1\n"
     ]
    },
    {
     "name": "stderr",
     "output_type": "stream",
     "text": [
      "\r",
      "  4%|█████████▉                                                                                                                                                                                                                                                                          | 18/500 [00:05<02:01,  3.97it/s]"
     ]
    },
    {
     "name": "stdout",
     "output_type": "stream",
     "text": [
      "tensor(1001.4338) tensor(682.1474) tensor(1098.9814) tensor(774.6763)\n",
      "0\n",
      "1\n"
     ]
    },
    {
     "name": "stderr",
     "output_type": "stream",
     "text": [
      "\r",
      "  4%|██████████▍                                                                                                                                                                                                                                                                         | 19/500 [00:05<01:58,  4.05it/s]"
     ]
    },
    {
     "name": "stdout",
     "output_type": "stream",
     "text": [
      "0\n",
      "1\n"
     ]
    },
    {
     "name": "stderr",
     "output_type": "stream",
     "text": [
      "\r",
      "  4%|███████████                                                                                                                                                                                                                                                                         | 20/500 [00:06<02:00,  3.99it/s]"
     ]
    },
    {
     "name": "stdout",
     "output_type": "stream",
     "text": [
      "0\n",
      "tensor(1126.8514) tensor(387.1548) tensor(1211.9252) tensor(474.3207)\n",
      "1\n"
     ]
    },
    {
     "name": "stderr",
     "output_type": "stream",
     "text": [
      "\r",
      "  4%|███████████▌                                                                                                                                                                                                                                                                        | 21/500 [00:06<01:58,  4.03it/s]"
     ]
    },
    {
     "name": "stdout",
     "output_type": "stream",
     "text": [
      "tensor(1264.4603) tensor(815.8678) tensor(1330.2533) tensor(885.7700)\n",
      "0\n",
      "1\n"
     ]
    },
    {
     "name": "stderr",
     "output_type": "stream",
     "text": [
      "\r",
      "  4%|████████████▏                                                                                                                                                                                                                                                                       | 22/500 [00:06<01:57,  4.07it/s]"
     ]
    },
    {
     "name": "stdout",
     "output_type": "stream",
     "text": [
      "0\n",
      "1\n"
     ]
    },
    {
     "name": "stderr",
     "output_type": "stream",
     "text": [
      "\r",
      "  5%|████████████▋                                                                                                                                                                                                                                                                       | 23/500 [00:06<01:57,  4.08it/s]"
     ]
    },
    {
     "name": "stdout",
     "output_type": "stream",
     "text": [
      "0\n",
      "1\n"
     ]
    },
    {
     "name": "stderr",
     "output_type": "stream",
     "text": [
      "\r",
      "  5%|█████████████▏                                                                                                                                                                                                                                                                      | 24/500 [00:07<01:57,  4.04it/s]"
     ]
    },
    {
     "name": "stdout",
     "output_type": "stream",
     "text": [
      "0\n",
      "tensor(1237.4510) tensor(602.4578) tensor(1388.3278) tensor(954.7757)\n",
      "1\n"
     ]
    },
    {
     "name": "stderr",
     "output_type": "stream",
     "text": [
      "\r",
      "  5%|█████████████▊                                                                                                                                                                                                                                                                      | 25/500 [00:07<01:52,  4.22it/s]"
     ]
    },
    {
     "name": "stdout",
     "output_type": "stream",
     "text": [
      "0\n",
      "1\n"
     ]
    },
    {
     "name": "stderr",
     "output_type": "stream",
     "text": [
      "\r",
      "  5%|██████████████▎                                                                                                                                                                                                                                                                     | 26/500 [00:07<01:53,  4.18it/s]"
     ]
    },
    {
     "name": "stdout",
     "output_type": "stream",
     "text": [
      "tensor(1280.8708) tensor(559.3672) tensor(1374.7476) tensor(641.8131)\n",
      "0\n",
      "tensor(822.2441) tensor(723.3573) tensor(900.4370) tensor(809.0354)\n",
      "1\n"
     ]
    },
    {
     "name": "stderr",
     "output_type": "stream",
     "text": [
      "\r",
      "  5%|██████████████▉                                                                                                                                                                                                                                                                     | 27/500 [00:07<01:51,  4.22it/s]"
     ]
    },
    {
     "name": "stdout",
     "output_type": "stream",
     "text": [
      "0\n",
      "1\n"
     ]
    },
    {
     "name": "stderr",
     "output_type": "stream",
     "text": [
      "\r",
      "  6%|███████████████▍                                                                                                                                                                                                                                                                    | 28/500 [00:08<01:53,  4.15it/s]"
     ]
    },
    {
     "name": "stdout",
     "output_type": "stream",
     "text": [
      "tensor(1045.3878) tensor(684.4718) tensor(1187.7577) tensor(839.3347)\n",
      "0\n",
      "1\n"
     ]
    },
    {
     "name": "stderr",
     "output_type": "stream",
     "text": [
      "\r",
      "  6%|████████████████                                                                                                                                                                                                                                                                    | 29/500 [00:08<01:54,  4.12it/s]"
     ]
    },
    {
     "name": "stdout",
     "output_type": "stream",
     "text": [
      "tensor(901.3058) tensor(954.5084) tensor(969.4467) tensor(1025.3468)\n",
      "tensor(855.9121) tensor(763.2911) tensor(943.9341) tensor(864.1197)\n",
      "tensor(1031.5154) tensor(958.4306) tensor(1173.3176) tensor(1090.9272)\n",
      "tensor(1212.0743) tensor(562.8379) tensor(1297.9823) tensor(627.7240)\n",
      "tensor(1113.4460) tensor(785.4579) tensor(1247.3887) tensor(909.8275)\n",
      "0\n",
      "1\n"
     ]
    },
    {
     "name": "stderr",
     "output_type": "stream",
     "text": [
      "\r",
      "  6%|████████████████▌                                                                                                                                                                                                                                                                   | 30/500 [00:08<01:58,  3.98it/s]"
     ]
    },
    {
     "name": "stdout",
     "output_type": "stream",
     "text": [
      "0\n",
      "1\n"
     ]
    },
    {
     "name": "stderr",
     "output_type": "stream",
     "text": [
      "\r",
      "  6%|█████████████████                                                                                                                                                                                                                                                                   | 31/500 [00:08<01:50,  4.24it/s]"
     ]
    },
    {
     "name": "stdout",
     "output_type": "stream",
     "text": [
      "tensor(1069.8022) tensor(883.0494) tensor(1291.1479) tensor(1075.3628)\n",
      "0\n",
      "tensor(1101.6488) tensor(524.7855) tensor(1230.1786) tensor(686.1838)\n",
      "1\n"
     ]
    },
    {
     "name": "stderr",
     "output_type": "stream",
     "text": [
      "\r",
      "  6%|█████████████████▋                                                                                                                                                                                                                                                                  | 32/500 [00:09<01:55,  4.05it/s]"
     ]
    },
    {
     "name": "stdout",
     "output_type": "stream",
     "text": [
      "0\n",
      "1\n"
     ]
    },
    {
     "name": "stderr",
     "output_type": "stream",
     "text": [
      "\r",
      "  7%|██████████████████▏                                                                                                                                                                                                                                                                 | 33/500 [00:09<01:51,  4.20it/s]"
     ]
    },
    {
     "name": "stdout",
     "output_type": "stream",
     "text": [
      "0\n",
      "1\n"
     ]
    },
    {
     "name": "stderr",
     "output_type": "stream",
     "text": [
      "\r",
      "  7%|██████████████████▊                                                                                                                                                                                                                                                                 | 34/500 [00:09<01:50,  4.23it/s]"
     ]
    },
    {
     "name": "stdout",
     "output_type": "stream",
     "text": [
      "0\n",
      "1\n"
     ]
    },
    {
     "name": "stderr",
     "output_type": "stream",
     "text": [
      "\r",
      "  7%|███████████████████▎                                                                                                                                                                                                                                                                | 35/500 [00:09<01:51,  4.17it/s]"
     ]
    },
    {
     "name": "stdout",
     "output_type": "stream",
     "text": [
      "tensor(1038.8644) tensor(503.3510) tensor(1153.5775) tensor(634.2767)\n",
      "0\n",
      "1\n"
     ]
    },
    {
     "name": "stderr",
     "output_type": "stream",
     "text": [
      "\r",
      "  7%|███████████████████▊                                                                                                                                                                                                                                                                | 36/500 [00:10<01:53,  4.08it/s]"
     ]
    },
    {
     "name": "stdout",
     "output_type": "stream",
     "text": [
      "0\n",
      "1\n"
     ]
    },
    {
     "name": "stderr",
     "output_type": "stream",
     "text": [
      "\r",
      "  7%|████████████████████▍                                                                                                                                                                                                                                                               | 37/500 [00:10<01:58,  3.91it/s]"
     ]
    },
    {
     "name": "stdout",
     "output_type": "stream",
     "text": [
      "tensor(1044.3142) tensor(631.3287) tensor(1128.0620) tensor(705.0082)\n",
      "tensor(804.3196) tensor(817.1119) tensor(859.1310) tensor(872.8990)\n",
      "0\n",
      "1\n"
     ]
    },
    {
     "name": "stderr",
     "output_type": "stream",
     "text": [
      "\r",
      "  8%|████████████████████▉                                                                                                                                                                                                                                                               | 38/500 [00:10<02:04,  3.70it/s]"
     ]
    },
    {
     "name": "stdout",
     "output_type": "stream",
     "text": [
      "0\n",
      "1\n"
     ]
    },
    {
     "name": "stderr",
     "output_type": "stream",
     "text": [
      "\r",
      "  8%|█████████████████████▌                                                                                                                                                                                                                                                              | 39/500 [00:10<02:02,  3.77it/s]"
     ]
    },
    {
     "name": "stdout",
     "output_type": "stream",
     "text": [
      "0\n",
      "1\n"
     ]
    },
    {
     "name": "stderr",
     "output_type": "stream",
     "text": [
      "\r",
      "  8%|██████████████████████                                                                                                                                                                                                                                                              | 40/500 [00:11<02:04,  3.70it/s]"
     ]
    },
    {
     "name": "stdout",
     "output_type": "stream",
     "text": [
      "0\n",
      "tensor(1051.4575) tensor(711.2463) tensor(1167.6201) tensor(871.4122)\n",
      "1\n"
     ]
    },
    {
     "name": "stderr",
     "output_type": "stream",
     "text": [
      "\r",
      "  8%|██████████████████████▋                                                                                                                                                                                                                                                             | 41/500 [00:11<02:00,  3.81it/s]"
     ]
    },
    {
     "name": "stdout",
     "output_type": "stream",
     "text": [
      "tensor(1186.1028) tensor(317.5141) tensor(1345.4937) tensor(521.3850)\n",
      "0\n",
      "1\n"
     ]
    },
    {
     "name": "stderr",
     "output_type": "stream",
     "text": [
      "\r",
      "  8%|███████████████████████▏                                                                                                                                                                                                                                                            | 42/500 [00:11<01:56,  3.92it/s]"
     ]
    },
    {
     "name": "stdout",
     "output_type": "stream",
     "text": [
      "tensor(1136.8317) tensor(387.1541) tensor(1281.6376) tensor(541.0805)\n",
      "0\n",
      "1\n"
     ]
    },
    {
     "name": "stderr",
     "output_type": "stream",
     "text": [
      "\r",
      "  9%|███████████████████████▋                                                                                                                                                                                                                                                            | 43/500 [00:11<01:51,  4.08it/s]"
     ]
    },
    {
     "name": "stdout",
     "output_type": "stream",
     "text": [
      "tensor(802.7975) tensor(795.9980) tensor(867.1415) tensor(865.5438)\n",
      "0\n",
      "tensor(1034.7352) tensor(459.3641) tensor(1144.9967) tensor(576.3790)\n",
      "1\n"
     ]
    },
    {
     "name": "stderr",
     "output_type": "stream",
     "text": [
      "\r",
      "  9%|████████████████████████▎                                                                                                                                                                                                                                                           | 44/500 [00:12<01:55,  3.95it/s]"
     ]
    },
    {
     "name": "stdout",
     "output_type": "stream",
     "text": [
      "tensor(1303.0752) tensor(719.9594) tensor(1373.4346) tensor(783.5029)\n",
      "0\n",
      "1\n"
     ]
    },
    {
     "name": "stderr",
     "output_type": "stream",
     "text": [
      "\r",
      "  9%|████████████████████████▊                                                                                                                                                                                                                                                           | 45/500 [00:12<01:51,  4.08it/s]"
     ]
    },
    {
     "name": "stdout",
     "output_type": "stream",
     "text": [
      "0\n",
      "tensor(1154.8585) tensor(619.4769) tensor(1276.9935) tensor(722.9948)\n",
      "tensor(1332.8712) tensor(1073.3806) tensor(1391.6986) tensor(1140.6169)\n",
      "1\n"
     ]
    },
    {
     "name": "stderr",
     "output_type": "stream",
     "text": [
      "\r",
      "  9%|█████████████████████████▍                                                                                                                                                                                                                                                          | 46/500 [00:12<01:48,  4.18it/s]"
     ]
    },
    {
     "name": "stdout",
     "output_type": "stream",
     "text": [
      "0\n",
      "tensor(1085.8359) tensor(1049.0310) tensor(1142.8357) tensor(1125.1814)\n",
      "1\n"
     ]
    },
    {
     "name": "stderr",
     "output_type": "stream",
     "text": [
      "\r",
      "  9%|█████████████████████████▉                                                                                                                                                                                                                                                          | 47/500 [00:12<01:49,  4.12it/s]"
     ]
    },
    {
     "name": "stdout",
     "output_type": "stream",
     "text": [
      "0\n",
      "tensor(1024.8036) tensor(557.6102) tensor(1229.5194) tensor(815.7710)\n",
      "1\n"
     ]
    },
    {
     "name": "stderr",
     "output_type": "stream",
     "text": [
      "\r",
      " 10%|██████████████████████████▍                                                                                                                                                                                                                                                         | 48/500 [00:13<01:48,  4.16it/s]"
     ]
    },
    {
     "name": "stdout",
     "output_type": "stream",
     "text": [
      "0\n",
      "tensor(1233.1123) tensor(908.3502) tensor(1400.) tensor(1122.7522)\n",
      "1\n"
     ]
    },
    {
     "name": "stderr",
     "output_type": "stream",
     "text": [
      "\r",
      " 10%|███████████████████████████                                                                                                                                                                                                                                                         | 49/500 [00:13<01:49,  4.11it/s]"
     ]
    },
    {
     "name": "stdout",
     "output_type": "stream",
     "text": [
      "0\n",
      "1\n"
     ]
    },
    {
     "name": "stderr",
     "output_type": "stream",
     "text": [
      "\r",
      " 10%|███████████████████████████▌                                                                                                                                                                                                                                                        | 50/500 [00:13<01:48,  4.14it/s]"
     ]
    },
    {
     "name": "stdout",
     "output_type": "stream",
     "text": [
      "0\n",
      "1\n"
     ]
    },
    {
     "name": "stderr",
     "output_type": "stream",
     "text": [
      "\r",
      " 10%|████████████████████████████▏                                                                                                                                                                                                                                                       | 51/500 [00:13<01:50,  4.07it/s]"
     ]
    },
    {
     "name": "stdout",
     "output_type": "stream",
     "text": [
      "tensor(933.9917) tensor(561.0162) tensor(1181.3474) tensor(1016.8916)\n",
      "0\n",
      "tensor(1060.1411) tensor(358.0268) tensor(1164.2844) tensor(471.6245)\n",
      "tensor(1221.5491) tensor(304.3319) tensor(1381.3547) tensor(467.3205)\n",
      "1\n"
     ]
    },
    {
     "name": "stderr",
     "output_type": "stream",
     "text": [
      "\r",
      " 10%|████████████████████████████▋                                                                                                                                                                                                                                                       | 52/500 [00:14<01:50,  4.04it/s]"
     ]
    },
    {
     "name": "stdout",
     "output_type": "stream",
     "text": [
      "tensor(1210.2549) tensor(777.8206) tensor(1367.0696) tensor(944.3457)\n",
      "0\n",
      "1\n"
     ]
    },
    {
     "name": "stderr",
     "output_type": "stream",
     "text": [
      "\r",
      " 11%|█████████████████████████████▎                                                                                                                                                                                                                                                      | 53/500 [00:14<01:50,  4.04it/s]"
     ]
    },
    {
     "name": "stdout",
     "output_type": "stream",
     "text": [
      "0\n",
      "1\n"
     ]
    },
    {
     "name": "stderr",
     "output_type": "stream",
     "text": [
      "\r",
      " 11%|█████████████████████████████▊                                                                                                                                                                                                                                                      | 54/500 [00:14<01:52,  3.97it/s]"
     ]
    },
    {
     "name": "stdout",
     "output_type": "stream",
     "text": [
      "0\n",
      "1\n"
     ]
    },
    {
     "name": "stderr",
     "output_type": "stream",
     "text": [
      "\r",
      " 11%|██████████████████████████████▎                                                                                                                                                                                                                                                     | 55/500 [00:14<01:51,  3.99it/s]"
     ]
    },
    {
     "name": "stdout",
     "output_type": "stream",
     "text": [
      "0\n",
      "1\n"
     ]
    },
    {
     "name": "stderr",
     "output_type": "stream",
     "text": [
      "\r",
      " 11%|██████████████████████████████▉                                                                                                                                                                                                                                                     | 56/500 [00:15<01:49,  4.06it/s]"
     ]
    },
    {
     "name": "stdout",
     "output_type": "stream",
     "text": [
      "tensor(1182.7230) tensor(589.1475) tensor(1270.4762) tensor(675.8768)\n",
      "0\n",
      "1\n"
     ]
    },
    {
     "name": "stderr",
     "output_type": "stream",
     "text": [
      "\r",
      " 11%|███████████████████████████████▍                                                                                                                                                                                                                                                    | 57/500 [00:15<01:46,  4.14it/s]"
     ]
    },
    {
     "name": "stdout",
     "output_type": "stream",
     "text": [
      "tensor(1095.1116) tensor(982.3265) tensor(1156.9219) tensor(1053.6267)\n",
      "0\n",
      "tensor(1270.3279) tensor(844.0185) tensor(1339.1912) tensor(897.8100)\n",
      "1\n"
     ]
    },
    {
     "name": "stderr",
     "output_type": "stream",
     "text": [
      "\r",
      " 12%|████████████████████████████████                                                                                                                                                                                                                                                    | 58/500 [00:15<01:48,  4.07it/s]"
     ]
    },
    {
     "name": "stdout",
     "output_type": "stream",
     "text": [
      "0\n",
      "1\n"
     ]
    },
    {
     "name": "stderr",
     "output_type": "stream",
     "text": [
      "\r",
      " 12%|████████████████████████████████▌                                                                                                                                                                                                                                                   | 59/500 [00:15<01:50,  3.99it/s]"
     ]
    },
    {
     "name": "stdout",
     "output_type": "stream",
     "text": [
      "tensor(1168.1025) tensor(284.8108) tensor(1281.3855) tensor(384.5076)\n",
      "tensor(1039.8513) tensor(628.1307) tensor(1078.2124) tensor(674.4409)\n",
      "0\n",
      "tensor(1013.6162) tensor(461.8596) tensor(1181.5725) tensor(639.4033)\n",
      "tensor(1107.6720) tensor(442.6884) tensor(1162.5763) tensor(499.2583)\n",
      "1\n"
     ]
    },
    {
     "name": "stderr",
     "output_type": "stream",
     "text": [
      "\r",
      " 12%|█████████████████████████████████                                                                                                                                                                                                                                                   | 60/500 [00:16<01:50,  3.99it/s]"
     ]
    },
    {
     "name": "stdout",
     "output_type": "stream",
     "text": [
      "0\n",
      "tensor(1220.2285) tensor(411.0248) tensor(1310.5537) tensor(506.3737)\n",
      "1\n"
     ]
    },
    {
     "name": "stderr",
     "output_type": "stream",
     "text": [
      "\r",
      " 12%|█████████████████████████████████▋                                                                                                                                                                                                                                                  | 61/500 [00:16<01:54,  3.84it/s]"
     ]
    },
    {
     "name": "stdout",
     "output_type": "stream",
     "text": [
      "0\n",
      "tensor(1204.0396) tensor(604.8977) tensor(1336.3684) tensor(746.8860)\n",
      "1\n"
     ]
    },
    {
     "name": "stderr",
     "output_type": "stream",
     "text": [
      "\r",
      " 12%|██████████████████████████████████▏                                                                                                                                                                                                                                                 | 62/500 [00:16<01:52,  3.88it/s]"
     ]
    },
    {
     "name": "stdout",
     "output_type": "stream",
     "text": [
      "tensor(1200.3315) tensor(927.9635) tensor(1367.2117) tensor(1083.9409)\n",
      "0\n",
      "tensor(1065.0980) tensor(587.5284) tensor(1310.4833) tensor(862.2930)\n",
      "1\n"
     ]
    },
    {
     "name": "stderr",
     "output_type": "stream",
     "text": [
      "\r",
      " 13%|██████████████████████████████████▊                                                                                                                                                                                                                                                 | 63/500 [00:16<01:55,  3.79it/s]"
     ]
    },
    {
     "name": "stdout",
     "output_type": "stream",
     "text": [
      "tensor(1105.6769) tensor(887.3127) tensor(1196.5814) tensor(988.8466)\n",
      "tensor(1054.8326) tensor(584.1271) tensor(1290.7704) tensor(942.2711)\n",
      "0\n",
      "1\n"
     ]
    },
    {
     "name": "stderr",
     "output_type": "stream",
     "text": [
      "\r",
      " 13%|███████████████████████████████████▎                                                                                                                                                                                                                                                | 64/500 [00:17<01:53,  3.85it/s]"
     ]
    },
    {
     "name": "stdout",
     "output_type": "stream",
     "text": [
      "tensor(1204.6550) tensor(755.2488) tensor(1281.5886) tensor(815.8923)\n",
      "tensor(1313.4194) tensor(747.9414) tensor(1379.9688) tensor(849.5947)\n",
      "0\n",
      "1\n"
     ]
    },
    {
     "name": "stderr",
     "output_type": "stream",
     "text": [
      "\r",
      " 13%|███████████████████████████████████▉                                                                                                                                                                                                                                                | 65/500 [00:17<01:55,  3.76it/s]"
     ]
    },
    {
     "name": "stdout",
     "output_type": "stream",
     "text": [
      "0\n",
      "1\n"
     ]
    },
    {
     "name": "stderr",
     "output_type": "stream",
     "text": [
      "\r",
      " 13%|████████████████████████████████████▍                                                                                                                                                                                                                                               | 66/500 [00:17<01:52,  3.87it/s]"
     ]
    },
    {
     "name": "stdout",
     "output_type": "stream",
     "text": [
      "0\n",
      "1\n"
     ]
    },
    {
     "name": "stderr",
     "output_type": "stream",
     "text": [
      "\r",
      " 13%|████████████████████████████████████▉                                                                                                                                                                                                                                               | 67/500 [00:17<01:53,  3.80it/s]"
     ]
    },
    {
     "name": "stdout",
     "output_type": "stream",
     "text": [
      "0\n",
      "tensor(1294.2875) tensor(589.9403) tensor(1385.2057) tensor(743.5078)\n",
      "1\n"
     ]
    },
    {
     "name": "stderr",
     "output_type": "stream",
     "text": [
      "\r",
      " 14%|█████████████████████████████████████▌                                                                                                                                                                                                                                              | 68/500 [00:18<01:50,  3.91it/s]"
     ]
    },
    {
     "name": "stdout",
     "output_type": "stream",
     "text": [
      "0\n",
      "1\n"
     ]
    },
    {
     "name": "stderr",
     "output_type": "stream",
     "text": [
      "\r",
      " 14%|██████████████████████████████████████                                                                                                                                                                                                                                              | 69/500 [00:18<01:50,  3.88it/s]"
     ]
    },
    {
     "name": "stdout",
     "output_type": "stream",
     "text": [
      "0\n",
      "1\n",
      "0\n",
      "tensor(1167.1318) tensor(487.4257) tensor(1303.2991) tensor(601.2034)\n",
      "1\n"
     ]
    },
    {
     "data": {
      "image/png": "[encoded data removed]",
      "text/plain": [
       "<Figure size 640x480 with 1 Axes>"
      ]
     },
     "metadata": {},
     "output_type": "display_data"
    },
    {
     "name": "stderr",
     "output_type": "stream",
     "text": [
      " 14%|███████████████████████████████████████▏                                                                                                                                                                                                                                            | 71/500 [00:19<02:41,  2.66it/s]"
     ]
    },
    {
     "name": "stdout",
     "output_type": "stream",
     "text": [
      "0\n",
      "1\n"
     ]
    },
    {
     "name": "stderr",
     "output_type": "stream",
     "text": [
      "\r",
      " 14%|███████████████████████████████████████▋                                                                                                                                                                                                                                            | 72/500 [00:19<02:22,  3.00it/s]"
     ]
    },
    {
     "name": "stdout",
     "output_type": "stream",
     "text": [
      "0\n",
      "tensor(1185.4025) tensor(395.7813) tensor(1319.4620) tensor(535.7443)\n",
      "1\n"
     ]
    },
    {
     "name": "stderr",
     "output_type": "stream",
     "text": [
      "\r",
      " 15%|████████████████████████████████████████▎                                                                                                                                                                                                                                           | 73/500 [00:20<02:10,  3.27it/s]"
     ]
    },
    {
     "name": "stdout",
     "output_type": "stream",
     "text": [
      "0\n",
      "1\n"
     ]
    },
    {
     "name": "stderr",
     "output_type": "stream",
     "text": [
      "\r",
      " 15%|████████████████████████████████████████▊                                                                                                                                                                                                                                           | 74/500 [00:20<02:03,  3.44it/s]"
     ]
    },
    {
     "name": "stdout",
     "output_type": "stream",
     "text": [
      "0\n",
      "tensor(1257.0392) tensor(448.0589) tensor(1380.8917) tensor(573.9111)\n",
      "tensor(1265.7029) tensor(838.0324) tensor(1369.3845) tensor(961.7571)\n",
      "1\n"
     ]
    },
    {
     "name": "stderr",
     "output_type": "stream",
     "text": [
      "\r",
      " 15%|█████████████████████████████████████████▍                                                                                                                                                                                                                                          | 75/500 [00:20<01:53,  3.74it/s]"
     ]
    },
    {
     "name": "stdout",
     "output_type": "stream",
     "text": [
      "0\n",
      "1\n"
     ]
    },
    {
     "name": "stderr",
     "output_type": "stream",
     "text": [
      "\r",
      " 15%|█████████████████████████████████████████▉                                                                                                                                                                                                                                          | 76/500 [00:20<01:48,  3.91it/s]"
     ]
    },
    {
     "name": "stdout",
     "output_type": "stream",
     "text": [
      "0\n",
      "1\n"
     ]
    },
    {
     "name": "stderr",
     "output_type": "stream",
     "text": [
      "\r",
      " 15%|██████████████████████████████████████████▌                                                                                                                                                                                                                                         | 77/500 [00:20<01:43,  4.08it/s]"
     ]
    },
    {
     "name": "stdout",
     "output_type": "stream",
     "text": [
      "0\n",
      "1\n"
     ]
    },
    {
     "name": "stderr",
     "output_type": "stream",
     "text": [
      "\r",
      " 16%|███████████████████████████████████████████                                                                                                                                                                                                                                         | 78/500 [00:21<01:40,  4.20it/s]"
     ]
    },
    {
     "name": "stdout",
     "output_type": "stream",
     "text": [
      "0\n",
      "1\n"
     ]
    },
    {
     "name": "stderr",
     "output_type": "stream",
     "text": [
      "\r",
      " 16%|███████████████████████████████████████████▌                                                                                                                                                                                                                                        | 79/500 [00:21<01:38,  4.26it/s]"
     ]
    },
    {
     "name": "stdout",
     "output_type": "stream",
     "text": [
      "0\n",
      "tensor(1187.4891) tensor(440.2870) tensor(1278.7787) tensor(532.3306)\n",
      "1\n"
     ]
    },
    {
     "name": "stderr",
     "output_type": "stream",
     "text": [
      "\r",
      " 16%|████████████████████████████████████████████▏                                                                                                                                                                                                                                       | 80/500 [00:21<01:38,  4.27it/s]"
     ]
    },
    {
     "name": "stdout",
     "output_type": "stream",
     "text": [
      "0\n",
      "tensor(1262.9456) tensor(367.3483) tensor(1375.3198) tensor(494.7363)\n",
      "1\n"
     ]
    },
    {
     "name": "stderr",
     "output_type": "stream",
     "text": [
      "\r",
      " 16%|████████████████████████████████████████████▋                                                                                                                                                                                                                                       | 81/500 [00:21<01:37,  4.29it/s]"
     ]
    },
    {
     "name": "stdout",
     "output_type": "stream",
     "text": [
      "0\n",
      "1\n"
     ]
    },
    {
     "name": "stderr",
     "output_type": "stream",
     "text": [
      "\r",
      " 16%|█████████████████████████████████████████████▎                                                                                                                                                                                                                                      | 82/500 [00:22<01:37,  4.27it/s]"
     ]
    },
    {
     "name": "stdout",
     "output_type": "stream",
     "text": [
      "tensor(1241.0016) tensor(313.6929) tensor(1387.4865) tensor(466.1461)\n",
      "tensor(1172.9451) tensor(744.3046) tensor(1277.0010) tensor(866.9727)\n",
      "0\n",
      "tensor(1228.0797) tensor(456.6562) tensor(1367.8585) tensor(630.9767)\n",
      "1\n"
     ]
    },
    {
     "name": "stderr",
     "output_type": "stream",
     "text": [
      "\r",
      " 17%|█████████████████████████████████████████████▊                                                                                                                                                                                                                                      | 83/500 [00:22<01:41,  4.09it/s]"
     ]
    },
    {
     "name": "stdout",
     "output_type": "stream",
     "text": [
      "tensor(1215.1578) tensor(435.4052) tensor(1302.4752) tensor(510.2742)\n",
      "tensor(963.6038) tensor(654.4456) tensor(1142.6038) tensor(846.8373)\n",
      "tensor(1012.9958) tensor(450.3509) tensor(1118.0955) tensor(635.5751)\n",
      "0\n",
      "tensor(1211.1229) tensor(434.5186) tensor(1316.5739) tensor(528.1021)\n",
      "tensor(1043.8965) tensor(496.2944) tensor(1215.2678) tensor(646.6164)\n",
      "1\n"
     ]
    },
    {
     "name": "stderr",
     "output_type": "stream",
     "text": [
      "\r",
      " 17%|██████████████████████████████████████████████▎                                                                                                                                                                                                                                     | 84/500 [00:22<01:41,  4.12it/s]"
     ]
    },
    {
     "name": "stdout",
     "output_type": "stream",
     "text": [
      "tensor(1140.8798) tensor(570.5736) tensor(1295.4681) tensor(734.3328)\n",
      "0\n",
      "1\n"
     ]
    },
    {
     "name": "stderr",
     "output_type": "stream",
     "text": [
      "\r",
      " 17%|██████████████████████████████████████████████▉                                                                                                                                                                                                                                     | 85/500 [00:22<01:36,  4.30it/s]"
     ]
    },
    {
     "name": "stdout",
     "output_type": "stream",
     "text": [
      "0\n",
      "tensor(1165.4801) tensor(310.6408) tensor(1234.0443) tensor(380.7550)\n",
      "1\n"
     ]
    },
    {
     "name": "stderr",
     "output_type": "stream",
     "text": [
      "\r",
      " 17%|███████████████████████████████████████████████▍                                                                                                                                                                                                                                    | 86/500 [00:23<01:36,  4.30it/s]"
     ]
    },
    {
     "name": "stdout",
     "output_type": "stream",
     "text": [
      "tensor(1234.6522) tensor(655.5836) tensor(1385.2284) tensor(904.0664)\n",
      "0\n",
      "tensor(1226.8768) tensor(483.2542) tensor(1358.4601) tensor(643.9117)\n",
      "1\n"
     ]
    },
    {
     "name": "stderr",
     "output_type": "stream",
     "text": [
      "\r",
      " 17%|████████████████████████████████████████████████                                                                                                                                                                                                                                    | 87/500 [00:23<01:35,  4.31it/s]"
     ]
    },
    {
     "name": "stdout",
     "output_type": "stream",
     "text": [
      "0\n",
      "1\n"
     ]
    },
    {
     "name": "stderr",
     "output_type": "stream",
     "text": [
      "\r",
      " 18%|████████████████████████████████████████████████▌                                                                                                                                                                                                                                   | 88/500 [00:23<01:34,  4.35it/s]"
     ]
    },
    {
     "name": "stdout",
     "output_type": "stream",
     "text": [
      "tensor(1237.3566) tensor(822.5897) tensor(1292.9996) tensor(884.7849)\n",
      "0\n",
      "1\n"
     ]
    },
    {
     "name": "stderr",
     "output_type": "stream",
     "text": [
      "\r",
      " 18%|█████████████████████████████████████████████████▏                                                                                                                                                                                                                                  | 89/500 [00:23<01:36,  4.27it/s]"
     ]
    },
    {
     "name": "stdout",
     "output_type": "stream",
     "text": [
      "0\n",
      "tensor(1125.9143) tensor(623.1671) tensor(1198.7012) tensor(701.9977)\n",
      "1\n"
     ]
    },
    {
     "name": "stderr",
     "output_type": "stream",
     "text": [
      "\r",
      " 18%|█████████████████████████████████████████████████▋                                                                                                                                                                                                                                  | 90/500 [00:23<01:33,  4.38it/s]"
     ]
    },
    {
     "name": "stdout",
     "output_type": "stream",
     "text": [
      "0\n",
      "1\n"
     ]
    },
    {
     "name": "stderr",
     "output_type": "stream",
     "text": [
      "\r",
      " 18%|██████████████████████████████████████████████████▏                                                                                                                                                                                                                                 | 91/500 [00:24<01:35,  4.30it/s]"
     ]
    },
    {
     "name": "stdout",
     "output_type": "stream",
     "text": [
      "tensor(1097.2863) tensor(943.9328) tensor(1222.1852) tensor(1087.3839)\n",
      "0\n",
      "tensor(1107.1188) tensor(642.4254) tensor(1297.4435) tensor(931.0837)\n",
      "1\n"
     ]
    },
    {
     "name": "stderr",
     "output_type": "stream",
     "text": [
      "\r",
      " 18%|██████████████████████████████████████████████████▊                                                                                                                                                                                                                                 | 92/500 [00:24<01:33,  4.35it/s]"
     ]
    },
    {
     "name": "stdout",
     "output_type": "stream",
     "text": [
      "0\n",
      "1\n"
     ]
    },
    {
     "name": "stderr",
     "output_type": "stream",
     "text": [
      "\r",
      " 19%|███████████████████████████████████████████████████▎                                                                                                                                                                                                                                | 93/500 [00:24<01:30,  4.48it/s]"
     ]
    },
    {
     "name": "stdout",
     "output_type": "stream",
     "text": [
      "0\n",
      "tensor(1305.0471) tensor(920.3276) tensor(1371.5273) tensor(991.3093)\n",
      "1\n"
     ]
    },
    {
     "name": "stderr",
     "output_type": "stream",
     "text": [
      "\r",
      " 19%|███████████████████████████████████████████████████▉                                                                                                                                                                                                                                | 94/500 [00:24<01:32,  4.41it/s]"
     ]
    },
    {
     "name": "stdout",
     "output_type": "stream",
     "text": [
      "0\n",
      "tensor(1016.0722) tensor(638.5494) tensor(1232.8066) tensor(886.8115)\n",
      "1\n"
     ]
    },
    {
     "name": "stderr",
     "output_type": "stream",
     "text": [
      "\r",
      " 19%|████████████████████████████████████████████████████▍                                                                                                                                                                                                                               | 95/500 [00:25<01:30,  4.49it/s]"
     ]
    },
    {
     "name": "stdout",
     "output_type": "stream",
     "text": [
      "tensor(1031.5938) tensor(854.6765) tensor(1105.4016) tensor(909.5978)\n",
      "0\n",
      "1\n"
     ]
    },
    {
     "name": "stderr",
     "output_type": "stream",
     "text": [
      "\r",
      " 19%|████████████████████████████████████████████████████▉                                                                                                                                                                                                                               | 96/500 [00:25<01:33,  4.33it/s]"
     ]
    },
    {
     "name": "stdout",
     "output_type": "stream",
     "text": [
      "tensor(1223.0420) tensor(912.6438) tensor(1348.4231) tensor(1073.2242)\n",
      "tensor(1272.4242) tensor(599.4539) tensor(1355.5560) tensor(676.9036)\n",
      "0\n",
      "tensor(1268.7081) tensor(519.2326) tensor(1393.2643) tensor(666.0449)\n",
      "1\n"
     ]
    },
    {
     "name": "stderr",
     "output_type": "stream",
     "text": [
      "\r",
      " 19%|█████████████████████████████████████████████████████▌                                                                                                                                                                                                                              | 97/500 [00:25<01:32,  4.35it/s]"
     ]
    },
    {
     "name": "stdout",
     "output_type": "stream",
     "text": [
      "0\n",
      "1\n"
     ]
    },
    {
     "name": "stderr",
     "output_type": "stream",
     "text": [
      "\r",
      " 20%|██████████████████████████████████████████████████████                                                                                                                                                                                                                              | 98/500 [00:25<01:30,  4.47it/s]"
     ]
    },
    {
     "name": "stdout",
     "output_type": "stream",
     "text": [
      "0\n",
      "1\n"
     ]
    },
    {
     "name": "stderr",
     "output_type": "stream",
     "text": [
      "\r",
      " 20%|██████████████████████████████████████████████████████▋                                                                                                                                                                                                                             | 99/500 [00:25<01:30,  4.45it/s]"
     ]
    },
    {
     "name": "stdout",
     "output_type": "stream",
     "text": [
      "tensor(1301.2878) tensor(564.7433) tensor(1386.6047) tensor(643.1097)\n",
      "0\n",
      "1\n",
      "0\n"
     ]
    },
    {
     "name": "stderr",
     "output_type": "stream",
     "text": [
      "\r",
      " 20%|███████████████████████████████████████████████████████                                                                                                                                                                                                                            | 100/500 [00:26<01:26,  4.64it/s]"
     ]
    },
    {
     "name": "stdout",
     "output_type": "stream",
     "text": [
      "1\n"
     ]
    },
    {
     "name": "stderr",
     "output_type": "stream",
     "text": [
      "\r",
      " 20%|███████████████████████████████████████████████████████▌                                                                                                                                                                                                                           | 101/500 [00:26<01:26,  4.59it/s]"
     ]
    },
    {
     "name": "stdout",
     "output_type": "stream",
     "text": [
      "0\n",
      "tensor(1346.4950) tensor(784.9912) tensor(1399.3915) tensor(862.0823)\n",
      "1\n"
     ]
    },
    {
     "name": "stderr",
     "output_type": "stream",
     "text": [
      "\r",
      " 20%|████████████████████████████████████████████████████████                                                                                                                                                                                                                           | 102/500 [00:26<01:29,  4.46it/s]"
     ]
    },
    {
     "name": "stdout",
     "output_type": "stream",
     "text": [
      "0\n",
      "tensor(1041.8416) tensor(783.4395) tensor(1223.5554) tensor(908.5671)\n",
      "tensor(1217.6771) tensor(646.1448) tensor(1323.8734) tensor(746.6624)\n",
      "tensor(1216.9233) tensor(728.9142) tensor(1303.2112) tensor(856.5575)\n",
      "1\n"
     ]
    },
    {
     "name": "stderr",
     "output_type": "stream",
     "text": [
      "\r",
      " 21%|████████████████████████████████████████████████████████▋                                                                                                                                                                                                                          | 103/500 [00:26<01:30,  4.39it/s]"
     ]
    },
    {
     "name": "stdout",
     "output_type": "stream",
     "text": [
      "0\n",
      "tensor(1194.5552) tensor(654.5367) tensor(1286.0928) tensor(757.8784)\n",
      "1\n"
     ]
    },
    {
     "name": "stderr",
     "output_type": "stream",
     "text": [
      "\r",
      " 21%|█████████████████████████████████████████████████████████▏                                                                                                                                                                                                                         | 104/500 [00:27<01:32,  4.28it/s]"
     ]
    },
    {
     "name": "stdout",
     "output_type": "stream",
     "text": [
      "0\n",
      "tensor(1018.5143) tensor(791.7934) tensor(1159.7271) tensor(933.4085)\n",
      "1\n"
     ]
    },
    {
     "name": "stderr",
     "output_type": "stream",
     "text": [
      "\r",
      " 21%|█████████████████████████████████████████████████████████▊                                                                                                                                                                                                                         | 105/500 [00:27<01:32,  4.26it/s]"
     ]
    },
    {
     "name": "stdout",
     "output_type": "stream",
     "text": [
      "0\n",
      "1\n"
     ]
    },
    {
     "name": "stderr",
     "output_type": "stream",
     "text": [
      "\r",
      " 21%|██████████████████████████████████████████████████████████▎                                                                                                                                                                                                                        | 106/500 [00:27<01:30,  4.35it/s]"
     ]
    },
    {
     "name": "stdout",
     "output_type": "stream",
     "text": [
      "tensor(1190.4640) tensor(770.3678) tensor(1338.8014) tensor(914.9415)\n",
      "tensor(1088.9808) tensor(887.5671) tensor(1283.4542) tensor(1091.2817)\n",
      "tensor(1268.3756) tensor(695.5971) tensor(1329.0033) tensor(753.6614)\n",
      "0\n",
      "tensor(1025.9697) tensor(510.8342) tensor(1396.4412) tensor(852.1316)\n",
      "1\n"
     ]
    },
    {
     "name": "stderr",
     "output_type": "stream",
     "text": [
      "\r",
      " 21%|██████████████████████████████████████████████████████████▊                                                                                                                                                                                                                        | 107/500 [00:27<01:31,  4.29it/s]"
     ]
    },
    {
     "name": "stdout",
     "output_type": "stream",
     "text": [
      "0\n",
      "1\n"
     ]
    },
    {
     "name": "stderr",
     "output_type": "stream",
     "text": [
      "\r",
      " 22%|███████████████████████████████████████████████████████████▍                                                                                                                                                                                                                       | 108/500 [00:28<01:27,  4.50it/s]"
     ]
    },
    {
     "name": "stdout",
     "output_type": "stream",
     "text": [
      "tensor(1130.0691) tensor(692.2158) tensor(1198.2056) tensor(757.3693)\n",
      "0\n",
      "tensor(1178.8187) tensor(773.2465) tensor(1335.2211) tensor(903.5508)\n",
      "1\n"
     ]
    },
    {
     "name": "stderr",
     "output_type": "stream",
     "text": [
      "\r",
      " 22%|███████████████████████████████████████████████████████████▉                                                                                                                                                                                                                       | 109/500 [00:28<01:27,  4.45it/s]"
     ]
    },
    {
     "name": "stdout",
     "output_type": "stream",
     "text": [
      "tensor(1155.3208) tensor(412.2445) tensor(1329.1858) tensor(573.6774)\n",
      "0\n",
      "1\n"
     ]
    },
    {
     "name": "stderr",
     "output_type": "stream",
     "text": [
      "\r",
      " 22%|████████████████████████████████████████████████████████████▌                                                                                                                                                                                                                      | 110/500 [00:28<01:26,  4.51it/s]"
     ]
    },
    {
     "name": "stdout",
     "output_type": "stream",
     "text": [
      "tensor(1054.4268) tensor(647.5145) tensor(1260.7173) tensor(909.1005)\n",
      "0\n",
      "tensor(1190.3542) tensor(941.4633) tensor(1297.3867) tensor(1038.2836)\n",
      "1\n"
     ]
    },
    {
     "name": "stderr",
     "output_type": "stream",
     "text": [
      "\r",
      " 22%|█████████████████████████████████████████████████████████████                                                                                                                                                                                                                      | 111/500 [00:28<01:26,  4.50it/s]"
     ]
    },
    {
     "name": "stdout",
     "output_type": "stream",
     "text": [
      "0\n",
      "tensor(1175.5010) tensor(706.6916) tensor(1284.4988) tensor(806.4797)\n",
      "1\n"
     ]
    },
    {
     "name": "stderr",
     "output_type": "stream",
     "text": [
      "\r",
      " 22%|█████████████████████████████████████████████████████████████▌                                                                                                                                                                                                                     | 112/500 [00:28<01:24,  4.58it/s]"
     ]
    },
    {
     "name": "stdout",
     "output_type": "stream",
     "text": [
      "0\n",
      "1\n"
     ]
    },
    {
     "name": "stderr",
     "output_type": "stream",
     "text": [
      "\r",
      " 23%|██████████████████████████████████████████████████████████████▏                                                                                                                                                                                                                    | 113/500 [00:29<01:25,  4.53it/s]"
     ]
    },
    {
     "name": "stdout",
     "output_type": "stream",
     "text": [
      "tensor(1183.1737) tensor(559.8822) tensor(1275.1200) tensor(642.7229)\n",
      "0\n",
      "1\n"
     ]
    },
    {
     "name": "stderr",
     "output_type": "stream",
     "text": [
      "\r",
      " 23%|██████████████████████████████████████████████████████████████▋                                                                                                                                                                                                                    | 114/500 [00:29<01:27,  4.43it/s]"
     ]
    },
    {
     "name": "stdout",
     "output_type": "stream",
     "text": [
      "tensor(1208.5060) tensor(963.1000) tensor(1320.6593) tensor(1107.6327)\n",
      "0\n",
      "tensor(1232.0104) tensor(1008.4724) tensor(1328.9989) tensor(1129.5981)\n",
      "1\n"
     ]
    },
    {
     "name": "stderr",
     "output_type": "stream",
     "text": [
      "\r",
      " 23%|███████████████████████████████████████████████████████████████▎                                                                                                                                                                                                                   | 115/500 [00:29<01:24,  4.55it/s]"
     ]
    },
    {
     "name": "stdout",
     "output_type": "stream",
     "text": [
      "0\n",
      "1\n"
     ]
    },
    {
     "name": "stderr",
     "output_type": "stream",
     "text": [
      "\r",
      " 23%|███████████████████████████████████████████████████████████████▊                                                                                                                                                                                                                   | 116/500 [00:29<01:24,  4.53it/s]"
     ]
    },
    {
     "name": "stdout",
     "output_type": "stream",
     "text": [
      "tensor(1166.7849) tensor(600.2461) tensor(1283.3892) tensor(746.4633)\n",
      "0\n",
      "tensor(1063.3352) tensor(664.2731) tensor(1184.0044) tensor(762.2728)\n",
      "1\n"
     ]
    },
    {
     "name": "stderr",
     "output_type": "stream",
     "text": [
      "\r",
      " 23%|████████████████████████████████████████████████████████████████▎                                                                                                                                                                                                                  | 117/500 [00:29<01:24,  4.55it/s]"
     ]
    },
    {
     "name": "stdout",
     "output_type": "stream",
     "text": [
      "0\n",
      "1\n"
     ]
    },
    {
     "name": "stderr",
     "output_type": "stream",
     "text": [
      "\r",
      " 24%|████████████████████████████████████████████████████████████████▉                                                                                                                                                                                                                  | 118/500 [00:30<01:24,  4.54it/s]"
     ]
    },
    {
     "name": "stdout",
     "output_type": "stream",
     "text": [
      "0\n",
      "1\n"
     ]
    },
    {
     "name": "stderr",
     "output_type": "stream",
     "text": [
      "\r",
      " 24%|█████████████████████████████████████████████████████████████████▍                                                                                                                                                                                                                 | 119/500 [00:30<01:24,  4.49it/s]"
     ]
    },
    {
     "name": "stdout",
     "output_type": "stream",
     "text": [
      "0\n",
      "1\n"
     ]
    },
    {
     "name": "stderr",
     "output_type": "stream",
     "text": [
      "\r",
      " 24%|██████████████████████████████████████████████████████████████████                                                                                                                                                                                                                 | 120/500 [00:30<01:24,  4.49it/s]"
     ]
    },
    {
     "name": "stdout",
     "output_type": "stream",
     "text": [
      "0\n",
      "tensor(1156.9335) tensor(688.8481) tensor(1264.6210) tensor(786.6068)\n",
      "1\n"
     ]
    },
    {
     "name": "stderr",
     "output_type": "stream",
     "text": [
      "\r",
      " 24%|██████████████████████████████████████████████████████████████████▌                                                                                                                                                                                                                | 121/500 [00:30<01:26,  4.39it/s]"
     ]
    },
    {
     "name": "stdout",
     "output_type": "stream",
     "text": [
      "tensor(1021.6870) tensor(875.3312) tensor(1122.6624) tensor(1000.4702)\n",
      "0\n",
      "1\n"
     ]
    },
    {
     "name": "stderr",
     "output_type": "stream",
     "text": [
      "\r",
      " 24%|███████████████████████████████████████████████████████████████████                                                                                                                                                                                                                | 122/500 [00:31<01:24,  4.49it/s]"
     ]
    },
    {
     "name": "stdout",
     "output_type": "stream",
     "text": [
      "tensor(1046.5557) tensor(600.0453) tensor(1233.5776) tensor(718.8141)\n",
      "tensor(977.9682) tensor(858.5970) tensor(1098.3374) tensor(989.5817)\n",
      "0\n",
      "1\n"
     ]
    },
    {
     "name": "stderr",
     "output_type": "stream",
     "text": [
      "\r",
      " 25%|███████████████████████████████████████████████████████████████████▋                                                                                                                                                                                                               | 123/500 [00:31<01:23,  4.53it/s]"
     ]
    },
    {
     "name": "stdout",
     "output_type": "stream",
     "text": [
      "0\n",
      "1\n"
     ]
    },
    {
     "name": "stderr",
     "output_type": "stream",
     "text": [
      "\r",
      " 25%|████████████████████████████████████████████████████████████████████▏                                                                                                                                                                                                              | 124/500 [00:31<01:22,  4.55it/s]"
     ]
    },
    {
     "name": "stdout",
     "output_type": "stream",
     "text": [
      "0\n",
      "tensor(1109.7051) tensor(560.0658) tensor(1209.4666) tensor(657.5709)\n",
      "1\n"
     ]
    },
    {
     "name": "stderr",
     "output_type": "stream",
     "text": [
      "\r",
      " 25%|████████████████████████████████████████████████████████████████████▊                                                                                                                                                                                                              | 125/500 [00:31<01:23,  4.47it/s]"
     ]
    },
    {
     "name": "stdout",
     "output_type": "stream",
     "text": [
      "0\n",
      "1\n"
     ]
    },
    {
     "name": "stderr",
     "output_type": "stream",
     "text": [
      "\r",
      " 25%|█████████████████████████████████████████████████████████████████████▎                                                                                                                                                                                                             | 126/500 [00:32<01:23,  4.46it/s]"
     ]
    },
    {
     "name": "stdout",
     "output_type": "stream",
     "text": [
      "0\n",
      "1\n"
     ]
    },
    {
     "name": "stderr",
     "output_type": "stream",
     "text": [
      "\r",
      " 25%|█████████████████████████████████████████████████████████████████████▊                                                                                                                                                                                                             | 127/500 [00:32<01:20,  4.61it/s]"
     ]
    },
    {
     "name": "stdout",
     "output_type": "stream",
     "text": [
      "tensor(1028.6934) tensor(703.3683) tensor(1166.3298) tensor(881.5634)\n",
      "0\n",
      "tensor(1168.5155) tensor(703.5690) tensor(1289.1237) tensor(838.8448)\n",
      "1\n"
     ]
    },
    {
     "name": "stderr",
     "output_type": "stream",
     "text": [
      "\r",
      " 26%|██████████████████████████████████████████████████████████████████████▍                                                                                                                                                                                                            | 128/500 [00:32<01:23,  4.45it/s]"
     ]
    },
    {
     "name": "stdout",
     "output_type": "stream",
     "text": [
      "tensor(1122.1262) tensor(786.1275) tensor(1264.8396) tensor(880.7907)\n",
      "0\n",
      "1\n"
     ]
    },
    {
     "name": "stderr",
     "output_type": "stream",
     "text": [
      "\r",
      " 26%|██████████████████████████████████████████████████████████████████████▉                                                                                                                                                                                                            | 129/500 [00:32<01:22,  4.51it/s]"
     ]
    },
    {
     "name": "stdout",
     "output_type": "stream",
     "text": [
      "0\n",
      "1\n"
     ]
    },
    {
     "name": "stderr",
     "output_type": "stream",
     "text": [
      "\r",
      " 26%|███████████████████████████████████████████████████████████████████████▌                                                                                                                                                                                                           | 130/500 [00:32<01:22,  4.51it/s]"
     ]
    },
    {
     "name": "stdout",
     "output_type": "stream",
     "text": [
      "0\n",
      "tensor(934.7543) tensor(833.0507) tensor(1071.7844) tensor(979.6342)\n",
      "tensor(1146.1472) tensor(750.2700) tensor(1236.5051) tensor(840.8376)\n",
      "1\n"
     ]
    },
    {
     "name": "stderr",
     "output_type": "stream",
     "text": [
      "\r",
      " 26%|████████████████████████████████████████████████████████████████████████                                                                                                                                                                                                           | 131/500 [00:33<01:21,  4.53it/s]"
     ]
    },
    {
     "name": "stdout",
     "output_type": "stream",
     "text": [
      "0\n",
      "1\n"
     ]
    },
    {
     "name": "stderr",
     "output_type": "stream",
     "text": [
      "\r",
      " 26%|████████████████████████████████████████████████████████████████████████▌                                                                                                                                                                                                          | 132/500 [00:33<01:21,  4.54it/s]"
     ]
    },
    {
     "name": "stdout",
     "output_type": "stream",
     "text": [
      "0\n",
      "1\n"
     ]
    },
    {
     "name": "stderr",
     "output_type": "stream",
     "text": [
      "\r",
      " 27%|█████████████████████████████████████████████████████████████████████████▏                                                                                                                                                                                                         | 133/500 [00:33<01:21,  4.52it/s]"
     ]
    },
    {
     "name": "stdout",
     "output_type": "stream",
     "text": [
      "0\n",
      "1\n"
     ]
    },
    {
     "name": "stderr",
     "output_type": "stream",
     "text": [
      "\r",
      " 27%|█████████████████████████████████████████████████████████████████████████▋                                                                                                                                                                                                         | 134/500 [00:33<01:20,  4.55it/s]"
     ]
    },
    {
     "name": "stdout",
     "output_type": "stream",
     "text": [
      "0\n",
      "1\n"
     ]
    },
    {
     "name": "stderr",
     "output_type": "stream",
     "text": [
      "\r",
      " 27%|██████████████████████████████████████████████████████████████████████████▎                                                                                                                                                                                                        | 135/500 [00:33<01:21,  4.48it/s]"
     ]
    },
    {
     "name": "stdout",
     "output_type": "stream",
     "text": [
      "0\n",
      "1\n"
     ]
    },
    {
     "name": "stderr",
     "output_type": "stream",
     "text": [
      "\r",
      " 27%|██████████████████████████████████████████████████████████████████████████▊                                                                                                                                                                                                        | 136/500 [00:34<01:22,  4.41it/s]"
     ]
    },
    {
     "name": "stdout",
     "output_type": "stream",
     "text": [
      "0\n",
      "1\n"
     ]
    },
    {
     "name": "stderr",
     "output_type": "stream",
     "text": [
      "\r",
      " 27%|███████████████████████████████████████████████████████████████████████████▎                                                                                                                                                                                                       | 137/500 [00:34<01:24,  4.28it/s]"
     ]
    },
    {
     "name": "stdout",
     "output_type": "stream",
     "text": [
      "0\n",
      "1\n"
     ]
    },
    {
     "name": "stderr",
     "output_type": "stream",
     "text": [
      "\r",
      " 28%|███████████████████████████████████████████████████████████████████████████▉                                                                                                                                                                                                       | 138/500 [00:34<01:24,  4.26it/s]"
     ]
    },
    {
     "name": "stdout",
     "output_type": "stream",
     "text": [
      "0\n",
      "1\n"
     ]
    },
    {
     "name": "stderr",
     "output_type": "stream",
     "text": [
      "\r",
      " 28%|████████████████████████████████████████████████████████████████████████████▍                                                                                                                                                                                                      | 139/500 [00:34<01:23,  4.30it/s]"
     ]
    },
    {
     "name": "stdout",
     "output_type": "stream",
     "text": [
      "tensor(1198.4757) tensor(872.7989) tensor(1275.3451) tensor(965.5666)\n",
      "tensor(1233.1074) tensor(547.6483) tensor(1296.5830) tensor(621.2736)\n",
      "tensor(1193.0327) tensor(765.8198) tensor(1248.7336) tensor(812.0408)\n",
      "0\n",
      "1\n"
     ]
    },
    {
     "name": "stderr",
     "output_type": "stream",
     "text": [
      "\r",
      " 28%|█████████████████████████████████████████████████████████████████████████████                                                                                                                                                                                                      | 140/500 [00:35<01:23,  4.32it/s]"
     ]
    },
    {
     "name": "stdout",
     "output_type": "stream",
     "text": [
      "0\n",
      "tensor(1161.5072) tensor(764.5236) tensor(1247.7802) tensor(846.7684)\n",
      "tensor(1127.6003) tensor(546.6946) tensor(1287.5488) tensor(712.1279)\n",
      "1\n"
     ]
    },
    {
     "name": "stderr",
     "output_type": "stream",
     "text": [
      "\r",
      " 28%|█████████████████████████████████████████████████████████████████████████████▌                                                                                                                                                                                                     | 141/500 [00:35<01:22,  4.34it/s]"
     ]
    },
    {
     "name": "stdout",
     "output_type": "stream",
     "text": [
      "tensor(1312.6237) tensor(424.6863) tensor(1391.9083) tensor(515.8661)\n",
      "0\n",
      "1\n"
     ]
    },
    {
     "name": "stderr",
     "output_type": "stream",
     "text": [
      "\r",
      " 28%|██████████████████████████████████████████████████████████████████████████████                                                                                                                                                                                                     | 142/500 [00:35<01:21,  4.41it/s]"
     ]
    },
    {
     "name": "stdout",
     "output_type": "stream",
     "text": [
      "0\n",
      "tensor(1164.8197) tensor(1021.4520) tensor(1319.1879) tensor(1156.3109)\n",
      "tensor(1109.1786) tensor(638.8380) tensor(1183.5045) tensor(705.8938)\n",
      "1\n"
     ]
    },
    {
     "name": "stderr",
     "output_type": "stream",
     "text": [
      "\r",
      " 29%|██████████████████████████████████████████████████████████████████████████████▋                                                                                                                                                                                                    | 143/500 [00:35<01:20,  4.41it/s]"
     ]
    },
    {
     "name": "stdout",
     "output_type": "stream",
     "text": [
      "0\n",
      "1\n"
     ]
    },
    {
     "name": "stderr",
     "output_type": "stream",
     "text": [
      "\r",
      " 29%|███████████████████████████████████████████████████████████████████████████████▏                                                                                                                                                                                                   | 144/500 [00:36<01:24,  4.21it/s]"
     ]
    },
    {
     "name": "stdout",
     "output_type": "stream",
     "text": [
      "0\n",
      "1\n"
     ]
    },
    {
     "name": "stderr",
     "output_type": "stream",
     "text": [
      "\r",
      " 29%|███████████████████████████████████████████████████████████████████████████████▊                                                                                                                                                                                                   | 145/500 [00:36<01:25,  4.14it/s]"
     ]
    },
    {
     "name": "stdout",
     "output_type": "stream",
     "text": [
      "0\n",
      "tensor(1008.6940) tensor(822.1400) tensor(1088.4598) tensor(908.7936)\n",
      "1\n"
     ]
    },
    {
     "name": "stderr",
     "output_type": "stream",
     "text": [
      "\r",
      " 29%|████████████████████████████████████████████████████████████████████████████████▎                                                                                                                                                                                                  | 146/500 [00:36<01:25,  4.12it/s]"
     ]
    },
    {
     "name": "stdout",
     "output_type": "stream",
     "text": [
      "tensor(1102.9069) tensor(817.3393) tensor(1158.9386) tensor(873.4371)\n",
      "0\n",
      "tensor(1150.6476) tensor(552.4600) tensor(1231.2770) tensor(634.5402)\n",
      "tensor(1273.4628) tensor(981.4976) tensor(1375.7030) tensor(1073.4244)\n",
      "1\n"
     ]
    },
    {
     "name": "stderr",
     "output_type": "stream",
     "text": [
      "\r",
      " 29%|████████████████████████████████████████████████████████████████████████████████▊                                                                                                                                                                                                  | 147/500 [00:36<01:26,  4.07it/s]"
     ]
    },
    {
     "name": "stdout",
     "output_type": "stream",
     "text": [
      "0\n",
      "1\n"
     ]
    },
    {
     "name": "stderr",
     "output_type": "stream",
     "text": [
      "\r",
      " 30%|█████████████████████████████████████████████████████████████████████████████████▍                                                                                                                                                                                                 | 148/500 [00:37<01:26,  4.08it/s]"
     ]
    },
    {
     "name": "stdout",
     "output_type": "stream",
     "text": [
      "0\n",
      "1\n"
     ]
    },
    {
     "name": "stderr",
     "output_type": "stream",
     "text": [
      "\r",
      " 30%|█████████████████████████████████████████████████████████████████████████████████▉                                                                                                                                                                                                 | 149/500 [00:37<01:21,  4.30it/s]"
     ]
    },
    {
     "name": "stdout",
     "output_type": "stream",
     "text": [
      "0\n",
      "1\n"
     ]
    },
    {
     "name": "stderr",
     "output_type": "stream",
     "text": [
      "\r",
      " 30%|██████████████████████████████████████████████████████████████████████████████████▌                                                                                                                                                                                                | 150/500 [00:37<01:20,  4.32it/s]"
     ]
    },
    {
     "name": "stdout",
     "output_type": "stream",
     "text": [
      "tensor(1112.4956) tensor(610.9446) tensor(1274.7505) tensor(820.1238)\n",
      "tensor(1224.3801) tensor(341.4946) tensor(1379.7874) tensor(538.2473)\n",
      "0\n",
      "1\n"
     ]
    },
    {
     "name": "stderr",
     "output_type": "stream",
     "text": [
      "\r",
      " 30%|███████████████████████████████████████████████████████████████████████████████████                                                                                                                                                                                                | 151/500 [00:37<01:20,  4.33it/s]"
     ]
    },
    {
     "name": "stdout",
     "output_type": "stream",
     "text": [
      "tensor(1241.0021) tensor(836.5010) tensor(1368.1378) tensor(1008.5105)\n",
      "0\n",
      "1\n"
     ]
    },
    {
     "name": "stderr",
     "output_type": "stream",
     "text": [
      "\r",
      " 30%|███████████████████████████████████████████████████████████████████████████████████▌                                                                                                                                                                                               | 152/500 [00:37<01:19,  4.39it/s]"
     ]
    },
    {
     "name": "stdout",
     "output_type": "stream",
     "text": [
      "0\n",
      "1\n"
     ]
    },
    {
     "name": "stderr",
     "output_type": "stream",
     "text": [
      "\r",
      " 31%|████████████████████████████████████████████████████████████████████████████████████▏                                                                                                                                                                                              | 153/500 [00:38<01:17,  4.46it/s]"
     ]
    },
    {
     "name": "stdout",
     "output_type": "stream",
     "text": [
      "0\n",
      "1\n"
     ]
    },
    {
     "name": "stderr",
     "output_type": "stream",
     "text": [
      "\r",
      " 31%|████████████████████████████████████████████████████████████████████████████████████▋                                                                                                                                                                                              | 154/500 [00:38<01:16,  4.54it/s]"
     ]
    },
    {
     "name": "stdout",
     "output_type": "stream",
     "text": [
      "0\n",
      "tensor(1079.4998) tensor(924.0069) tensor(1155.8911) tensor(1011.1716)\n",
      "tensor(1237.8584) tensor(591.1717) tensor(1309.3289) tensor(667.7007)\n",
      "tensor(1277.9448) tensor(436.9393) tensor(1363.9570) tensor(540.5891)\n",
      "tensor(1151.1410) tensor(658.9578) tensor(1230.1383) tensor(734.8098)\n",
      "1\n"
     ]
    },
    {
     "name": "stderr",
     "output_type": "stream",
     "text": [
      "\r",
      " 31%|█████████████████████████████████████████████████████████████████████████████████████▎                                                                                                                                                                                             | 155/500 [00:38<01:19,  4.34it/s]"
     ]
    },
    {
     "name": "stdout",
     "output_type": "stream",
     "text": [
      "0\n",
      "tensor(1193.7123) tensor(741.0538) tensor(1246.9215) tensor(806.4892)\n",
      "1\n"
     ]
    },
    {
     "name": "stderr",
     "output_type": "stream",
     "text": [
      "\r",
      " 31%|█████████████████████████████████████████████████████████████████████████████████████▊                                                                                                                                                                                             | 156/500 [00:38<01:19,  4.35it/s]"
     ]
    },
    {
     "name": "stdout",
     "output_type": "stream",
     "text": [
      "0\n",
      "1\n"
     ]
    },
    {
     "name": "stderr",
     "output_type": "stream",
     "text": [
      "\r",
      " 31%|██████████████████████████████████████████████████████████████████████████████████████▎                                                                                                                                                                                            | 157/500 [00:39<01:18,  4.38it/s]"
     ]
    },
    {
     "name": "stdout",
     "output_type": "stream",
     "text": [
      "0\n",
      "1\n"
     ]
    },
    {
     "name": "stderr",
     "output_type": "stream",
     "text": [
      "\r",
      " 32%|██████████████████████████████████████████████████████████████████████████████████████▉                                                                                                                                                                                            | 158/500 [00:39<01:18,  4.38it/s]"
     ]
    },
    {
     "name": "stdout",
     "output_type": "stream",
     "text": [
      "0\n",
      "1\n"
     ]
    },
    {
     "name": "stderr",
     "output_type": "stream",
     "text": [
      "\r",
      " 32%|███████████████████████████████████████████████████████████████████████████████████████▍                                                                                                                                                                                           | 159/500 [00:39<01:17,  4.40it/s]"
     ]
    },
    {
     "name": "stdout",
     "output_type": "stream",
     "text": [
      "0\n",
      "tensor(1159.3643) tensor(475.5242) tensor(1312.8079) tensor(683.1883)\n",
      "tensor(1277.7449) tensor(875.6840) tensor(1338.8745) tensor(961.7408)\n",
      "1\n"
     ]
    },
    {
     "name": "stderr",
     "output_type": "stream",
     "text": [
      "\r",
      " 32%|████████████████████████████████████████████████████████████████████████████████████████                                                                                                                                                                                           | 160/500 [00:39<01:20,  4.21it/s]"
     ]
    },
    {
     "name": "stdout",
     "output_type": "stream",
     "text": [
      "0\n",
      "1\n"
     ]
    },
    {
     "name": "stderr",
     "output_type": "stream",
     "text": [
      "\r",
      " 32%|████████████████████████████████████████████████████████████████████████████████████████▌                                                                                                                                                                                          | 161/500 [00:40<01:20,  4.21it/s]"
     ]
    },
    {
     "name": "stdout",
     "output_type": "stream",
     "text": [
      "0\n",
      "1\n"
     ]
    },
    {
     "name": "stderr",
     "output_type": "stream",
     "text": [
      "\r",
      " 32%|█████████████████████████████████████████████████████████████████████████████████████████                                                                                                                                                                                          | 162/500 [00:40<01:18,  4.30it/s]"
     ]
    },
    {
     "name": "stdout",
     "output_type": "stream",
     "text": [
      "tensor(1092.4568) tensor(544.1404) tensor(1308.7314) tensor(721.5215)\n",
      "0\n",
      "1\n"
     ]
    },
    {
     "name": "stderr",
     "output_type": "stream",
     "text": [
      "\r",
      " 33%|█████████████████████████████████████████████████████████████████████████████████████████▋                                                                                                                                                                                         | 163/500 [00:40<01:15,  4.45it/s]"
     ]
    },
    {
     "name": "stdout",
     "output_type": "stream",
     "text": [
      "0\n",
      "1\n"
     ]
    },
    {
     "name": "stderr",
     "output_type": "stream",
     "text": [
      "\r",
      " 33%|██████████████████████████████████████████████████████████████████████████████████████████▏                                                                                                                                                                                        | 164/500 [00:40<01:15,  4.45it/s]"
     ]
    },
    {
     "name": "stdout",
     "output_type": "stream",
     "text": [
      "0\n",
      "1\n"
     ]
    },
    {
     "name": "stderr",
     "output_type": "stream",
     "text": [
      "\r",
      " 33%|██████████████████████████████████████████████████████████████████████████████████████████▊                                                                                                                                                                                        | 165/500 [00:40<01:15,  4.44it/s]"
     ]
    },
    {
     "name": "stdout",
     "output_type": "stream",
     "text": [
      "0\n",
      "1\n"
     ]
    },
    {
     "name": "stderr",
     "output_type": "stream",
     "text": [
      "\r",
      " 33%|███████████████████████████████████████████████████████████████████████████████████████████▎                                                                                                                                                                                       | 166/500 [00:41<01:17,  4.31it/s]"
     ]
    },
    {
     "name": "stdout",
     "output_type": "stream",
     "text": [
      "0\n",
      "1\n"
     ]
    },
    {
     "name": "stderr",
     "output_type": "stream",
     "text": [
      "\r",
      " 33%|███████████████████████████████████████████████████████████████████████████████████████████▊                                                                                                                                                                                       | 167/500 [00:41<01:18,  4.26it/s]"
     ]
    },
    {
     "name": "stdout",
     "output_type": "stream",
     "text": [
      "0\n",
      "tensor(1264.2852) tensor(625.9819) tensor(1363.8962) tensor(780.3615)\n",
      "1\n"
     ]
    },
    {
     "name": "stderr",
     "output_type": "stream",
     "text": [
      "\r",
      " 34%|████████████████████████████████████████████████████████████████████████████████████████████▍                                                                                                                                                                                      | 168/500 [00:41<01:18,  4.24it/s]"
     ]
    },
    {
     "name": "stdout",
     "output_type": "stream",
     "text": [
      "0\n",
      "1\n"
     ]
    },
    {
     "name": "stderr",
     "output_type": "stream",
     "text": [
      "\r",
      " 34%|████████████████████████████████████████████████████████████████████████████████████████████▉                                                                                                                                                                                      | 169/500 [00:41<01:15,  4.36it/s]"
     ]
    },
    {
     "name": "stdout",
     "output_type": "stream",
     "text": [
      "0\n",
      "1\n"
     ]
    },
    {
     "name": "stderr",
     "output_type": "stream",
     "text": [
      "\r",
      " 34%|█████████████████████████████████████████████████████████████████████████████████████████████▌                                                                                                                                                                                     | 170/500 [00:42<01:15,  4.39it/s]"
     ]
    },
    {
     "name": "stdout",
     "output_type": "stream",
     "text": [
      "0\n",
      "1\n"
     ]
    },
    {
     "name": "stderr",
     "output_type": "stream",
     "text": [
      "\r",
      " 34%|██████████████████████████████████████████████████████████████████████████████████████████████                                                                                                                                                                                     | 171/500 [00:42<01:14,  4.43it/s]"
     ]
    },
    {
     "name": "stdout",
     "output_type": "stream",
     "text": [
      "0\n",
      "1\n"
     ]
    },
    {
     "name": "stderr",
     "output_type": "stream",
     "text": [
      "\r",
      " 34%|██████████████████████████████████████████████████████████████████████████████████████████████▌                                                                                                                                                                                    | 172/500 [00:42<01:13,  4.45it/s]"
     ]
    },
    {
     "name": "stdout",
     "output_type": "stream",
     "text": [
      "tensor(1003.1077) tensor(592.2112) tensor(1205.1490) tensor(815.9238)\n",
      "0\n",
      "1\n"
     ]
    },
    {
     "name": "stderr",
     "output_type": "stream",
     "text": [
      "\r",
      " 35%|███████████████████████████████████████████████████████████████████████████████████████████████▏                                                                                                                                                                                   | 173/500 [00:42<01:16,  4.29it/s]"
     ]
    },
    {
     "name": "stdout",
     "output_type": "stream",
     "text": [
      "tensor(1233.6915) tensor(535.5932) tensor(1387.4437) tensor(716.2736)\n",
      "tensor(1167.4971) tensor(692.7975) tensor(1371.0630) tensor(906.0173)\n",
      "0\n",
      "1\n"
     ]
    },
    {
     "name": "stderr",
     "output_type": "stream",
     "text": [
      "\r",
      " 35%|███████████████████████████████████████████████████████████████████████████████████████████████▋                                                                                                                                                                                   | 174/500 [00:43<01:14,  4.41it/s]"
     ]
    },
    {
     "name": "stdout",
     "output_type": "stream",
     "text": [
      "tensor(1326.3008) tensor(427.6085) tensor(1384.2764) tensor(494.9379)\n",
      "0\n",
      "1\n"
     ]
    },
    {
     "name": "stderr",
     "output_type": "stream",
     "text": [
      "\r",
      " 35%|████████████████████████████████████████████████████████████████████████████████████████████████▎                                                                                                                                                                                  | 175/500 [00:43<01:12,  4.47it/s]"
     ]
    },
    {
     "name": "stdout",
     "output_type": "stream",
     "text": [
      "tensor(1046.5518) tensor(708.2529) tensor(1217.5627) tensor(947.1017)\n",
      "0\n",
      "1\n"
     ]
    },
    {
     "name": "stderr",
     "output_type": "stream",
     "text": [
      "\r",
      " 35%|████████████████████████████████████████████████████████████████████████████████████████████████▊                                                                                                                                                                                  | 176/500 [00:43<01:11,  4.51it/s]"
     ]
    },
    {
     "name": "stdout",
     "output_type": "stream",
     "text": [
      "tensor(1111.0189) tensor(872.6008) tensor(1247.6993) tensor(1015.1892)\n",
      "0\n",
      "1\n"
     ]
    },
    {
     "name": "stderr",
     "output_type": "stream",
     "text": [
      "\r",
      " 35%|█████████████████████████████████████████████████████████████████████████████████████████████████▎                                                                                                                                                                                 | 177/500 [00:43<01:10,  4.61it/s]"
     ]
    },
    {
     "name": "stdout",
     "output_type": "stream",
     "text": [
      "0\n",
      "tensor(1227.6333) tensor(834.7615) tensor(1300.3472) tensor(912.2123)\n",
      "1\n"
     ]
    },
    {
     "name": "stderr",
     "output_type": "stream",
     "text": [
      "\r",
      " 36%|█████████████████████████████████████████████████████████████████████████████████████████████████▉                                                                                                                                                                                 | 178/500 [00:43<01:10,  4.58it/s]"
     ]
    },
    {
     "name": "stdout",
     "output_type": "stream",
     "text": [
      "tensor(1298.2804) tensor(416.1810) tensor(1396.2777) tensor(538.1498)\n",
      "0\n",
      "tensor(1237.5690) tensor(611.2263) tensor(1355.6476) tensor(733.6127)\n",
      "1\n"
     ]
    },
    {
     "name": "stderr",
     "output_type": "stream",
     "text": [
      "\r",
      " 36%|██████████████████████████████████████████████████████████████████████████████████████████████████▍                                                                                                                                                                                | 179/500 [00:44<01:08,  4.66it/s]"
     ]
    },
    {
     "name": "stdout",
     "output_type": "stream",
     "text": [
      "0\n",
      "1\n"
     ]
    },
    {
     "name": "stderr",
     "output_type": "stream",
     "text": [
      "\r",
      " 36%|███████████████████████████████████████████████████████████████████████████████████████████████████                                                                                                                                                                                | 180/500 [00:44<01:08,  4.68it/s]"
     ]
    },
    {
     "name": "stdout",
     "output_type": "stream",
     "text": [
      "0\n",
      "1\n"
     ]
    },
    {
     "name": "stderr",
     "output_type": "stream",
     "text": [
      "\r",
      " 36%|███████████████████████████████████████████████████████████████████████████████████████████████████▌                                                                                                                                                                               | 181/500 [00:44<01:07,  4.74it/s]"
     ]
    },
    {
     "name": "stdout",
     "output_type": "stream",
     "text": [
      "0\n",
      "1\n"
     ]
    },
    {
     "name": "stderr",
     "output_type": "stream",
     "text": [
      "\r",
      " 36%|████████████████████████████████████████████████████████████████████████████████████████████████████                                                                                                                                                                               | 182/500 [00:44<01:10,  4.54it/s]"
     ]
    },
    {
     "name": "stdout",
     "output_type": "stream",
     "text": [
      "tensor(1310.7301) tensor(1610.0342) tensor(1396.9425) tensor(1700.)\n",
      "0\n",
      "1\n"
     ]
    },
    {
     "name": "stderr",
     "output_type": "stream",
     "text": [
      "\r",
      " 37%|████████████████████████████████████████████████████████████████████████████████████████████████████▋                                                                                                                                                                              | 183/500 [00:44<01:11,  4.44it/s]"
     ]
    },
    {
     "name": "stdout",
     "output_type": "stream",
     "text": [
      "0\n",
      "1\n"
     ]
    },
    {
     "name": "stderr",
     "output_type": "stream",
     "text": [
      "\r",
      " 37%|█████████████████████████████████████████████████████████████████████████████████████████████████████▏                                                                                                                                                                             | 184/500 [00:45<01:12,  4.34it/s]"
     ]
    },
    {
     "name": "stdout",
     "output_type": "stream",
     "text": [
      "tensor(1358.7273) tensor(1194.1359) tensor(1395.0808) tensor(1301.0131)\n",
      "0\n",
      "1\n"
     ]
    },
    {
     "name": "stderr",
     "output_type": "stream",
     "text": [
      "\r",
      " 37%|█████████████████████████████████████████████████████████████████████████████████████████████████████▊                                                                                                                                                                             | 185/500 [00:45<01:15,  4.18it/s]"
     ]
    },
    {
     "name": "stdout",
     "output_type": "stream",
     "text": [
      "tensor(957.6628) tensor(502.2867) tensor(1048.0208) tensor(573.8434)\n",
      "0\n",
      "1\n"
     ]
    },
    {
     "name": "stderr",
     "output_type": "stream",
     "text": [
      "\r",
      " 37%|██████████████████████████████████████████████████████████████████████████████████████████████████████▎                                                                                                                                                                            | 186/500 [00:45<01:12,  4.36it/s]"
     ]
    },
    {
     "name": "stdout",
     "output_type": "stream",
     "text": [
      "0\n",
      "1\n"
     ]
    },
    {
     "name": "stderr",
     "output_type": "stream",
     "text": [
      "\r",
      " 37%|██████████████████████████████████████████████████████████████████████████████████████████████████████▊                                                                                                                                                                            | 187/500 [00:45<01:09,  4.49it/s]"
     ]
    },
    {
     "name": "stdout",
     "output_type": "stream",
     "text": [
      "0\n",
      "tensor(988.1350) tensor(687.8358) tensor(1101.4614) tensor(811.9064)\n",
      "1\n",
      "0\n"
     ]
    },
    {
     "name": "stderr",
     "output_type": "stream",
     "text": [
      "\r",
      " 38%|███████████████████████████████████████████████████████████████████████████████████████████████████████▍                                                                                                                                                                           | 188/500 [00:46<01:07,  4.63it/s]"
     ]
    },
    {
     "name": "stdout",
     "output_type": "stream",
     "text": [
      "1\n",
      "0\n"
     ]
    },
    {
     "name": "stderr",
     "output_type": "stream",
     "text": [
      "\r",
      " 38%|███████████████████████████████████████████████████████████████████████████████████████████████████████▉                                                                                                                                                                           | 189/500 [00:46<01:06,  4.71it/s]"
     ]
    },
    {
     "name": "stdout",
     "output_type": "stream",
     "text": [
      "1\n",
      "0\n"
     ]
    },
    {
     "name": "stderr",
     "output_type": "stream",
     "text": [
      "\r",
      " 38%|████████████████████████████████████████████████████████████████████████████████████████████████████████▌                                                                                                                                                                          | 190/500 [00:46<01:05,  4.72it/s]"
     ]
    },
    {
     "name": "stdout",
     "output_type": "stream",
     "text": [
      "1\n",
      "0\n"
     ]
    },
    {
     "name": "stderr",
     "output_type": "stream",
     "text": [
      "\r",
      " 38%|█████████████████████████████████████████████████████████████████████████████████████████████████████████                                                                                                                                                                          | 191/500 [00:46<01:04,  4.77it/s]"
     ]
    },
    {
     "name": "stdout",
     "output_type": "stream",
     "text": [
      "tensor(1172.8640) tensor(1109.0070) tensor(1240.6135) tensor(1185.1281)\n",
      "1\n",
      "0\n"
     ]
    },
    {
     "name": "stderr",
     "output_type": "stream",
     "text": [
      "\r",
      " 38%|█████████████████████████████████████████████████████████████████████████████████████████████████████████▌                                                                                                                                                                         | 192/500 [00:46<01:04,  4.74it/s]"
     ]
    },
    {
     "name": "stdout",
     "output_type": "stream",
     "text": [
      "1\n",
      "0\n"
     ]
    },
    {
     "name": "stderr",
     "output_type": "stream",
     "text": [
      "\r",
      " 39%|██████████████████████████████████████████████████████████████████████████████████████████████████████████▏                                                                                                                                                                        | 193/500 [00:47<01:04,  4.73it/s]"
     ]
    },
    {
     "name": "stdout",
     "output_type": "stream",
     "text": [
      "tensor(1252.8779) tensor(389.9363) tensor(1382.1282) tensor(563.1989)\n",
      "1\n"
     ]
    },
    {
     "name": "stderr",
     "output_type": "stream",
     "text": [
      "\r",
      " 39%|██████████████████████████████████████████████████████████████████████████████████████████████████████████▋                                                                                                                                                                        | 194/500 [00:47<01:05,  4.65it/s]"
     ]
    },
    {
     "name": "stdout",
     "output_type": "stream",
     "text": [
      "tensor(1183.2197) tensor(448.7361) tensor(1330.8120) tensor(604.5876)\n",
      "0\n",
      "tensor(1155.4344) tensor(913.8889) tensor(1253.4037) tensor(1015.1003)\n",
      "1\n"
     ]
    },
    {
     "name": "stderr",
     "output_type": "stream",
     "text": [
      "\r",
      " 39%|███████████████████████████████████████████████████████████████████████████████████████████████████████████▎                                                                                                                                                                       | 195/500 [00:47<01:06,  4.56it/s]"
     ]
    },
    {
     "name": "stdout",
     "output_type": "stream",
     "text": [
      "tensor(1170.7236) tensor(825.8903) tensor(1227.5710) tensor(877.4361)\n",
      "0\n",
      "1\n"
     ]
    },
    {
     "name": "stderr",
     "output_type": "stream",
     "text": [
      "\r",
      " 39%|███████████████████████████████████████████████████████████████████████████████████████████████████████████▊                                                                                                                                                                       | 196/500 [00:47<01:11,  4.27it/s]"
     ]
    },
    {
     "name": "stdout",
     "output_type": "stream",
     "text": [
      "tensor(1003.8278) tensor(691.3956) tensor(1176.3806) tensor(901.6697)\n",
      "tensor(1075.7588) tensor(502.8615) tensor(1211.8379) tensor(639.0928)\n",
      "0\n",
      "tensor(1260.3663) tensor(932.2626) tensor(1347.9327) tensor(1013.2259)\n",
      "1\n"
     ]
    },
    {
     "name": "stderr",
     "output_type": "stream",
     "text": [
      "\r",
      " 39%|████████████████████████████████████████████████████████████████████████████████████████████████████████████▎                                                                                                                                                                      | 197/500 [00:48<01:11,  4.25it/s]"
     ]
    },
    {
     "name": "stdout",
     "output_type": "stream",
     "text": [
      "0\n",
      "tensor(1206.7404) tensor(1037.9598) tensor(1290.3400) tensor(1117.8278)\n",
      "tensor(991.1572) tensor(585.6998) tensor(1141.7699) tensor(706.0854)\n",
      "tensor(1132.2469) tensor(863.4655) tensor(1242.6486) tensor(973.8257)\n",
      "1\n"
     ]
    },
    {
     "name": "stderr",
     "output_type": "stream",
     "text": [
      "\r",
      " 40%|████████████████████████████████████████████████████████████████████████████████████████████████████████████▉                                                                                                                                                                      | 198/500 [00:48<01:12,  4.16it/s]"
     ]
    },
    {
     "name": "stdout",
     "output_type": "stream",
     "text": [
      "0\n",
      "1\n"
     ]
    },
    {
     "name": "stderr",
     "output_type": "stream",
     "text": [
      "\r",
      " 40%|█████████████████████████████████████████████████████████████████████████████████████████████████████████████▍                                                                                                                                                                     | 199/500 [00:48<01:10,  4.30it/s]"
     ]
    },
    {
     "name": "stdout",
     "output_type": "stream",
     "text": [
      "tensor(1174.6486) tensor(698.6504) tensor(1304.3507) tensor(810.1705)\n",
      "0\n",
      "tensor(1269.3647) tensor(779.5634) tensor(1366.7734) tensor(860.5273)\n",
      "1\n",
      "tensor(1110.9637) tensor(830.6462) tensor(1197.1115) tensor(929.6598)\n",
      "0\n"
     ]
    },
    {
     "name": "stderr",
     "output_type": "stream",
     "text": [
      "\r",
      " 40%|██████████████████████████████████████████████████████████████████████████████████████████████████████████████                                                                                                                                                                     | 200/500 [00:48<01:06,  4.50it/s]"
     ]
    },
    {
     "name": "stdout",
     "output_type": "stream",
     "text": [
      "tensor(1110.8680) tensor(988.7974) tensor(1230.8961) tensor(1114.3486)\n",
      "1\n",
      "tensor(1250.6770) tensor(1001.8026) tensor(1315.6360) tensor(1091.5352)\n",
      "tensor(1224.0182) tensor(734.1788) tensor(1317.7184) tensor(845.0068)\n",
      "0\n"
     ]
    },
    {
     "name": "stderr",
     "output_type": "stream",
     "text": [
      "\r",
      " 40%|██████████████████████████████████████████████████████████████████████████████████████████████████████████████▌                                                                                                                                                                    | 201/500 [00:48<01:05,  4.56it/s]"
     ]
    },
    {
     "name": "stdout",
     "output_type": "stream",
     "text": [
      "1\n",
      "0\n"
     ]
    },
    {
     "name": "stderr",
     "output_type": "stream",
     "text": [
      "\r",
      " 40%|███████████████████████████████████████████████████████████████████████████████████████████████████████████████                                                                                                                                                                    | 202/500 [00:49<01:04,  4.64it/s]"
     ]
    },
    {
     "name": "stdout",
     "output_type": "stream",
     "text": [
      "1\n",
      "0\n"
     ]
    },
    {
     "name": "stderr",
     "output_type": "stream",
     "text": [
      "\r",
      " 41%|███████████████████████████████████████████████████████████████████████████████████████████████████████████████▋                                                                                                                                                                   | 203/500 [00:49<01:03,  4.70it/s]"
     ]
    },
    {
     "name": "stdout",
     "output_type": "stream",
     "text": [
      "1\n",
      "tensor(849.1173) tensor(878.5921) tensor(904.1498) tensor(937.6572)\n",
      "0\n"
     ]
    },
    {
     "name": "stderr",
     "output_type": "stream",
     "text": [
      "\r",
      " 41%|████████████████████████████████████████████████████████████████████████████████████████████████████████████████▏                                                                                                                                                                  | 204/500 [00:49<01:02,  4.77it/s]"
     ]
    },
    {
     "name": "stdout",
     "output_type": "stream",
     "text": [
      "1\n"
     ]
    },
    {
     "name": "stderr",
     "output_type": "stream",
     "text": [
      "\r",
      " 41%|████████████████████████████████████████████████████████████████████████████████████████████████████████████████▊                                                                                                                                                                  | 205/500 [00:49<01:03,  4.68it/s]"
     ]
    },
    {
     "name": "stdout",
     "output_type": "stream",
     "text": [
      "0\n",
      "1\n",
      "tensor(1177.0513) tensor(654.4695) tensor(1287.4314) tensor(785.5214)\n",
      "tensor(1299.9099) tensor(549.4091) tensor(1387.2981) tensor(651.7377)\n",
      "0\n"
     ]
    },
    {
     "name": "stderr",
     "output_type": "stream",
     "text": [
      "\r",
      " 41%|█████████████████████████████████████████████████████████████████████████████████████████████████████████████████▎                                                                                                                                                                 | 206/500 [00:50<01:01,  4.77it/s]"
     ]
    },
    {
     "name": "stdout",
     "output_type": "stream",
     "text": [
      "1\n",
      "0\n"
     ]
    },
    {
     "name": "stderr",
     "output_type": "stream",
     "text": [
      "\r",
      " 41%|█████████████████████████████████████████████████████████████████████████████████████████████████████████████████▊                                                                                                                                                                 | 207/500 [00:50<01:03,  4.59it/s]"
     ]
    },
    {
     "name": "stdout",
     "output_type": "stream",
     "text": [
      "1\n",
      "tensor(1237.8856) tensor(768.5682) tensor(1345.0775) tensor(841.1940)\n",
      "0\n"
     ]
    },
    {
     "name": "stderr",
     "output_type": "stream",
     "text": [
      "\r",
      " 42%|██████████████████████████████████████████████████████████████████████████████████████████████████████████████████▍                                                                                                                                                                | 208/500 [00:50<01:03,  4.59it/s]"
     ]
    },
    {
     "name": "stdout",
     "output_type": "stream",
     "text": [
      "tensor(1276.2723) tensor(733.7914) tensor(1335.7496) tensor(817.4441)\n",
      "1\n",
      "tensor(1140.5565) tensor(899.3912) tensor(1246.7933) tensor(978.1197)\n",
      "0\n"
     ]
    },
    {
     "name": "stderr",
     "output_type": "stream",
     "text": [
      "\r",
      " 42%|██████████████████████████████████████████████████████████████████████████████████████████████████████████████████▉                                                                                                                                                                | 209/500 [00:50<01:03,  4.59it/s]"
     ]
    },
    {
     "name": "stdout",
     "output_type": "stream",
     "text": [
      "tensor(1067.2072) tensor(958.4885) tensor(1141.8468) tensor(1013.9670)\n",
      "1\n",
      "0\n"
     ]
    },
    {
     "name": "stderr",
     "output_type": "stream",
     "text": [
      "\r",
      " 42%|███████████████████████████████████████████████████████████████████████████████████████████████████████████████████▌                                                                                                                                                               | 210/500 [00:50<01:02,  4.65it/s]"
     ]
    },
    {
     "name": "stdout",
     "output_type": "stream",
     "text": [
      "tensor(1207.0660) tensor(787.0135) tensor(1277.0199) tensor(861.1806)\n",
      "1\n",
      "tensor(1271.9304) tensor(504.2757) tensor(1383.6936) tensor(644.7006)\n",
      "0\n"
     ]
    },
    {
     "name": "stderr",
     "output_type": "stream",
     "text": [
      "\r",
      " 42%|████████████████████████████████████████████████████████████████████████████████████████████████████████████████████                                                                                                                                                               | 211/500 [00:51<01:02,  4.59it/s]"
     ]
    },
    {
     "name": "stdout",
     "output_type": "stream",
     "text": [
      "tensor(1006.3432) tensor(899.4661) tensor(1067.4897) tensor(956.2193)\n",
      "1\n"
     ]
    },
    {
     "name": "stderr",
     "output_type": "stream",
     "text": [
      "\r",
      " 42%|████████████████████████████████████████████████████████████████████████████████████████████████████████████████████▌                                                                                                                                                              | 212/500 [00:51<01:04,  4.47it/s]"
     ]
    },
    {
     "name": "stdout",
     "output_type": "stream",
     "text": [
      "0\n",
      "tensor(1144.0687) tensor(684.7349) tensor(1245.9872) tensor(777.5773)\n",
      "1\n"
     ]
    },
    {
     "name": "stderr",
     "output_type": "stream",
     "text": [
      "\r",
      " 43%|█████████████████████████████████████████████████████████████████████████████████████████████████████████████████████▏                                                                                                                                                             | 213/500 [00:51<01:02,  4.58it/s]"
     ]
    },
    {
     "name": "stdout",
     "output_type": "stream",
     "text": [
      "0\n",
      "tensor(1253.2754) tensor(594.1691) tensor(1346.8635) tensor(730.8973)\n",
      "1\n"
     ]
    },
    {
     "name": "stderr",
     "output_type": "stream",
     "text": [
      "\r",
      " 43%|█████████████████████████████████████████████████████████████████████████████████████████████████████████████████████▋                                                                                                                                                             | 214/500 [00:51<01:01,  4.65it/s]"
     ]
    },
    {
     "name": "stdout",
     "output_type": "stream",
     "text": [
      "0\n",
      "1\n",
      "0\n"
     ]
    },
    {
     "name": "stderr",
     "output_type": "stream",
     "text": [
      "\r",
      " 43%|██████████████████████████████████████████████████████████████████████████████████████████████████████████████████████▎                                                                                                                                                            | 215/500 [00:51<00:59,  4.75it/s]"
     ]
    },
    {
     "name": "stdout",
     "output_type": "stream",
     "text": [
      "1\n",
      "tensor(1282.8170) tensor(336.8316) tensor(1355.9808) tensor(413.7289)\n",
      "0\n"
     ]
    },
    {
     "name": "stderr",
     "output_type": "stream",
     "text": [
      "\r",
      " 43%|██████████████████████████████████████████████████████████████████████████████████████████████████████████████████████▊                                                                                                                                                            | 216/500 [00:52<00:59,  4.78it/s]"
     ]
    },
    {
     "name": "stdout",
     "output_type": "stream",
     "text": [
      "tensor(1082.7865) tensor(976.1425) tensor(1194.6346) tensor(1084.1656)\n",
      "1\n",
      "0\n",
      "tensor(1263.3610) "
     ]
    },
    {
     "name": "stderr",
     "output_type": "stream",
     "text": [
      "\r",
      " 43%|███████████████████████████████████████████████████████████████████████████████████████████████████████████████████████▎                                                                                                                                                           | 217/500 [00:52<00:58,  4.83it/s]"
     ]
    },
    {
     "name": "stdout",
     "output_type": "stream",
     "text": [
      "tensor(547.4646) tensor(1377.9501) tensor(654.8477)\n",
      "1\n",
      "0\n"
     ]
    },
    {
     "name": "stderr",
     "output_type": "stream",
     "text": [
      "\r",
      " 44%|███████████████████████████████████████████████████████████████████████████████████████████████████████████████████████▉                                                                                                                                                           | 218/500 [00:52<00:59,  4.74it/s]"
     ]
    },
    {
     "name": "stdout",
     "output_type": "stream",
     "text": [
      "1\n",
      "0\n"
     ]
    },
    {
     "name": "stderr",
     "output_type": "stream",
     "text": [
      " 44%|█████████████████████████████████████████████████████████████████████████████████████████████████████████████████████████                                                                                                                                                          | 220/500 [00:53<00:58,  4.81it/s]"
     ]
    },
    {
     "name": "stdout",
     "output_type": "stream",
     "text": [
      "1\n",
      "0\n",
      "1\n"
     ]
    },
    {
     "name": "stderr",
     "output_type": "stream",
     "text": [
      "\r",
      " 44%|█████████████████████████████████████████████████████████████████████████████████████████████████████████████████████████▌                                                                                                                                                         | 221/500 [00:53<00:57,  4.82it/s]"
     ]
    },
    {
     "name": "stdout",
     "output_type": "stream",
     "text": [
      "0\n",
      "tensor(1177.2141) tensor(645.5090) tensor(1345.7820) tensor(876.9732)\n",
      "tensor(1195.4529) tensor(600.0790) tensor(1286.3247) tensor(678.3560)\n",
      "1\n"
     ]
    },
    {
     "name": "stderr",
     "output_type": "stream",
     "text": [
      "\r",
      " 44%|██████████████████████████████████████████████████████████████████████████████████████████████████████████████████████████                                                                                                                                                         | 222/500 [00:53<00:57,  4.80it/s]"
     ]
    },
    {
     "name": "stdout",
     "output_type": "stream",
     "text": [
      "tensor(1220.7351) tensor(490.5694) tensor(1393.2886) tensor(649.6743)\n",
      "0\n",
      "tensor(1018.7356) tensor(693.4872) tensor(1204.2163) tensor(950.8007)\n",
      "1\n"
     ]
    },
    {
     "name": "stderr",
     "output_type": "stream",
     "text": [
      "\r",
      " 45%|██████████████████████████████████████████████████████████████████████████████████████████████████████████████████████████▋                                                                                                                                                        | 223/500 [00:53<00:56,  4.88it/s]"
     ]
    },
    {
     "name": "stdout",
     "output_type": "stream",
     "text": [
      "0\n",
      "1\n"
     ]
    },
    {
     "name": "stderr",
     "output_type": "stream",
     "text": [
      "\r",
      " 45%|███████████████████████████████████████████████████████████████████████████████████████████████████████████████████████████▏                                                                                                                                                       | 224/500 [00:53<00:57,  4.81it/s]"
     ]
    },
    {
     "name": "stdout",
     "output_type": "stream",
     "text": [
      "tensor(1078.0894) tensor(744.9285) tensor(1179.6028) tensor(878.0483)\n",
      "tensor(1248.6941) tensor(848.2391) tensor(1363.0056) tensor(950.5157)\n",
      "0\n",
      "1\n"
     ]
    },
    {
     "name": "stderr",
     "output_type": "stream",
     "text": [
      "\r",
      " 45%|███████████████████████████████████████████████████████████████████████████████████████████████████████████████████████████▊                                                                                                                                                       | 225/500 [00:54<00:56,  4.83it/s]"
     ]
    },
    {
     "name": "stdout",
     "output_type": "stream",
     "text": [
      "0\n",
      "1\n"
     ]
    },
    {
     "name": "stderr",
     "output_type": "stream",
     "text": [
      "\r",
      " 45%|████████████████████████████████████████████████████████████████████████████████████████████████████████████████████████████▎                                                                                                                                                      | 226/500 [00:54<00:56,  4.87it/s]"
     ]
    },
    {
     "name": "stdout",
     "output_type": "stream",
     "text": [
      "0\n",
      "1\n"
     ]
    },
    {
     "name": "stderr",
     "output_type": "stream",
     "text": [
      "\r",
      " 45%|████████████████████████████████████████████████████████████████████████████████████████████████████████████████████████████▊                                                                                                                                                      | 227/500 [00:54<00:56,  4.79it/s]"
     ]
    },
    {
     "name": "stdout",
     "output_type": "stream",
     "text": [
      "0\n",
      "tensor(1279.2988) tensor(435.0424) tensor(1381.6013) tensor(545.2172)\n",
      "1\n"
     ]
    },
    {
     "name": "stderr",
     "output_type": "stream",
     "text": [
      "\r",
      " 46%|█████████████████████████████████████████████████████████████████████████████████████████████████████████████████████████████▍                                                                                                                                                     | 228/500 [00:54<00:59,  4.58it/s]"
     ]
    },
    {
     "name": "stdout",
     "output_type": "stream",
     "text": [
      "0\n",
      "tensor(1177.4187) tensor(878.4200) tensor(1349.8425) tensor(1028.1769)\n",
      "1\n"
     ]
    },
    {
     "name": "stderr",
     "output_type": "stream",
     "text": [
      "\r",
      " 46%|█████████████████████████████████████████████████████████████████████████████████████████████████████████████████████████████▉                                                                                                                                                     | 229/500 [00:54<00:59,  4.58it/s]"
     ]
    },
    {
     "name": "stdout",
     "output_type": "stream",
     "text": [
      "tensor(1205.6215) tensor(823.4820) tensor(1292.8998) tensor(901.0335)\n",
      "0\n",
      "1\n",
      "0\n"
     ]
    },
    {
     "name": "stderr",
     "output_type": "stream",
     "text": [
      "\r",
      " 46%|██████████████████████████████████████████████████████████████████████████████████████████████████████████████████████████████▌                                                                                                                                                    | 230/500 [00:55<00:57,  4.69it/s]"
     ]
    },
    {
     "name": "stdout",
     "output_type": "stream",
     "text": [
      "tensor(1159.0160) tensor(520.0977) tensor(1276.1740) tensor(674.8306)\n",
      "1\n",
      "0\n"
     ]
    },
    {
     "name": "stderr",
     "output_type": "stream",
     "text": [
      "\r",
      " 46%|███████████████████████████████████████████████████████████████████████████████████████████████████████████████████████████████                                                                                                                                                    | 231/500 [00:55<00:56,  4.74it/s]"
     ]
    },
    {
     "name": "stdout",
     "output_type": "stream",
     "text": [
      "tensor(1284.5936) tensor(683.6135) tensor(1361.9261) tensor(750.9780)\n",
      "tensor(1188.0370) tensor(871.2060) tensor(1291.8986) tensor(944.6690)\n",
      "1\n",
      "tensor(1020.0349) tensor(816.3247) tensor(1169.7410) tensor(1015.3623)\n",
      "0\n"
     ]
    },
    {
     "name": "stderr",
     "output_type": "stream",
     "text": [
      " 47%|████████████████████████████████████████████████████████████████████████████████████████████████████████████████████████████████▏                                                                                                                                                  | 233/500 [00:55<00:54,  4.87it/s]"
     ]
    },
    {
     "name": "stdout",
     "output_type": "stream",
     "text": [
      "1\n",
      "tensor(1260.5930) tensor(1127.5604) tensor(1322.3132) tensor(1194.9039)\n",
      "0\n",
      "1\n"
     ]
    },
    {
     "name": "stderr",
     "output_type": "stream",
     "text": [
      "\r",
      " 47%|████████████████████████████████████████████████████████████████████████████████████████████████████████████████████████████████▋                                                                                                                                                  | 234/500 [00:55<00:55,  4.79it/s]"
     ]
    },
    {
     "name": "stdout",
     "output_type": "stream",
     "text": [
      "tensor(1184.7018) tensor(621.5935) tensor(1308.6769) tensor(771.1172)\n",
      "tensor(1247.1978) tensor(190.4528) tensor(1294.4290) tensor(242.0114)\n",
      "0\n",
      "1\n"
     ]
    },
    {
     "name": "stderr",
     "output_type": "stream",
     "text": [
      "\r",
      " 47%|█████████████████████████████████████████████████████████████████████████████████████████████████████████████████████████████████▎                                                                                                                                                 | 235/500 [00:56<00:55,  4.75it/s]"
     ]
    },
    {
     "name": "stdout",
     "output_type": "stream",
     "text": [
      "0\n",
      "tensor(1180.7737) tensor(933.7743) tensor(1277.9033) tensor(1030.1987)\n",
      "1\n",
      "0\n"
     ]
    },
    {
     "name": "stderr",
     "output_type": "stream",
     "text": [
      "\r",
      " 47%|█████████████████████████████████████████████████████████████████████████████████████████████████████████████████████████████████▊                                                                                                                                                 | 236/500 [00:56<00:54,  4.87it/s]"
     ]
    },
    {
     "name": "stdout",
     "output_type": "stream",
     "text": [
      "tensor(1277.4166) tensor(447.2414) tensor(1390.7528) tensor(654.0658)\n",
      "1\n",
      "tensor(1018.2925) tensor(702.8627) tensor(1184.4475) tensor(853.7307)\n",
      "0\n"
     ]
    },
    {
     "name": "stderr",
     "output_type": "stream",
     "text": [
      "\r",
      " 47%|██████████████████████████████████████████████████████████████████████████████████████████████████████████████████████████████████▎                                                                                                                                                | 237/500 [00:56<00:54,  4.81it/s]"
     ]
    },
    {
     "name": "stdout",
     "output_type": "stream",
     "text": [
      "1\n",
      "0\n"
     ]
    },
    {
     "name": "stderr",
     "output_type": "stream",
     "text": [
      "\r",
      " 48%|██████████████████████████████████████████████████████████████████████████████████████████████████████████████████████████████████▉                                                                                                                                                | 238/500 [00:56<00:55,  4.76it/s]"
     ]
    },
    {
     "name": "stdout",
     "output_type": "stream",
     "text": [
      "1\n",
      "tensor(1087.7899) tensor(680.3403) tensor(1131.1979) tensor(729.5003)\n",
      "0\n"
     ]
    },
    {
     "name": "stderr",
     "output_type": "stream",
     "text": [
      "\r",
      " 48%|███████████████████████████████████████████████████████████████████████████████████████████████████████████████████████████████████▍                                                                                                                                               | 239/500 [00:56<00:54,  4.81it/s]"
     ]
    },
    {
     "name": "stdout",
     "output_type": "stream",
     "text": [
      "tensor(1014.0978) tensor(647.4528) tensor(1091.6979) tensor(728.6711)\n",
      "1\n",
      "tensor(1219.1284) tensor(598.0483) tensor(1373.3115) tensor(889.7325)\n",
      "0\n"
     ]
    },
    {
     "name": "stderr",
     "output_type": "stream",
     "text": [
      " 48%|████████████████████████████████████████████████████████████████████████████████████████████████████████████████████████████████████▌                                                                                                                                              | 241/500 [00:57<00:53,  4.88it/s]"
     ]
    },
    {
     "name": "stdout",
     "output_type": "stream",
     "text": [
      "1\n",
      "tensor(1117.2803) tensor(745.6520) tensor(1297.5874) tensor(902.1241)\n",
      "0\n",
      "1\n"
     ]
    },
    {
     "name": "stderr",
     "output_type": "stream",
     "text": [
      "\r",
      " 48%|█████████████████████████████████████████████████████████████████████████████████████████████████████████████████████████████████████                                                                                                                                              | 242/500 [00:57<00:54,  4.75it/s]"
     ]
    },
    {
     "name": "stdout",
     "output_type": "stream",
     "text": [
      "0\n",
      "1\n"
     ]
    },
    {
     "name": "stderr",
     "output_type": "stream",
     "text": [
      "\r",
      " 49%|█████████████████████████████████████████████████████████████████████████████████████████████████████████████████████████████████████▋                                                                                                                                             | 243/500 [00:57<00:54,  4.73it/s]"
     ]
    },
    {
     "name": "stdout",
     "output_type": "stream",
     "text": [
      "tensor(1220.8157) tensor(397.7073) tensor(1374.4680) tensor(556.0863)\n",
      "0\n",
      "tensor(1264.2831) tensor(574.0143) tensor(1307.5883) tensor(609.4778)\n",
      "1\n"
     ]
    },
    {
     "name": "stderr",
     "output_type": "stream",
     "text": [
      "\r",
      " 49%|██████████████████████████████████████████████████████████████████████████████████████████████████████████████████████████████████████▏                                                                                                                                            | 244/500 [00:58<00:52,  4.86it/s]"
     ]
    },
    {
     "name": "stdout",
     "output_type": "stream",
     "text": [
      "0\n",
      "1\n",
      "tensor(1038.3368) tensor(884.4284) tensor(1264.4757) tensor(1164.6665)\n",
      "tensor(1291.5852) tensor(1091.0111) tensor(1355.6912) tensor(1161.6495)\n",
      "0\n"
     ]
    },
    {
     "data": {
      "image/png": "[encoded data removed]",
      "text/plain": [
       "<Figure size 640x480 with 1 Axes>"
      ]
     },
     "metadata": {},
     "output_type": "display_data"
    },
    {
     "name": "stderr",
     "output_type": "stream",
     "text": [
      " 49%|███████████████████████████████████████████████████████████████████████████████████████████████████████████████████████████████████████▎                                                                                                                                           | 246/500 [00:58<01:11,  3.55it/s]"
     ]
    },
    {
     "name": "stdout",
     "output_type": "stream",
     "text": [
      "tensor(1251.8529) tensor(888.2368) tensor(1382.0011) tensor(1021.6355)\n",
      "tensor(1357.2999) tensor(854.4483) tensor(1398.8009) tensor(924.7446)\n",
      "1\n",
      "0\n",
      "1\n"
     ]
    },
    {
     "name": "stderr",
     "output_type": "stream",
     "text": [
      "\r",
      " 49%|███████████████████████████████████████████████████████████████████████████████████████████████████████████████████████████████████████▊                                                                                                                                           | 247/500 [00:59<01:04,  3.95it/s]"
     ]
    },
    {
     "name": "stdout",
     "output_type": "stream",
     "text": [
      "0\n",
      "1\n",
      "tensor(1130.6118) tensor(711.1235) tensor(1202.9778) tensor(787.9948)\n",
      "0\n"
     ]
    },
    {
     "name": "stderr",
     "output_type": "stream",
     "text": [
      "\r",
      " 50%|████████████████████████████████████████████████████████████████████████████████████████████████████████████████████████████████████████▍                                                                                                                                          | 248/500 [00:59<00:59,  4.23it/s]"
     ]
    },
    {
     "name": "stdout",
     "output_type": "stream",
     "text": [
      "tensor(1150.5327) tensor(586.6874) tensor(1300.6028) tensor(788.8877)\n",
      "1\n"
     ]
    },
    {
     "name": "stderr",
     "output_type": "stream",
     "text": [
      "\r",
      " 50%|████████████████████████████████████████████████████████████████████████████████████████████████████████████████████████████████████████▉                                                                                                                                          | 249/500 [00:59<00:57,  4.33it/s]"
     ]
    },
    {
     "name": "stdout",
     "output_type": "stream",
     "text": [
      "0\n",
      "1\n"
     ]
    },
    {
     "name": "stderr",
     "output_type": "stream",
     "text": [
      "\r",
      " 50%|█████████████████████████████████████████████████████████████████████████████████████████████████████████████████████████████████████████▌                                                                                                                                         | 250/500 [00:59<00:56,  4.39it/s]"
     ]
    },
    {
     "name": "stdout",
     "output_type": "stream",
     "text": [
      "0\n",
      "tensor(1264.7858) tensor(927.9462) tensor(1328.7301) tensor(987.1396)\n",
      "1\n"
     ]
    },
    {
     "name": "stderr",
     "output_type": "stream",
     "text": [
      "\r",
      " 50%|██████████████████████████████████████████████████████████████████████████████████████████████████████████████████████████████████████████                                                                                                                                         | 251/500 [00:59<00:55,  4.51it/s]"
     ]
    },
    {
     "name": "stdout",
     "output_type": "stream",
     "text": [
      "0\n",
      "1\n",
      "tensor(1165.4023) tensor(319.8728) tensor(1214.0396) tensor(372.0833)\n",
      "0\n"
     ]
    },
    {
     "name": "stderr",
     "output_type": "stream",
     "text": [
      "\r",
      " 50%|██████████████████████████████████████████████████████████████████████████████████████████████████████████████████████████████████████████▌                                                                                                                                        | 252/500 [01:00<00:54,  4.54it/s]"
     ]
    },
    {
     "name": "stdout",
     "output_type": "stream",
     "text": [
      "1\n"
     ]
    },
    {
     "name": "stderr",
     "output_type": "stream",
     "text": [
      "\r",
      " 51%|███████████████████████████████████████████████████████████████████████████████████████████████████████████████████████████████████████████▏                                                                                                                                       | 253/500 [01:00<00:55,  4.41it/s]"
     ]
    },
    {
     "name": "stdout",
     "output_type": "stream",
     "text": [
      "tensor(1116.6621) tensor(929.1810) tensor(1161.5518) tensor(969.3758)\n",
      "tensor(1279.0382) tensor(1073.5668) tensor(1336.6571) tensor(1141.3265)\n",
      "0\n",
      "1\n"
     ]
    },
    {
     "name": "stderr",
     "output_type": "stream",
     "text": [
      "\r",
      " 51%|███████████████████████████████████████████████████████████████████████████████████████████████████████████████████████████████████████████▋                                                                                                                                       | 254/500 [01:00<00:55,  4.47it/s]"
     ]
    },
    {
     "name": "stdout",
     "output_type": "stream",
     "text": [
      "0\n",
      "tensor(1172.2560) tensor(586.4952) tensor(1313.0824) tensor(723.9794)\n",
      "1\n"
     ]
    },
    {
     "name": "stderr",
     "output_type": "stream",
     "text": [
      "\r",
      " 51%|████████████████████████████████████████████████████████████████████████████████████████████████████████████████████████████████████████████▎                                                                                                                                      | 255/500 [01:00<00:53,  4.62it/s]"
     ]
    },
    {
     "name": "stdout",
     "output_type": "stream",
     "text": [
      "0\n",
      "tensor(877.3647) tensor(617.9608) tensor(958.9800) tensor(708.6304)\n",
      "1\n"
     ]
    },
    {
     "name": "stderr",
     "output_type": "stream",
     "text": [
      "\r",
      " 51%|████████████████████████████████████████████████████████████████████████████████████████████████████████████████████████████████████████████▊                                                                                                                                      | 256/500 [01:00<00:52,  4.65it/s]"
     ]
    },
    {
     "name": "stdout",
     "output_type": "stream",
     "text": [
      "0\n",
      "1\n",
      "tensor(1319.7451) tensor(529.7198) tensor(1396.2583) tensor(615.7420)\n",
      "0\n"
     ]
    },
    {
     "name": "stderr",
     "output_type": "stream",
     "text": [
      "\r",
      " 51%|█████████████████████████████████████████████████████████████████████████████████████████████████████████████████████████████████████████████▎                                                                                                                                     | 257/500 [01:01<00:50,  4.80it/s]"
     ]
    },
    {
     "name": "stdout",
     "output_type": "stream",
     "text": [
      "1\n",
      "0\n"
     ]
    },
    {
     "name": "stderr",
     "output_type": "stream",
     "text": [
      "\r",
      " 52%|█████████████████████████████████████████████████████████████████████████████████████████████████████████████████████████████████████████████▉                                                                                                                                     | 258/500 [01:01<00:50,  4.76it/s]"
     ]
    },
    {
     "name": "stdout",
     "output_type": "stream",
     "text": [
      "tensor(1120.1606) tensor(594.9033) tensor(1189.6418) tensor(656.3203)\n",
      "1\n",
      "0\n"
     ]
    },
    {
     "name": "stderr",
     "output_type": "stream",
     "text": [
      "\r",
      " 52%|██████████████████████████████████████████████████████████████████████████████████████████████████████████████████████████████████████████████▍                                                                                                                                    | 259/500 [01:01<00:51,  4.67it/s]"
     ]
    },
    {
     "name": "stdout",
     "output_type": "stream",
     "text": [
      "tensor(1187.5789) tensor(899.8234) tensor(1314.3418) tensor(998.1614)\n",
      "1\n",
      "0\n"
     ]
    },
    {
     "name": "stderr",
     "output_type": "stream",
     "text": [
      "\r",
      " 52%|███████████████████████████████████████████████████████████████████████████████████████████████████████████████████████████████████████████████                                                                                                                                    | 260/500 [01:01<00:50,  4.74it/s]"
     ]
    },
    {
     "name": "stdout",
     "output_type": "stream",
     "text": [
      "1\n",
      "tensor(1201.8844) tensor(802.8790) tensor(1263.6464) tensor(870.7531)\n",
      "0\n"
     ]
    },
    {
     "name": "stderr",
     "output_type": "stream",
     "text": [
      " 52%|████████████████████████████████████████████████████████████████████████████████████████████████████████████████████████████████████████████████                                                                                                                                   | 262/500 [01:02<00:48,  4.86it/s]"
     ]
    },
    {
     "name": "stdout",
     "output_type": "stream",
     "text": [
      "1\n",
      "0\n",
      "1\n"
     ]
    },
    {
     "name": "stderr",
     "output_type": "stream",
     "text": [
      "\r",
      " 53%|████████████████████████████████████████████████████████████████████████████████████████████████████████████████████████████████████████████████▋                                                                                                                                  | 263/500 [01:02<00:49,  4.79it/s]"
     ]
    },
    {
     "name": "stdout",
     "output_type": "stream",
     "text": [
      "0\n",
      "1\n"
     ]
    },
    {
     "name": "stderr",
     "output_type": "stream",
     "text": [
      "\r",
      " 53%|█████████████████████████████████████████████████████████████████████████████████████████████████████████████████████████████████████████████████▏                                                                                                                                 | 264/500 [01:02<00:49,  4.74it/s]"
     ]
    },
    {
     "name": "stdout",
     "output_type": "stream",
     "text": [
      "0\n",
      "1\n"
     ]
    },
    {
     "name": "stderr",
     "output_type": "stream",
     "text": [
      "\r",
      " 53%|█████████████████████████████████████████████████████████████████████████████████████████████████████████████████████████████████████████████████▊                                                                                                                                 | 265/500 [01:02<00:49,  4.72it/s]"
     ]
    },
    {
     "name": "stdout",
     "output_type": "stream",
     "text": [
      "0\n",
      "tensor(1121.8971) tensor(725.2464) tensor(1217.1805) tensor(812.4911)\n",
      "1\n"
     ]
    },
    {
     "name": "stderr",
     "output_type": "stream",
     "text": [
      "\r",
      " 53%|██████████████████████████████████████████████████████████████████████████████████████████████████████████████████████████████████████████████████▎                                                                                                                                | 266/500 [01:03<00:50,  4.59it/s]"
     ]
    },
    {
     "name": "stdout",
     "output_type": "stream",
     "text": [
      "0\n",
      "1\n"
     ]
    },
    {
     "name": "stderr",
     "output_type": "stream",
     "text": [
      "\r",
      " 53%|██████████████████████████████████████████████████████████████████████████████████████████████████████████████████████████████████████████████████▊                                                                                                                                | 267/500 [01:03<00:52,  4.47it/s]"
     ]
    },
    {
     "name": "stdout",
     "output_type": "stream",
     "text": [
      "0\n",
      "tensor(1362.9740) tensor(941.2553) tensor(1393.4196) tensor(1085.2448)\n",
      "1\n"
     ]
    },
    {
     "name": "stderr",
     "output_type": "stream",
     "text": [
      "\r",
      " 54%|███████████████████████████████████████████████████████████████████████████████████████████████████████████████████████████████████████████████████▍                                                                                                                               | 268/500 [01:03<00:54,  4.28it/s]"
     ]
    },
    {
     "name": "stdout",
     "output_type": "stream",
     "text": [
      "0\n",
      "tensor(1207.5422) tensor(625.3143) tensor(1303.5476) tensor(724.8571)\n",
      "1\n"
     ]
    },
    {
     "name": "stderr",
     "output_type": "stream",
     "text": [
      "\r",
      " 54%|███████████████████████████████████████████████████████████████████████████████████████████████████████████████████████████████████████████████████▉                                                                                                                               | 269/500 [01:03<00:54,  4.25it/s]"
     ]
    },
    {
     "name": "stdout",
     "output_type": "stream",
     "text": [
      "0\n",
      "1\n"
     ]
    },
    {
     "name": "stderr",
     "output_type": "stream",
     "text": [
      "\r",
      " 54%|████████████████████████████████████████████████████████████████████████████████████████████████████████████████████████████████████████████████████▌                                                                                                                              | 270/500 [01:04<00:55,  4.17it/s]"
     ]
    },
    {
     "name": "stdout",
     "output_type": "stream",
     "text": [
      "0\n",
      "tensor(1275.1895) tensor(890.6307) tensor(1357.8979) tensor(977.1634)\n",
      "1\n"
     ]
    },
    {
     "name": "stderr",
     "output_type": "stream",
     "text": [
      "\r",
      " 54%|█████████████████████████████████████████████████████████████████████████████████████████████████████████████████████████████████████████████████████                                                                                                                              | 271/500 [01:04<00:53,  4.26it/s]"
     ]
    },
    {
     "name": "stdout",
     "output_type": "stream",
     "text": [
      "tensor(1138.5625) tensor(778.9323) tensor(1197.0884) tensor(846.1995)\n",
      "0\n",
      "tensor(1095.7367) tensor(941.3815) tensor(1179.6332) tensor(1017.8737)\n",
      "1\n"
     ]
    },
    {
     "name": "stderr",
     "output_type": "stream",
     "text": [
      "\r",
      " 54%|█████████████████████████████████████████████████████████████████████████████████████████████████████████████████████████████████████████████████████▌                                                                                                                             | 272/500 [01:04<00:51,  4.41it/s]"
     ]
    },
    {
     "name": "stdout",
     "output_type": "stream",
     "text": [
      "tensor(1065.6827) tensor(641.3232) tensor(1255.3734) tensor(893.7535)\n",
      "tensor(1293.4104) tensor(725.2957) tensor(1340.4832) tensor(766.7137)\n",
      "tensor(1151.5576) tensor(804.7370) tensor(1400.) tensor(1047.2552)\n",
      "0\n",
      "tensor(1045.0968) tensor(960.9235) tensor(1181.6847) tensor(1119.0592)\n",
      "1\n",
      "0\n"
     ]
    },
    {
     "name": "stderr",
     "output_type": "stream",
     "text": [
      "\r",
      " 55%|██████████████████████████████████████████████████████████████████████████████████████████████████████████████████████████████████████████████████████▏                                                                                                                            | 273/500 [01:04<00:49,  4.61it/s]"
     ]
    },
    {
     "name": "stdout",
     "output_type": "stream",
     "text": [
      "1\n",
      "tensor(1238.3500) tensor(979.1063) tensor(1384.6390) tensor(1138.9320)\n",
      "tensor(1018.7806) tensor(671.3688) tensor(1150.3864) tensor(833.2119)\n",
      "tensor(1244.9996) tensor(589.4229) tensor(1391.6503) tensor(724.0197)\n",
      "0\n"
     ]
    },
    {
     "name": "stderr",
     "output_type": "stream",
     "text": [
      "\r",
      " 55%|██████████████████████████████████████████████████████████████████████████████████████████████████████████████████████████████████████████████████████▋                                                                                                                            | 274/500 [01:04<00:48,  4.64it/s]"
     ]
    },
    {
     "name": "stdout",
     "output_type": "stream",
     "text": [
      "tensor(1247.7374) tensor(896.7233) tensor(1344.3038) tensor(988.9209)\n",
      "1\n",
      "tensor(1167.4316) tensor(903.5842) tensor(1251.9734) tensor(997.4294)\n",
      "tensor(1040.9524) tensor(968.0310) tensor(1129.9688) tensor(1055.1808)\n",
      "0\n"
     ]
    },
    {
     "name": "stderr",
     "output_type": "stream",
     "text": [
      " 55%|███████████████████████████████████████████████████████████████████████████████████████████████████████████████████████████████████████████████████████▊                                                                                                                           | 276/500 [01:05<00:46,  4.82it/s]"
     ]
    },
    {
     "name": "stdout",
     "output_type": "stream",
     "text": [
      "tensor(937.1498) tensor(582.9594) tensor(1246.1771) tensor(911.8962)\n",
      "1\n",
      "0\n",
      "1\n"
     ]
    },
    {
     "name": "stderr",
     "output_type": "stream",
     "text": [
      "\r",
      " 55%|████████████████████████████████████████████████████████████████████████████████████████████████████████████████████████████████████████████████████████▎                                                                                                                          | 277/500 [01:05<00:46,  4.80it/s]"
     ]
    },
    {
     "name": "stdout",
     "output_type": "stream",
     "text": [
      "tensor(1131.7446) tensor(946.9329) tensor(1246.8083) tensor(1059.8322)\n",
      "0\n",
      "1\n"
     ]
    },
    {
     "name": "stderr",
     "output_type": "stream",
     "text": [
      "\r",
      " 56%|████████████████████████████████████████████████████████████████████████████████████████████████████████████████████████████████████████████████████████▉                                                                                                                          | 278/500 [01:05<00:46,  4.76it/s]"
     ]
    },
    {
     "name": "stdout",
     "output_type": "stream",
     "text": [
      "tensor(1263.4033) tensor(1001.4669) tensor(1349.4141) tensor(1081.1176)\n",
      "0\n",
      "tensor(1182.3461) tensor(463.5573) tensor(1282.6620) tensor(545.9754)\n",
      "1\n"
     ]
    },
    {
     "name": "stderr",
     "output_type": "stream",
     "text": [
      "\r",
      " 56%|█████████████████████████████████████████████████████████████████████████████████████████████████████████████████████████████████████████████████████████▍                                                                                                                         | 279/500 [01:05<00:46,  4.74it/s]"
     ]
    },
    {
     "name": "stdout",
     "output_type": "stream",
     "text": [
      "tensor(1042.6594) tensor(674.2006) tensor(1246.5608) tensor(907.5089)\n",
      "tensor(1054.7212) tensor(1139.4213) tensor(1142.0330) tensor(1225.8983)\n",
      "0\n",
      "1\n"
     ]
    },
    {
     "name": "stderr",
     "output_type": "stream",
     "text": [
      "\r",
      " 56%|██████████████████████████████████████████████████████████████████████████████████████████████████████████████████████████████████████████████████████████                                                                                                                         | 280/500 [01:06<00:46,  4.69it/s]"
     ]
    },
    {
     "name": "stdout",
     "output_type": "stream",
     "text": [
      "0\n",
      "1\n"
     ]
    },
    {
     "name": "stderr",
     "output_type": "stream",
     "text": [
      "\r",
      " 56%|██████████████████████████████████████████████████████████████████████████████████████████████████████████████████████████████████████████████████████████▌                                                                                                                        | 281/500 [01:06<00:46,  4.69it/s]"
     ]
    },
    {
     "name": "stdout",
     "output_type": "stream",
     "text": [
      "tensor(1263.3048) tensor(470.1994) tensor(1360.3849) tensor(575.2290)\n",
      "tensor(1180.6915) tensor(723.3448) tensor(1244.0656) tensor(797.4916)\n",
      "0\n",
      "1\n"
     ]
    },
    {
     "name": "stderr",
     "output_type": "stream",
     "text": [
      "\r",
      " 56%|███████████████████████████████████████████████████████████████████████████████████████████████████████████████████████████████████████████████████████████                                                                                                                        | 282/500 [01:06<00:46,  4.70it/s]"
     ]
    },
    {
     "name": "stdout",
     "output_type": "stream",
     "text": [
      "0\n",
      "tensor(964.7369) tensor(661.8745) tensor(1076.7522) tensor(762.9103)\n",
      "1\n"
     ]
    },
    {
     "name": "stderr",
     "output_type": "stream",
     "text": [
      "\r",
      " 57%|███████████████████████████████████████████████████████████████████████████████████████████████████████████████████████████████████████████████████████████▋                                                                                                                       | 283/500 [01:06<00:46,  4.66it/s]"
     ]
    },
    {
     "name": "stdout",
     "output_type": "stream",
     "text": [
      "0\n",
      "tensor(1187.3671) tensor(586.6044) tensor(1325.9694) tensor(756.6210)\n",
      "1\n"
     ]
    },
    {
     "name": "stderr",
     "output_type": "stream",
     "text": [
      "\r",
      " 57%|████████████████████████████████████████████████████████████████████████████████████████████████████████████████████████████████████████████████████████████▏                                                                                                                      | 284/500 [01:06<00:47,  4.59it/s]"
     ]
    },
    {
     "name": "stdout",
     "output_type": "stream",
     "text": [
      "0\n",
      "1\n"
     ]
    },
    {
     "name": "stderr",
     "output_type": "stream",
     "text": [
      "\r",
      " 57%|████████████████████████████████████████████████████████████████████████████████████████████████████████████████████████████████████████████████████████████▊                                                                                                                      | 285/500 [01:07<00:48,  4.47it/s]"
     ]
    },
    {
     "name": "stdout",
     "output_type": "stream",
     "text": [
      "tensor(1275.6880) tensor(965.9910) tensor(1370.1294) tensor(1056.4412)\n",
      "0\n",
      "1\n"
     ]
    },
    {
     "name": "stderr",
     "output_type": "stream",
     "text": [
      "\r",
      " 57%|█████████████████████████████████████████████████████████████████████████████████████████████████████████████████████████████████████████████████████████████▎                                                                                                                     | 286/500 [01:07<00:51,  4.17it/s]"
     ]
    },
    {
     "name": "stdout",
     "output_type": "stream",
     "text": [
      "0\n",
      "1\n"
     ]
    },
    {
     "name": "stderr",
     "output_type": "stream",
     "text": [
      "\r",
      " 57%|█████████████████████████████████████████████████████████████████████████████████████████████████████████████████████████████████████████████████████████████▊                                                                                                                     | 287/500 [01:07<00:49,  4.32it/s]"
     ]
    },
    {
     "name": "stdout",
     "output_type": "stream",
     "text": [
      "tensor(1244.4481) tensor(524.9034) tensor(1326.5753) tensor(601.4388)\n",
      "tensor(1159.0253) tensor(829.5701) tensor(1299.9913) tensor(951.5768)\n",
      "0\n",
      "tensor(1271.7432) tensor(819.7245) tensor(1359.9919) tensor(923.6421)\n",
      "1\n",
      "0\n"
     ]
    },
    {
     "name": "stderr",
     "output_type": "stream",
     "text": [
      "\r",
      " 58%|██████████████████████████████████████████████████████████████████████████████████████████████████████████████████████████████████████████████████████████████▍                                                                                                                    | 288/500 [01:07<00:46,  4.55it/s]"
     ]
    },
    {
     "name": "stdout",
     "output_type": "stream",
     "text": [
      "1\n",
      "0\n"
     ]
    },
    {
     "name": "stderr",
     "output_type": "stream",
     "text": [
      "\r",
      " 58%|██████████████████████████████████████████████████████████████████████████████████████████████████████████████████████████████████████████████████████████████▉                                                                                                                    | 289/500 [01:08<00:45,  4.59it/s]"
     ]
    },
    {
     "name": "stdout",
     "output_type": "stream",
     "text": [
      "1\n"
     ]
    },
    {
     "name": "stderr",
     "output_type": "stream",
     "text": [
      "\r",
      " 58%|███████████████████████████████████████████████████████████████████████████████████████████████████████████████████████████████████████████████████████████████▌                                                                                                                   | 290/500 [01:08<00:47,  4.42it/s]"
     ]
    },
    {
     "name": "stdout",
     "output_type": "stream",
     "text": [
      "0\n",
      "tensor(1293.1499) tensor(444.5455) tensor(1362.3347) tensor(493.7567)\n",
      "1\n"
     ]
    },
    {
     "name": "stderr",
     "output_type": "stream",
     "text": [
      "\r",
      " 58%|████████████████████████████████████████████████████████████████████████████████████████████████████████████████████████████████████████████████████████████████                                                                                                                   | 291/500 [01:08<00:49,  4.24it/s]"
     ]
    },
    {
     "name": "stdout",
     "output_type": "stream",
     "text": [
      "tensor(977.8540) tensor(603.1874) tensor(1071.0916) tensor(684.6002)\n",
      "tensor(926.6310) tensor(431.3634) tensor(1083.3767) tensor(579.8917)\n",
      "tensor(885.6261) tensor(580.0531) tensor(980.2966) tensor(674.0143)\n",
      "0\n",
      "tensor(1030.6914) tensor(536.4979) tensor(1218.9756) tensor(724.1337)\n",
      "1\n"
     ]
    },
    {
     "name": "stderr",
     "output_type": "stream",
     "text": [
      "\r",
      " 58%|████████████████████████████████████████████████████████████████████████████████████████████████████████████████████████████████████████████████████████████████▌                                                                                                                  | 292/500 [01:08<00:49,  4.20it/s]"
     ]
    },
    {
     "name": "stdout",
     "output_type": "stream",
     "text": [
      "tensor(1282.9631) tensor(1016.5237) tensor(1385.2290) tensor(1131.6077)\n",
      "tensor(1148.7776) tensor(778.3412) tensor(1255.7507) tensor(893.3875)\n",
      "0\n",
      "1\n"
     ]
    },
    {
     "name": "stderr",
     "output_type": "stream",
     "text": [
      "\r",
      " 59%|█████████████████████████████████████████████████████████████████████████████████████████████████████████████████████████████████████████████████████████████████▏                                                                                                                 | 293/500 [01:09<00:46,  4.42it/s]"
     ]
    },
    {
     "name": "stdout",
     "output_type": "stream",
     "text": [
      "0\n",
      "tensor(1236.1104) tensor(577.3318) tensor(1383.2551) tensor(763.7832)\n",
      "1\n",
      "0\n"
     ]
    },
    {
     "name": "stderr",
     "output_type": "stream",
     "text": [
      "\r",
      " 59%|█████████████████████████████████████████████████████████████████████████████████████████████████████████████████████████████████████████████████████████████████▋                                                                                                                 | 294/500 [01:09<00:44,  4.59it/s]"
     ]
    },
    {
     "name": "stdout",
     "output_type": "stream",
     "text": [
      "1\n",
      "tensor(1243.6090) tensor(457.7725) tensor(1377.5936) tensor(604.1928)\n",
      "0\n"
     ]
    },
    {
     "name": "stderr",
     "output_type": "stream",
     "text": [
      "\r",
      " 59%|██████████████████████████████████████████████████████████████████████████████████████████████████████████████████████████████████████████████████████████████████▎                                                                                                                | 295/500 [01:09<00:43,  4.67it/s]"
     ]
    },
    {
     "name": "stdout",
     "output_type": "stream",
     "text": [
      "tensor(1041.6361) tensor(412.8112) tensor(1299.3407) tensor(674.7168)\n",
      "tensor(1232.2142) tensor(914.0173) tensor(1304.4672) tensor(982.0611)\n",
      "1\n",
      "0\n"
     ]
    },
    {
     "name": "stderr",
     "output_type": "stream",
     "text": [
      " 59%|███████████████████████████████████████████████████████████████████████████████████████████████████████████████████████████████████████████████████████████████████▎                                                                                                               | 297/500 [01:09<00:42,  4.82it/s]"
     ]
    },
    {
     "name": "stdout",
     "output_type": "stream",
     "text": [
      "tensor(1195.3555) tensor(367.7964) tensor(1336.6404) tensor(513.9456)\n",
      "tensor(1361.3773) tensor(801.2866) tensor(1396.9078) tensor(906.0369)\n",
      "1\n",
      "tensor(1292.4296) tensor(527.9018) tensor(1381.4244) tensor(622.5955)\n",
      "0\n",
      "1\n"
     ]
    },
    {
     "name": "stderr",
     "output_type": "stream",
     "text": [
      "\r",
      " 60%|███████████████████████████████████████████████████████████████████████████████████████████████████████████████████████████████████████████████████████████████████▉                                                                                                               | 298/500 [01:10<00:42,  4.78it/s]"
     ]
    },
    {
     "name": "stdout",
     "output_type": "stream",
     "text": [
      "tensor(1083.4683) tensor(823.5688) tensor(1119.5520) tensor(857.5181)\n",
      "0\n",
      "tensor(966.5097) tensor(503.0054) tensor(1116.2406) tensor(685.4618)\n",
      "1\n"
     ]
    },
    {
     "name": "stderr",
     "output_type": "stream",
     "text": [
      "\r",
      " 60%|████████████████████████████████████████████████████████████████████████████████████████████████████████████████████████████████████████████████████████████████████▍                                                                                                              | 299/500 [01:10<00:42,  4.75it/s]"
     ]
    },
    {
     "name": "stdout",
     "output_type": "stream",
     "text": [
      "tensor(1199.1835) tensor(1033.3655) tensor(1275.9933) tensor(1106.1069)\n",
      "tensor(987.0738) tensor(571.0950) tensor(1098.7075) tensor(705.1371)\n",
      "0\n",
      "1\n"
     ]
    },
    {
     "name": "stderr",
     "output_type": "stream",
     "text": [
      "\r",
      " 60%|█████████████████████████████████████████████████████████████████████████████████████████████████████████████████████████████████████████████████████████████████████                                                                                                              | 300/500 [01:10<00:43,  4.62it/s]"
     ]
    },
    {
     "name": "stdout",
     "output_type": "stream",
     "text": [
      "0\n",
      "1\n"
     ]
    },
    {
     "name": "stderr",
     "output_type": "stream",
     "text": [
      "\r",
      " 60%|█████████████████████████████████████████████████████████████████████████████████████████████████████████████████████████████████████████████████████████████████████▌                                                                                                             | 301/500 [01:10<00:42,  4.64it/s]"
     ]
    },
    {
     "name": "stdout",
     "output_type": "stream",
     "text": [
      "0\n",
      "1\n",
      "0\n"
     ]
    },
    {
     "name": "stderr",
     "output_type": "stream",
     "text": [
      "\r",
      " 60%|██████████████████████████████████████████████████████████████████████████████████████████████████████████████████████████████████████████████████████████████████████                                                                                                             | 302/500 [01:10<00:41,  4.77it/s]"
     ]
    },
    {
     "name": "stdout",
     "output_type": "stream",
     "text": [
      "tensor(1107.3351) tensor(840.8765) tensor(1281.6915) tensor(1077.9261)\n",
      "1\n",
      "0\n"
     ]
    },
    {
     "name": "stderr",
     "output_type": "stream",
     "text": [
      "\r",
      " 61%|██████████████████████████████████████████████████████████████████████████████████████████████████████████████████████████████████████████████████████████████████████▋                                                                                                            | 303/500 [01:11<00:41,  4.76it/s]"
     ]
    },
    {
     "name": "stdout",
     "output_type": "stream",
     "text": [
      "1\n"
     ]
    },
    {
     "name": "stderr",
     "output_type": "stream",
     "text": [
      "\r",
      " 61%|███████████████████████████████████████████████████████████████████████████████████████████████████████████████████████████████████████████████████████████████████████▏                                                                                                           | 304/500 [01:11<00:41,  4.67it/s]"
     ]
    },
    {
     "name": "stdout",
     "output_type": "stream",
     "text": [
      "0\n",
      "1\n"
     ]
    },
    {
     "name": "stderr",
     "output_type": "stream",
     "text": [
      "\r",
      " 61%|███████████████████████████████████████████████████████████████████████████████████████████████████████████████████████████████████████████████████████████████████████▊                                                                                                           | 305/500 [01:11<00:41,  4.70it/s]"
     ]
    },
    {
     "name": "stdout",
     "output_type": "stream",
     "text": [
      "tensor(1075.1882) tensor(737.7695) tensor(1186.2163) tensor(824.8254)\n",
      "0\n",
      "1\n"
     ]
    },
    {
     "name": "stderr",
     "output_type": "stream",
     "text": [
      "\r",
      " 61%|████████████████████████████████████████████████████████████████████████████████████████████████████████████████████████████████████████████████████████████████████████▎                                                                                                          | 306/500 [01:11<00:42,  4.62it/s]"
     ]
    },
    {
     "name": "stdout",
     "output_type": "stream",
     "text": [
      "tensor(1287.1954) tensor(429.8454) tensor(1353.5280) tensor(489.4845)\n",
      "tensor(1101.5212) tensor(260.8922) tensor(1335.3887) tensor(665.9519)\n",
      "0\n",
      "1\n"
     ]
    },
    {
     "name": "stderr",
     "output_type": "stream",
     "text": [
      "\r",
      " 61%|████████████████████████████████████████████████████████████████████████████████████████████████████████████████████████████████████████████████████████████████████████▊                                                                                                          | 307/500 [01:12<00:42,  4.53it/s]"
     ]
    },
    {
     "name": "stdout",
     "output_type": "stream",
     "text": [
      "0\n",
      "1\n"
     ]
    },
    {
     "name": "stderr",
     "output_type": "stream",
     "text": [
      "\r",
      " 62%|█████████████████████████████████████████████████████████████████████████████████████████████████████████████████████████████████████████████████████████████████████████▍                                                                                                         | 308/500 [01:12<00:43,  4.40it/s]"
     ]
    },
    {
     "name": "stdout",
     "output_type": "stream",
     "text": [
      "tensor(1212.2421) tensor(447.8877) tensor(1306.4960) tensor(577.5173)\n",
      "0\n",
      "tensor(1292.1661) tensor(470.0198) tensor(1388.9747) tensor(575.7913)\n",
      "tensor(995.8784) tensor(766.4960) tensor(1094.8499) tensor(855.8690)\n",
      "1\n"
     ]
    },
    {
     "name": "stderr",
     "output_type": "stream",
     "text": [
      "\r",
      " 62%|█████████████████████████████████████████████████████████████████████████████████████████████████████████████████████████████████████████████████████████████████████████▉                                                                                                         | 309/500 [01:12<00:44,  4.30it/s]"
     ]
    },
    {
     "name": "stdout",
     "output_type": "stream",
     "text": [
      "tensor(921.2266) tensor(732.6740) tensor(1131.7722) tensor(950.5371)\n",
      "0\n",
      "1\n"
     ]
    },
    {
     "name": "stderr",
     "output_type": "stream",
     "text": [
      "\r",
      " 62%|██████████████████████████████████████████████████████████████████████████████████████████████████████████████████████████████████████████████████████████████████████████▌                                                                                                        | 310/500 [01:12<00:42,  4.46it/s]"
     ]
    },
    {
     "name": "stdout",
     "output_type": "stream",
     "text": [
      "tensor(1108.1071) tensor(785.1391) tensor(1226.1815) tensor(908.7243)\n",
      "0\n",
      "1\n",
      "0\n"
     ]
    },
    {
     "name": "stderr",
     "output_type": "stream",
     "text": [
      "\r",
      " 62%|███████████████████████████████████████████████████████████████████████████████████████████████████████████████████████████████████████████████████████████████████████████                                                                                                        | 311/500 [01:12<00:40,  4.61it/s]"
     ]
    },
    {
     "name": "stdout",
     "output_type": "stream",
     "text": [
      "tensor(1108.3947) tensor(844.5337) tensor(1174.2592) tensor(909.5419)\n",
      "tensor(1041.1626) tensor(1108.2975) tensor(1105.5142) tensor(1176.2050)\n",
      "1\n",
      "tensor(1167.0144) tensor(844.7468) tensor(1252.8591) tensor(933.7173)\n",
      "0\n"
     ]
    },
    {
     "name": "stderr",
     "output_type": "stream",
     "text": [
      " 63%|████████████████████████████████████████████████████████████████████████████████████████████████████████████████████████████████████████████████████████████████████████████▏                                                                                                      | 313/500 [01:13<00:38,  4.81it/s]"
     ]
    },
    {
     "name": "stdout",
     "output_type": "stream",
     "text": [
      "1\n",
      "0\n",
      "1\n"
     ]
    },
    {
     "name": "stderr",
     "output_type": "stream",
     "text": [
      "\r",
      " 63%|████████████████████████████████████████████████████████████████████████████████████████████████████████████████████████████████████████████████████████████████████████████▋                                                                                                      | 314/500 [01:13<00:40,  4.64it/s]"
     ]
    },
    {
     "name": "stdout",
     "output_type": "stream",
     "text": [
      "0\n",
      "tensor(1023.5892) tensor(354.3764) tensor(1340.0009) tensor(841.6212)\n",
      "1\n"
     ]
    },
    {
     "name": "stderr",
     "output_type": "stream",
     "text": [
      "\r",
      " 63%|█████████████████████████████████████████████████████████████████████████████████████████████████████████████████████████████████████████████████████████████████████████████▎                                                                                                     | 315/500 [01:13<00:42,  4.34it/s]"
     ]
    },
    {
     "name": "stdout",
     "output_type": "stream",
     "text": [
      "tensor(1155.2843) tensor(524.0763) tensor(1244.3578) tensor(615.6667)\n",
      "tensor(1271.6816) tensor(518.9590) tensor(1303.8423) tensor(546.4947)\n",
      "0\n",
      "1\n"
     ]
    },
    {
     "name": "stderr",
     "output_type": "stream",
     "text": [
      "\r",
      " 63%|█████████████████████████████████████████████████████████████████████████████████████████████████████████████████████████████████████████████████████████████████████████████▊                                                                                                     | 316/500 [01:14<00:42,  4.33it/s]"
     ]
    },
    {
     "name": "stdout",
     "output_type": "stream",
     "text": [
      "0\n",
      "1\n"
     ]
    },
    {
     "name": "stderr",
     "output_type": "stream",
     "text": [
      "\r",
      " 63%|██████████████████████████████████████████████████████████████████████████████████████████████████████████████████████████████████████████████████████████████████████████████▎                                                                                                    | 317/500 [01:14<00:42,  4.30it/s]"
     ]
    },
    {
     "name": "stdout",
     "output_type": "stream",
     "text": [
      "tensor(1217.5581) tensor(1398.0975) tensor(1393.1040) tensor(1700.)\n",
      "0\n",
      "1\n"
     ]
    },
    {
     "name": "stderr",
     "output_type": "stream",
     "text": [
      "\r",
      " 64%|██████████████████████████████████████████████████████████████████████████████████████████████████████████████████████████████████████████████████████████████████████████████▉                                                                                                    | 318/500 [01:14<00:40,  4.49it/s]"
     ]
    },
    {
     "name": "stdout",
     "output_type": "stream",
     "text": [
      "tensor(1104.2581) tensor(473.7888) tensor(1222.3428) tensor(579.0015)\n",
      "0\n",
      "1\n"
     ]
    },
    {
     "name": "stderr",
     "output_type": "stream",
     "text": [
      "\r",
      " 64%|███████████████████████████████████████████████████████████████████████████████████████████████████████████████████████████████████████████████████████████████████████████████▍                                                                                                   | 319/500 [01:14<00:39,  4.63it/s]"
     ]
    },
    {
     "name": "stdout",
     "output_type": "stream",
     "text": [
      "0\n",
      "tensor(1215.1671) tensor(906.0089) tensor(1311.5634) tensor(998.3328)\n",
      "1\n"
     ]
    },
    {
     "name": "stderr",
     "output_type": "stream",
     "text": [
      "\r",
      " 64%|████████████████████████████████████████████████████████████████████████████████████████████████████████████████████████████████████████████████████████████████████████████████                                                                                                   | 320/500 [01:14<00:38,  4.67it/s]"
     ]
    },
    {
     "name": "stdout",
     "output_type": "stream",
     "text": [
      "tensor(1217.6780) tensor(442.0400) tensor(1350.2319) tensor(599.1395)\n",
      "0\n",
      "tensor(1116.7798) tensor(472.2436) tensor(1232.5078) tensor(586.0371)\n",
      "1\n",
      "0\n"
     ]
    },
    {
     "name": "stderr",
     "output_type": "stream",
     "text": [
      "\r",
      " 64%|████████████████████████████████████████████████████████████████████████████████████████████████████████████████████████████████████████████████████████████████████████████████▌                                                                                                  | 321/500 [01:15<00:37,  4.76it/s]"
     ]
    },
    {
     "name": "stdout",
     "output_type": "stream",
     "text": [
      "tensor(1174.6447) tensor(933.0932) tensor(1293.8632) tensor(1082.5967)\n",
      "tensor(1083.4662) tensor(856.1942) tensor(1127.0856) tensor(900.1031)\n",
      "1\n",
      "0\n"
     ]
    },
    {
     "name": "stderr",
     "output_type": "stream",
     "text": [
      "\r",
      " 64%|█████████████████████████████████████████████████████████████████████████████████████████████████████████████████████████████████████████████████████████████████████████████████                                                                                                  | 322/500 [01:15<00:37,  4.78it/s]"
     ]
    },
    {
     "name": "stdout",
     "output_type": "stream",
     "text": [
      "1\n",
      "0\n"
     ]
    },
    {
     "name": "stderr",
     "output_type": "stream",
     "text": [
      "\r",
      " 65%|█████████████████████████████████████████████████████████████████████████████████████████████████████████████████████████████████████████████████████████████████████████████████▋                                                                                                 | 323/500 [01:15<00:37,  4.78it/s]"
     ]
    },
    {
     "name": "stdout",
     "output_type": "stream",
     "text": [
      "1\n",
      "0\n"
     ]
    },
    {
     "name": "stderr",
     "output_type": "stream",
     "text": [
      "\r",
      " 65%|██████████████████████████████████████████████████████████████████████████████████████████████████████████████████████████████████████████████████████████████████████████████████▏                                                                                                | 324/500 [01:15<00:36,  4.81it/s]"
     ]
    },
    {
     "name": "stdout",
     "output_type": "stream",
     "text": [
      "1\n",
      "0\n"
     ]
    },
    {
     "name": "stderr",
     "output_type": "stream",
     "text": [
      "\r",
      " 65%|██████████████████████████████████████████████████████████████████████████████████████████████████████████████████████████████████████████████████████████████████████████████████▊                                                                                                | 325/500 [01:15<00:36,  4.85it/s]"
     ]
    },
    {
     "name": "stdout",
     "output_type": "stream",
     "text": [
      "1\n",
      "tensor(1094.3424) tensor(665.1631) tensor(1240.9650) tensor(810.2609)\n",
      "0\n"
     ]
    },
    {
     "name": "stderr",
     "output_type": "stream",
     "text": [
      "\r",
      " 65%|███████████████████████████████████████████████████████████████████████████████████████████████████████████████████████████████████████████████████████████████████████████████████▎                                                                                               | 326/500 [01:16<00:36,  4.81it/s]"
     ]
    },
    {
     "name": "stdout",
     "output_type": "stream",
     "text": [
      "1\n",
      "0\n"
     ]
    },
    {
     "name": "stderr",
     "output_type": "stream",
     "text": [
      "\r",
      " 65%|███████████████████████████████████████████████████████████████████████████████████████████████████████████████████████████████████████████████████████████████████████████████████▊                                                                                               | 327/500 [01:16<00:35,  4.83it/s]"
     ]
    },
    {
     "name": "stdout",
     "output_type": "stream",
     "text": [
      "tensor(1343.3121) tensor(1115.4880) tensor(1387.2450) tensor(1164.6958)\n",
      "1\n",
      "0\n"
     ]
    },
    {
     "name": "stderr",
     "output_type": "stream",
     "text": [
      "\r",
      " 66%|████████████████████████████████████████████████████████████████████████████████████████████████████████████████████████████████████████████████████████████████████████████████████▍                                                                                              | 328/500 [01:16<00:35,  4.82it/s]"
     ]
    },
    {
     "name": "stdout",
     "output_type": "stream",
     "text": [
      "tensor(1301.6989) tensor(492.8237) tensor(1382.6603) tensor(594.7365)\n",
      "1\n",
      "0\n"
     ]
    },
    {
     "name": "stderr",
     "output_type": "stream",
     "text": [
      "\r",
      " 66%|████████████████████████████████████████████████████████████████████████████████████████████████████████████████████████████████████████████████████████████████████████████████████▉                                                                                              | 329/500 [01:16<00:35,  4.83it/s]"
     ]
    },
    {
     "name": "stdout",
     "output_type": "stream",
     "text": [
      "1\n",
      "tensor(1104.5638) tensor(700.0455) tensor(1253.9730) tensor(853.0894)\n",
      "0\n"
     ]
    },
    {
     "name": "stderr",
     "output_type": "stream",
     "text": [
      "\r",
      " 66%|█████████████████████████████████████████████████████████████████████████████████████████████████████████████████████████████████████████████████████████████████████████████████████▌                                                                                             | 330/500 [01:17<00:36,  4.69it/s]"
     ]
    },
    {
     "name": "stdout",
     "output_type": "stream",
     "text": [
      "1\n"
     ]
    },
    {
     "name": "stderr",
     "output_type": "stream",
     "text": [
      "\r",
      " 66%|██████████████████████████████████████████████████████████████████████████████████████████████████████████████████████████████████████████████████████████████████████████████████████                                                                                             | 331/500 [01:17<00:37,  4.50it/s]"
     ]
    },
    {
     "name": "stdout",
     "output_type": "stream",
     "text": [
      "0\n",
      "tensor(1243.6626) tensor(660.7097) tensor(1324.2261) tensor(738.6497)\n",
      "1\n"
     ]
    },
    {
     "name": "stderr",
     "output_type": "stream",
     "text": [
      "\r",
      " 66%|██████████████████████████████████████████████████████████████████████████████████████████████████████████████████████████████████████████████████████████████████████████████████████▌                                                                                            | 332/500 [01:17<00:38,  4.40it/s]"
     ]
    },
    {
     "name": "stdout",
     "output_type": "stream",
     "text": [
      "tensor(1078.2328) tensor(971.2635) tensor(1148.5436) tensor(1034.5911)\n",
      "0\n",
      "tensor(1099.3309) tensor(706.3932) tensor(1162.4652) tensor(768.3803)\n",
      "tensor(1092.9041) tensor(442.8546) tensor(1283.0500) tensor(596.3263)\n",
      "1\n"
     ]
    },
    {
     "name": "stderr",
     "output_type": "stream",
     "text": [
      "\r",
      " 67%|███████████████████████████████████████████████████████████████████████████████████████████████████████████████████████████████████████████████████████████████████████████████████████▏                                                                                           | 333/500 [01:17<00:37,  4.48it/s]"
     ]
    },
    {
     "name": "stdout",
     "output_type": "stream",
     "text": [
      "0\n",
      "1\n"
     ]
    },
    {
     "name": "stderr",
     "output_type": "stream",
     "text": [
      "\r",
      " 67%|███████████████████████████████████████████████████████████████████████████████████████████████████████████████████████████████████████████████████████████████████████████████████████▋                                                                                           | 334/500 [01:17<00:36,  4.59it/s]"
     ]
    },
    {
     "name": "stdout",
     "output_type": "stream",
     "text": [
      "0\n",
      "1\n",
      "tensor(1101.7491) tensor(744.4577) tensor(1253.5255) tensor(891.8240)\n",
      "0\n"
     ]
    },
    {
     "name": "stderr",
     "output_type": "stream",
     "text": [
      "\r",
      " 67%|████████████████████████████████████████████████████████████████████████████████████████████████████████████████████████████████████████████████████████████████████████████████████████▎                                                                                          | 335/500 [01:18<00:34,  4.72it/s]"
     ]
    },
    {
     "name": "stdout",
     "output_type": "stream",
     "text": [
      "1\n",
      "0\n"
     ]
    },
    {
     "name": "stderr",
     "output_type": "stream",
     "text": [
      "\r",
      " 67%|████████████████████████████████████████████████████████████████████████████████████████████████████████████████████████████████████████████████████████████████████████████████████████▊                                                                                          | 336/500 [01:18<00:35,  4.67it/s]"
     ]
    },
    {
     "name": "stdout",
     "output_type": "stream",
     "text": [
      "1\n",
      "tensor(1289.8330) tensor(657.0958) tensor(1365.0256) tensor(722.4762)\n",
      "0\n"
     ]
    },
    {
     "name": "stderr",
     "output_type": "stream",
     "text": [
      " 68%|█████████████████████████████████████████████████████████████████████████████████████████████████████████████████████████████████████████████████████████████████████████████████████████▉                                                                                         | 338/500 [01:18<00:33,  4.78it/s]"
     ]
    },
    {
     "name": "stdout",
     "output_type": "stream",
     "text": [
      "tensor(1262.1090) tensor(501.3257) tensor(1339.5670) tensor(602.5107)\n",
      "1\n",
      "tensor(1255.0758) tensor(740.3955) tensor(1333.3114) tensor(818.2524)\n",
      "tensor(1243.0416) tensor(674.5858) tensor(1286.6285) tensor(707.0704)\n",
      "tensor(1189.5569) tensor(735.4972) tensor(1213.1641) tensor(763.5814)\n",
      "tensor(1324.8383) tensor(643.9016) tensor(1374.7072) tensor(696.4127)\n",
      "0\n",
      "1\n"
     ]
    },
    {
     "name": "stderr",
     "output_type": "stream",
     "text": [
      "\r",
      " 68%|██████████████████████████████████████████████████████████████████████████████████████████████████████████████████████████████████████████████████████████████████████████████████████████▍                                                                                        | 339/500 [01:18<00:33,  4.74it/s]"
     ]
    },
    {
     "name": "stdout",
     "output_type": "stream",
     "text": [
      "0\n",
      "1\n"
     ]
    },
    {
     "name": "stderr",
     "output_type": "stream",
     "text": [
      "\r",
      " 68%|███████████████████████████████████████████████████████████████████████████████████████████████████████████████████████████████████████████████████████████████████████████████████████████                                                                                        | 340/500 [01:19<00:33,  4.78it/s]"
     ]
    },
    {
     "name": "stdout",
     "output_type": "stream",
     "text": [
      "0\n",
      "1\n"
     ]
    },
    {
     "name": "stderr",
     "output_type": "stream",
     "text": [
      "\r",
      " 68%|███████████████████████████████████████████████████████████████████████████████████████████████████████████████████████████████████████████████████████████████████████████████████████████▌                                                                                       | 341/500 [01:19<00:34,  4.63it/s]"
     ]
    },
    {
     "name": "stdout",
     "output_type": "stream",
     "text": [
      "0\n",
      "1\n"
     ]
    },
    {
     "name": "stderr",
     "output_type": "stream",
     "text": [
      "\r",
      " 68%|████████████████████████████████████████████████████████████████████████████████████████████████████████████████████████████████████████████████████████████████████████████████████████████                                                                                       | 342/500 [01:19<00:34,  4.60it/s]"
     ]
    },
    {
     "name": "stdout",
     "output_type": "stream",
     "text": [
      "tensor(1018.9502) tensor(550.6312) tensor(1207.0073) tensor(723.4753)\n",
      "tensor(1088.5424) tensor(1044.1375) tensor(1187.5992) tensor(1129.7554)\n",
      "tensor(1020.9988) tensor(739.8127) tensor(1152.3666) tensor(886.4329)\n",
      "0\n",
      "tensor(1313.8093) tensor(735.6843) tensor(1356.7556) tensor(776.1894)\n",
      "1\n"
     ]
    },
    {
     "name": "stderr",
     "output_type": "stream",
     "text": [
      "\r",
      " 69%|████████████████████████████████████████████████████████████████████████████████████████████████████████████████████████████████████████████████████████████████████████████████████████████▋                                                                                      | 343/500 [01:19<00:34,  4.58it/s]"
     ]
    },
    {
     "name": "stdout",
     "output_type": "stream",
     "text": [
      "tensor(937.8112) tensor(576.9074) tensor(1115.5502) tensor(797.2554)\n",
      "0\n",
      "tensor(1113.7634) tensor(999.4432) tensor(1197.9688) tensor(1086.1782)\n",
      "1\n"
     ]
    },
    {
     "name": "stderr",
     "output_type": "stream",
     "text": [
      "\r",
      " 69%|█████████████████████████████████████████████████████████████████████████████████████████████████████████████████████████████████████████████████████████████████████████████████████████████▏                                                                                     | 344/500 [01:20<00:35,  4.43it/s]"
     ]
    },
    {
     "name": "stdout",
     "output_type": "stream",
     "text": [
      "tensor(1116.6635) tensor(920.0154) tensor(1189.6298) tensor(995.4479)\n",
      "tensor(1184.4460) tensor(556.1398) tensor(1306.0259) tensor(646.0922)\n",
      "tensor(1310.1724) tensor(394.1151) tensor(1383.6228) tensor(473.9250)\n",
      "tensor(1240.4135) tensor(833.7184) tensor(1312.6930) tensor(913.7419)\n",
      "0\n",
      "1\n"
     ]
    },
    {
     "name": "stderr",
     "output_type": "stream",
     "text": [
      "\r",
      " 69%|█████████████████████████████████████████████████████████████████████████████████████████████████████████████████████████████████████████████████████████████████████████████████████████████▋                                                                                     | 345/500 [01:20<00:36,  4.28it/s]"
     ]
    },
    {
     "name": "stdout",
     "output_type": "stream",
     "text": [
      "0\n",
      "1\n"
     ]
    },
    {
     "name": "stderr",
     "output_type": "stream",
     "text": [
      "\r",
      " 69%|██████████████████████████████████████████████████████████████████████████████████████████████████████████████████████████████████████████████████████████████████████████████████████████████▎                                                                                    | 346/500 [01:20<00:36,  4.22it/s]"
     ]
    },
    {
     "name": "stdout",
     "output_type": "stream",
     "text": [
      "0\n",
      "tensor(1344.5929) tensor(738.3936) tensor(1393.2050) tensor(806.8794)\n",
      "1\n"
     ]
    },
    {
     "name": "stderr",
     "output_type": "stream",
     "text": [
      "\r",
      " 69%|██████████████████████████████████████████████████████████████████████████████████████████████████████████████████████████████████████████████████████████████████████████████████████████████▊                                                                                    | 347/500 [01:20<00:36,  4.24it/s]"
     ]
    },
    {
     "name": "stdout",
     "output_type": "stream",
     "text": [
      "tensor(860.2418) tensor(832.0303) tensor(1013.0672) tensor(975.3795)\n",
      "0\n",
      "tensor(1205.4229) tensor(636.6581) tensor(1281.8379) tensor(793.0378)\n",
      "1\n"
     ]
    },
    {
     "name": "stderr",
     "output_type": "stream",
     "text": [
      "\r",
      " 70%|███████████████████████████████████████████████████████████████████████████████████████████████████████████████████████████████████████████████████████████████████████████████████████████████▍                                                                                   | 348/500 [01:21<00:34,  4.42it/s]"
     ]
    },
    {
     "name": "stdout",
     "output_type": "stream",
     "text": [
      "0\n",
      "1\n"
     ]
    },
    {
     "name": "stderr",
     "output_type": "stream",
     "text": [
      "\r",
      " 70%|███████████████████████████████████████████████████████████████████████████████████████████████████████████████████████████████████████████████████████████████████████████████████████████████▉                                                                                   | 349/500 [01:21<00:32,  4.58it/s]"
     ]
    },
    {
     "name": "stdout",
     "output_type": "stream",
     "text": [
      "0\n",
      "1\n"
     ]
    },
    {
     "name": "stderr",
     "output_type": "stream",
     "text": [
      "\r",
      " 70%|████████████████████████████████████████████████████████████████████████████████████████████████████████████████████████████████████████████████████████████████████████████████████████████████▌                                                                                  | 350/500 [01:21<00:32,  4.63it/s]"
     ]
    },
    {
     "name": "stdout",
     "output_type": "stream",
     "text": [
      "0\n",
      "tensor(961.5824) tensor(816.3126) tensor(1024.3264) tensor(896.3573)\n",
      "1\n"
     ]
    },
    {
     "name": "stderr",
     "output_type": "stream",
     "text": [
      "\r",
      " 70%|█████████████████████████████████████████████████████████████████████████████████████████████████████████████████████████████████████████████████████████████████████████████████████████████████                                                                                  | 351/500 [01:21<00:32,  4.65it/s]"
     ]
    },
    {
     "name": "stdout",
     "output_type": "stream",
     "text": [
      "0\n",
      "tensor(1298.4475) tensor(466.4857) tensor(1387.8098) tensor(563.2524)\n",
      "1\n"
     ]
    },
    {
     "name": "stderr",
     "output_type": "stream",
     "text": [
      "\r",
      " 70%|█████████████████████████████████████████████████████████████████████████████████████████████████████████████████████████████████████████████████████████████████████████████████████████████████▌                                                                                 | 352/500 [01:21<00:31,  4.76it/s]"
     ]
    },
    {
     "name": "stdout",
     "output_type": "stream",
     "text": [
      "0\n",
      "1\n"
     ]
    },
    {
     "name": "stderr",
     "output_type": "stream",
     "text": [
      "\r",
      " 71%|██████████████████████████████████████████████████████████████████████████████████████████████████████████████████████████████████████████████████████████████████████████████████████████████████▏                                                                                | 353/500 [01:22<00:30,  4.77it/s]"
     ]
    },
    {
     "name": "stdout",
     "output_type": "stream",
     "text": [
      "tensor(1144.1716) tensor(833.3718) tensor(1265.0046) tensor(914.3363)\n",
      "0\n",
      "tensor(1228.7812) tensor(467.4980) tensor(1295.3264) tensor(537.5729)\n",
      "1\n"
     ]
    },
    {
     "name": "stderr",
     "output_type": "stream",
     "text": [
      "\r",
      " 71%|██████████████████████████████████████████████████████████████████████████████████████████████████████████████████████████████████████████████████████████████████████████████████████████████████▋                                                                                | 354/500 [01:22<00:30,  4.79it/s]"
     ]
    },
    {
     "name": "stdout",
     "output_type": "stream",
     "text": [
      "0\n",
      "1\n"
     ]
    },
    {
     "name": "stderr",
     "output_type": "stream",
     "text": [
      "\r",
      " 71%|███████████████████████████████████████████████████████████████████████████████████████████████████████████████████████████████████████████████████████████████████████████████████████████████████▎                                                                               | 355/500 [01:22<00:30,  4.71it/s]"
     ]
    },
    {
     "name": "stdout",
     "output_type": "stream",
     "text": [
      "tensor(1181.5990) tensor(815.4793) tensor(1319.0380) tensor(970.6253)\n",
      "0\n",
      "1\n"
     ]
    },
    {
     "name": "stderr",
     "output_type": "stream",
     "text": [
      "\r",
      " 71%|███████████████████████████████████████████████████████████████████████████████████████████████████████████████████████████████████████████████████████████████████████████████████████████████████▊                                                                               | 356/500 [01:22<00:32,  4.49it/s]"
     ]
    },
    {
     "name": "stdout",
     "output_type": "stream",
     "text": [
      "tensor(1226.2043) tensor(458.6044) tensor(1394.7964) tensor(894.9595)\n",
      "0\n",
      "tensor(1084.3096) tensor(648.7385) tensor(1164.6560) tensor(731.1129)\n",
      "1\n"
     ]
    },
    {
     "name": "stderr",
     "output_type": "stream",
     "text": [
      "\r",
      " 71%|████████████████████████████████████████████████████████████████████████████████████████████████████████████████████████████████████████████████████████████████████████████████████████████████████▎                                                                              | 357/500 [01:22<00:32,  4.35it/s]"
     ]
    },
    {
     "name": "stdout",
     "output_type": "stream",
     "text": [
      "tensor(1219.1008) tensor(704.7916) tensor(1303.5940) tensor(796.1033)\n",
      "0\n",
      "1\n"
     ]
    },
    {
     "name": "stderr",
     "output_type": "stream",
     "text": [
      "\r",
      " 72%|████████████████████████████████████████████████████████████████████████████████████████████████████████████████████████████████████████████████████████████████████████████████████████████████████▉                                                                              | 358/500 [01:23<00:34,  4.16it/s]"
     ]
    },
    {
     "name": "stdout",
     "output_type": "stream",
     "text": [
      "tensor(1106.6205) tensor(751.9223) tensor(1199.6986) tensor(839.6422)\n",
      "0\n",
      "1\n"
     ]
    },
    {
     "name": "stderr",
     "output_type": "stream",
     "text": [
      "\r",
      " 72%|█████████████████████████████████████████████████████████████████████████████████████████████████████████████████████████████████████████████████████████████████████████████████████████████████████▍                                                                             | 359/500 [01:23<00:33,  4.23it/s]"
     ]
    },
    {
     "name": "stdout",
     "output_type": "stream",
     "text": [
      "tensor(1139.5715) tensor(707.8512) tensor(1292.6987) tensor(874.3444)\n",
      "0\n",
      "1\n"
     ]
    },
    {
     "name": "stderr",
     "output_type": "stream",
     "text": [
      "\r",
      " 72%|██████████████████████████████████████████████████████████████████████████████████████████████████████████████████████████████████████████████████████████████████████████████████████████████████████                                                                             | 360/500 [01:23<00:32,  4.26it/s]"
     ]
    },
    {
     "name": "stdout",
     "output_type": "stream",
     "text": [
      "tensor(1100.7452) tensor(850.3246) tensor(1233.9698) tensor(962.1932)\n",
      "tensor(1240.8672) tensor(729.6946) tensor(1292.2666) tensor(779.4585)\n",
      "0\n",
      "tensor(1164.2769) tensor(661.3770) tensor(1363.2861) tensor(834.1438)\n",
      "1\n"
     ]
    },
    {
     "name": "stderr",
     "output_type": "stream",
     "text": [
      "\r",
      " 72%|██████████████████████████████████████████████████████████████████████████████████████████████████████████████████████████████████████████████████████████████████████████████████████████████████████▌                                                                            | 361/500 [01:23<00:32,  4.22it/s]"
     ]
    },
    {
     "name": "stdout",
     "output_type": "stream",
     "text": [
      "0\n",
      "tensor(1171.5311) tensor(501.8703) tensor(1317.1263) tensor(658.0534)\n",
      "1\n"
     ]
    },
    {
     "name": "stderr",
     "output_type": "stream",
     "text": [
      "\r",
      " 72%|███████████████████████████████████████████████████████████████████████████████████████████████████████████████████████████████████████████████████████████████████████████████████████████████████████                                                                            | 362/500 [01:24<00:31,  4.40it/s]"
     ]
    },
    {
     "name": "stdout",
     "output_type": "stream",
     "text": [
      "0\n",
      "1\n"
     ]
    },
    {
     "name": "stderr",
     "output_type": "stream",
     "text": [
      "\r",
      " 73%|███████████████████████████████████████████████████████████████████████████████████████████████████████████████████████████████████████████████████████████████████████████████████████████████████████▋                                                                           | 363/500 [01:24<00:29,  4.57it/s]"
     ]
    },
    {
     "name": "stdout",
     "output_type": "stream",
     "text": [
      "tensor(1149.0261) tensor(753.6874) tensor(1274.7573) tensor(860.0103)\n",
      "0\n",
      "1\n"
     ]
    },
    {
     "name": "stderr",
     "output_type": "stream",
     "text": [
      "\r",
      " 73%|████████████████████████████████████████████████████████████████████████████████████████████████████████████████████████████████████████████████████████████████████████████████████████████████████████▏                                                                          | 364/500 [01:24<00:29,  4.62it/s]"
     ]
    },
    {
     "name": "stdout",
     "output_type": "stream",
     "text": [
      "0\n",
      "tensor(1299.8687) tensor(861.4407) tensor(1376.4976) tensor(954.5840)\n",
      "1\n"
     ]
    },
    {
     "name": "stderr",
     "output_type": "stream",
     "text": [
      "\r",
      " 73%|████████████████████████████████████████████████████████████████████████████████████████████████████████████████████████████████████████████████████████████████████████████████████████████████████████▊                                                                          | 365/500 [01:24<00:29,  4.60it/s]"
     ]
    },
    {
     "name": "stdout",
     "output_type": "stream",
     "text": [
      "0\n",
      "tensor(1020.9728) tensor(735.1093) tensor(1124.7350) tensor(850.2595)\n",
      "1\n"
     ]
    },
    {
     "name": "stderr",
     "output_type": "stream",
     "text": [
      "\r",
      " 73%|█████████████████████████████████████████████████████████████████████████████████████████████████████████████████████████████████████████████████████████████████████████████████████████████████████████▎                                                                         | 366/500 [01:24<00:29,  4.47it/s]"
     ]
    },
    {
     "name": "stdout",
     "output_type": "stream",
     "text": [
      "tensor(1309.0118) tensor(432.3811) tensor(1353.7780) tensor(481.4182)\n",
      "0\n",
      "1\n"
     ]
    },
    {
     "name": "stderr",
     "output_type": "stream",
     "text": [
      "\r",
      " 73%|█████████████████████████████████████████████████████████████████████████████████████████████████████████████████████████████████████████████████████████████████████████████████████████████████████████▊                                                                         | 367/500 [01:25<00:28,  4.60it/s]"
     ]
    },
    {
     "name": "stdout",
     "output_type": "stream",
     "text": [
      "tensor(1218.8522) tensor(326.9124) tensor(1381.4589) tensor(510.2222)\n",
      "0\n",
      "1\n",
      "tensor(1214.3712) tensor(907.6705) tensor(1383.7338) tensor(1067.3262)\n",
      "0\n"
     ]
    },
    {
     "name": "stderr",
     "output_type": "stream",
     "text": [
      "\r",
      " 74%|██████████████████████████████████████████████████████████████████████████████████████████████████████████████████████████████████████████████████████████████████████████████████████████████████████████▍                                                                        | 368/500 [01:25<00:28,  4.71it/s]"
     ]
    },
    {
     "name": "stdout",
     "output_type": "stream",
     "text": [
      "1\n",
      "0\n"
     ]
    },
    {
     "name": "stderr",
     "output_type": "stream",
     "text": [
      "\r",
      " 74%|██████████████████████████████████████████████████████████████████████████████████████████████████████████████████████████████████████████████████████████████████████████████████████████████████████████▉                                                                        | 369/500 [01:25<00:28,  4.62it/s]"
     ]
    },
    {
     "name": "stdout",
     "output_type": "stream",
     "text": [
      "tensor(1278.0704) tensor(379.3218) tensor(1355.3629) tensor(465.3388)\n",
      "tensor(1141.6978) tensor(716.5216) tensor(1277.5552) tensor(845.4833)\n",
      "1\n"
     ]
    },
    {
     "name": "stderr",
     "output_type": "stream",
     "text": [
      "\r",
      " 74%|███████████████████████████████████████████████████████████████████████████████████████████████████████████████████████████████████████████████████████████████████████████████████████████████████████████▌                                                                       | 370/500 [01:25<00:28,  4.56it/s]"
     ]
    },
    {
     "name": "stdout",
     "output_type": "stream",
     "text": [
      "0\n",
      "tensor(1224.9808) tensor(958.4604) tensor(1325.0167) tensor(1079.7006)\n",
      "tensor(1239.9204) tensor(534.4495) tensor(1375.8784) tensor(743.2144)\n",
      "1\n",
      "0\n"
     ]
    },
    {
     "name": "stderr",
     "output_type": "stream",
     "text": [
      "\r",
      " 74%|████████████████████████████████████████████████████████████████████████████████████████████████████████████████████████████████████████████████████████████████████████████████████████████████████████████                                                                       | 371/500 [01:26<00:27,  4.64it/s]"
     ]
    },
    {
     "name": "stdout",
     "output_type": "stream",
     "text": [
      "1\n",
      "0\n"
     ]
    },
    {
     "name": "stderr",
     "output_type": "stream",
     "text": [
      "\r",
      " 74%|████████████████████████████████████████████████████████████████████████████████████████████████████████████████████████████████████████████████████████████████████████████████████████████████████████████▌                                                                      | 372/500 [01:26<00:27,  4.64it/s]"
     ]
    },
    {
     "name": "stdout",
     "output_type": "stream",
     "text": [
      "1\n",
      "0\n"
     ]
    },
    {
     "name": "stderr",
     "output_type": "stream",
     "text": [
      "\r",
      " 75%|█████████████████████████████████████████████████████████████████████████████████████████████████████████████████████████████████████████████████████████████████████████████████████████████████████████████▏                                                                     | 373/500 [01:26<00:27,  4.62it/s]"
     ]
    },
    {
     "name": "stdout",
     "output_type": "stream",
     "text": [
      "tensor(1093.1096) tensor(471.1510) tensor(1283.6479) tensor(756.7653)\n",
      "1\n",
      "tensor(1137.1082) tensor(763.2627) tensor(1199.3171) tensor(806.6901)\n",
      "0\n"
     ]
    },
    {
     "name": "stderr",
     "output_type": "stream",
     "text": [
      "\r",
      " 75%|█████████████████████████████████████████████████████████████████████████████████████████████████████████████████████████████████████████████████████████████████████████████████████████████████████████████▋                                                                     | 374/500 [01:26<00:27,  4.55it/s]"
     ]
    },
    {
     "name": "stdout",
     "output_type": "stream",
     "text": [
      "1\n",
      "tensor(1143.4960) tensor(490.2411) tensor(1206.7142) tensor(552.7298)\n",
      "0\n"
     ]
    },
    {
     "name": "stderr",
     "output_type": "stream",
     "text": [
      "\r",
      " 75%|██████████████████████████████████████████████████████████████████████████████████████████████████████████████████████████████████████████████████████████████████████████████████████████████████████████████▎                                                                    | 375/500 [01:26<00:27,  4.56it/s]"
     ]
    },
    {
     "name": "stdout",
     "output_type": "stream",
     "text": [
      "1\n"
     ]
    },
    {
     "name": "stderr",
     "output_type": "stream",
     "text": [
      "\r",
      " 75%|██████████████████████████████████████████████████████████████████████████████████████████████████████████████████████████████████████████████████████████████████████████████████████████████████████████████▊                                                                    | 376/500 [01:27<00:27,  4.46it/s]"
     ]
    },
    {
     "name": "stdout",
     "output_type": "stream",
     "text": [
      "tensor(1149.3882) tensor(936.9367) tensor(1217.1572) tensor(1000.6104)\n",
      "tensor(1050.7990) tensor(841.2007) tensor(1116.0792) tensor(915.7473)\n",
      "0\n",
      "1\n"
     ]
    },
    {
     "name": "stderr",
     "output_type": "stream",
     "text": [
      "\r",
      " 75%|███████████████████████████████████████████████████████████████████████████████████████████████████████████████████████████████████████████████████████████████████████████████████████████████████████████████▎                                                                   | 377/500 [01:27<00:28,  4.25it/s]"
     ]
    },
    {
     "name": "stdout",
     "output_type": "stream",
     "text": [
      "0\n",
      "1\n"
     ]
    },
    {
     "name": "stderr",
     "output_type": "stream",
     "text": [
      "\r",
      " 76%|███████████████████████████████████████████████████████████████████████████████████████████████████████████████████████████████████████████████████████████████████████████████████████████████████████████████▉                                                                   | 378/500 [01:27<00:30,  3.98it/s]"
     ]
    },
    {
     "name": "stdout",
     "output_type": "stream",
     "text": [
      "0\n",
      "1\n"
     ]
    },
    {
     "name": "stderr",
     "output_type": "stream",
     "text": [
      "\r",
      " 76%|████████████████████████████████████████████████████████████████████████████████████████████████████████████████████████████████████████████████████████████████████████████████████████████████████████████████▍                                                                  | 379/500 [01:27<00:30,  3.92it/s]"
     ]
    },
    {
     "name": "stdout",
     "output_type": "stream",
     "text": [
      "0\n",
      "1\n"
     ]
    },
    {
     "name": "stderr",
     "output_type": "stream",
     "text": [
      "\r",
      " 76%|█████████████████████████████████████████████████████████████████████████████████████████████████████████████████████████████████████████████████████████████████████████████████████████████████████████████████                                                                  | 380/500 [01:28<00:31,  3.76it/s]"
     ]
    },
    {
     "name": "stdout",
     "output_type": "stream",
     "text": [
      "tensor(1218.5295) tensor(558.0190) tensor(1348.0054) tensor(736.7482)\n",
      "0\n",
      "1\n"
     ]
    },
    {
     "name": "stderr",
     "output_type": "stream",
     "text": [
      "\r",
      " 76%|█████████████████████████████████████████████████████████████████████████████████████████████████████████████████████████████████████████████████████████████████████████████████████████████████████████████████▌                                                                 | 381/500 [01:28<00:32,  3.67it/s]"
     ]
    },
    {
     "name": "stdout",
     "output_type": "stream",
     "text": [
      "0\n",
      "tensor(1078.9946) tensor(991.3848) tensor(1193.1033) tensor(1095.4397)\n",
      "tensor(935.6193) tensor(980.3992) tensor(1278.0481) tensor(1464.2710)\n",
      "1\n"
     ]
    },
    {
     "name": "stderr",
     "output_type": "stream",
     "text": [
      "\r",
      " 76%|██████████████████████████████████████████████████████████████████████████████████████████████████████████████████████████████████████████████████████████████████████████████████████████████████████████████████                                                                 | 382/500 [01:28<00:32,  3.68it/s]"
     ]
    },
    {
     "name": "stdout",
     "output_type": "stream",
     "text": [
      "tensor(1147.6515) tensor(1011.7753) tensor(1302.7128) tensor(1167.4215)\n",
      "0\n",
      "tensor(1039.6630) tensor(711.5068) tensor(1368.2948) tensor(1120.4805)\n",
      "1\n"
     ]
    },
    {
     "name": "stderr",
     "output_type": "stream",
     "text": [
      "\r",
      " 77%|██████████████████████████████████████████████████████████████████████████████████████████████████████████████████████████████████████████████████████████████████████████████████████████████████████████████████▋                                                                | 383/500 [01:29<00:31,  3.75it/s]"
     ]
    },
    {
     "name": "stdout",
     "output_type": "stream",
     "text": [
      "tensor(942.1049) tensor(668.5566) tensor(1396.9332) tensor(974.3025)\n",
      "0\n",
      "1\n"
     ]
    },
    {
     "name": "stderr",
     "output_type": "stream",
     "text": [
      "\r",
      " 77%|███████████████████████████████████████████████████████████████████████████████████████████████████████████████████████████████████████████████████████████████████████████████████████████████████████████████████▏                                                               | 384/500 [01:29<00:29,  3.91it/s]"
     ]
    },
    {
     "name": "stdout",
     "output_type": "stream",
     "text": [
      "tensor(1168.9647) tensor(1001.0383) tensor(1270.3710) tensor(1108.6399)\n",
      "0\n",
      "tensor(1263.3320) tensor(655.3015) tensor(1387.8589) tensor(755.7964)\n",
      "tensor(1263.1200) tensor(1077.7460) tensor(1355.8280) tensor(1163.5411)\n",
      "1\n"
     ]
    },
    {
     "name": "stderr",
     "output_type": "stream",
     "text": [
      "\r",
      " 77%|███████████████████████████████████████████████████████████████████████████████████████████████████████████████████████████████████████████████████████████████████████████████████████████████████████████████████▊                                                               | 385/500 [01:29<00:27,  4.11it/s]"
     ]
    },
    {
     "name": "stdout",
     "output_type": "stream",
     "text": [
      "tensor(1249.5461) tensor(590.1597) tensor(1373.2522) tensor(731.6526)\n",
      "tensor(1190.4351) tensor(881.5949) tensor(1334.7192) tensor(1041.0278)\n",
      "0\n",
      "tensor(1168.5752) tensor(765.7210) tensor(1269.9509) tensor(861.7499)\n",
      "1\n"
     ]
    },
    {
     "name": "stderr",
     "output_type": "stream",
     "text": [
      "\r",
      " 77%|████████████████████████████████████████████████████████████████████████████████████████████████████████████████████████████████████████████████████████████████████████████████████████████████████████████████████▎                                                              | 386/500 [01:29<00:26,  4.28it/s]"
     ]
    },
    {
     "name": "stdout",
     "output_type": "stream",
     "text": [
      "tensor(1090.9664) tensor(825.6932) tensor(1252.8895) tensor(956.5811)\n",
      "tensor(1235.8785) tensor(760.1315) tensor(1290.8273) tensor(840.5192)\n",
      "0\n",
      "1\n"
     ]
    },
    {
     "name": "stderr",
     "output_type": "stream",
     "text": [
      "\r",
      " 77%|████████████████████████████████████████████████████████████████████████████████████████████████████████████████████████████████████████████████████████████████████████████████████████████████████████████████████▊                                                              | 387/500 [01:29<00:26,  4.32it/s]"
     ]
    },
    {
     "name": "stdout",
     "output_type": "stream",
     "text": [
      "tensor(953.9734) tensor(591.3013) tensor(1140.1509) tensor(760.4028)\n",
      "0\n",
      "1\n"
     ]
    },
    {
     "name": "stderr",
     "output_type": "stream",
     "text": [
      "\r",
      " 78%|█████████████████████████████████████████████████████████████████████████████████████████████████████████████████████████████████████████████████████████████████████████████████████████████████████████████████████▍                                                             | 388/500 [01:30<00:26,  4.25it/s]"
     ]
    },
    {
     "name": "stdout",
     "output_type": "stream",
     "text": [
      "tensor(1281.2175) tensor(836.5966) tensor(1358.2026) tensor(911.4917)\n",
      "0\n",
      "tensor(1148.0146) tensor(1036.5714) tensor(1234.4233) tensor(1104.3226)\n",
      "tensor(951.1748) tensor(747.3855) tensor(1064.6631) tensor(855.8844)\n",
      "tensor(1004.5091) tensor(848.5037) tensor(1086.8809) tensor(939.6491)\n",
      "1\n"
     ]
    },
    {
     "name": "stderr",
     "output_type": "stream",
     "text": [
      "\r",
      " 78%|█████████████████████████████████████████████████████████████████████████████████████████████████████████████████████████████████████████████████████████████████████████████████████████████████████████████████████▉                                                             | 389/500 [01:30<00:25,  4.38it/s]"
     ]
    },
    {
     "name": "stdout",
     "output_type": "stream",
     "text": [
      "0\n",
      "1\n"
     ]
    },
    {
     "name": "stderr",
     "output_type": "stream",
     "text": [
      "\r",
      " 78%|██████████████████████████████████████████████████████████████████████████████████████████████████████████████████████████████████████████████████████████████████████████████████████████████████████████████████████▌                                                            | 390/500 [01:30<00:24,  4.42it/s]"
     ]
    },
    {
     "name": "stdout",
     "output_type": "stream",
     "text": [
      "0\n",
      "tensor(1039.5452) tensor(646.5646) tensor(1154.2361) tensor(750.3346)\n",
      "tensor(939.2755) tensor(1047.1216) tensor(1079.0406) tensor(1140.5518)\n",
      "1\n"
     ]
    },
    {
     "name": "stderr",
     "output_type": "stream",
     "text": [
      "\r",
      " 78%|███████████████████████████████████████████████████████████████████████████████████████████████████████████████████████████████████████████████████████████████████████████████████████████████████████████████████████                                                            | 391/500 [01:30<00:24,  4.41it/s]"
     ]
    },
    {
     "name": "stdout",
     "output_type": "stream",
     "text": [
      "tensor(1244.7385) tensor(1022.6959) tensor(1365.5100) tensor(1167.1846)\n",
      "0\n",
      "tensor(900.9675) tensor(945.1671) tensor(980.1489) tensor(1078.8488)\n",
      "1\n"
     ]
    },
    {
     "name": "stderr",
     "output_type": "stream",
     "text": [
      "\r",
      " 78%|███████████████████████████████████████████████████████████████████████████████████████████████████████████████████████████████████████████████████████████████████████████████████████████████████████████████████████▌                                                           | 392/500 [01:31<00:24,  4.45it/s]"
     ]
    },
    {
     "name": "stdout",
     "output_type": "stream",
     "text": [
      "0\n",
      "1\n"
     ]
    },
    {
     "name": "stderr",
     "output_type": "stream",
     "text": [
      "\r",
      " 79%|████████████████████████████████████████████████████████████████████████████████████████████████████████████████████████████████████████████████████████████████████████████████████████████████████████████████████████▏                                                          | 393/500 [01:31<00:24,  4.41it/s]"
     ]
    },
    {
     "name": "stdout",
     "output_type": "stream",
     "text": [
      "tensor(1025.2959) tensor(442.5638) tensor(1155.7744) tensor(578.0629)\n",
      "tensor(1339.8876) tensor(1416.6432) tensor(1391.5887) tensor(1476.8297)\n",
      "tensor(947.3375) tensor(906.9418) tensor(1054.7781) tensor(1022.8398)\n",
      "tensor(1325.5569) tensor(690.5927) tensor(1400.) tensor(780.0063)\n",
      "0\n",
      "tensor(838.4061) tensor(984.7623) tensor(967.2660) tensor(1122.5724)\n",
      "tensor(1230.2576) tensor(837.5201) tensor(1316.8909) tensor(921.2646)\n",
      "1\n"
     ]
    },
    {
     "name": "stderr",
     "output_type": "stream",
     "text": [
      "\r",
      " 79%|████████████████████████████████████████████████████████████████████████████████████████████████████████████████████████████████████████████████████████████████████████████████████████████████████████████████████████▋                                                          | 394/500 [01:31<00:24,  4.37it/s]"
     ]
    },
    {
     "name": "stdout",
     "output_type": "stream",
     "text": [
      "0\n",
      "1\n"
     ]
    },
    {
     "name": "stderr",
     "output_type": "stream",
     "text": [
      "\r",
      " 79%|█████████████████████████████████████████████████████████████████████████████████████████████████████████████████████████████████████████████████████████████████████████████████████████████████████████████████████████▎                                                         | 395/500 [01:31<00:24,  4.27it/s]"
     ]
    },
    {
     "name": "stdout",
     "output_type": "stream",
     "text": [
      "0\n",
      "tensor(830.0136) tensor(639.7593) tensor(956.5029) tensor(780.0944)\n",
      "tensor(1097.8221) tensor(1015.2111) tensor(1160.5575) tensor(1073.4672)\n",
      "tensor(1058.2454) tensor(661.1316) tensor(1138.5928) tensor(746.4587)\n",
      "tensor(822.0729) tensor(551.7662) tensor(893.1562) tensor(634.5254)\n",
      "tensor(935.1093) tensor(924.8160) tensor(1037.4474) tensor(1033.8091)\n",
      "1\n"
     ]
    },
    {
     "name": "stderr",
     "output_type": "stream",
     "text": [
      "\r",
      " 79%|█████████████████████████████████████████████████████████████████████████████████████████████████████████████████████████████████████████████████████████████████████████████████████████████████████████████████████████▊                                                         | 396/500 [01:32<00:24,  4.32it/s]"
     ]
    },
    {
     "name": "stdout",
     "output_type": "stream",
     "text": [
      "tensor(1058.8452) tensor(819.7714) tensor(1165.3323) tensor(940.9420)\n",
      "tensor(1085.5410) tensor(1039.6787) tensor(1165.9644) tensor(1118.7769)\n",
      "0\n",
      "tensor(977.1396) tensor(806.4986) tensor(1038.4017) tensor(878.3216)\n",
      "tensor(878.6630) tensor(899.9216) tensor(964.1548) tensor(1001.7709)\n",
      "1\n"
     ]
    },
    {
     "name": "stderr",
     "output_type": "stream",
     "text": [
      "\r",
      " 79%|██████████████████████████████████████████████████████████████████████████████████████████████████████████████████████████████████████████████████████████████████████████████████████████████████████████████████████████▎                                                        | 397/500 [01:32<00:23,  4.42it/s]"
     ]
    },
    {
     "name": "stdout",
     "output_type": "stream",
     "text": [
      "0\n",
      "1\n"
     ]
    },
    {
     "name": "stderr",
     "output_type": "stream",
     "text": [
      "\r",
      " 80%|██████████████████████████████████████████████████████████████████████████████████████████████████████████████████████████████████████████████████████████████████████████████████████████████████████████████████████████▉                                                        | 398/500 [01:32<00:22,  4.46it/s]"
     ]
    },
    {
     "name": "stdout",
     "output_type": "stream",
     "text": [
      "tensor(1087.9064) tensor(861.5192) tensor(1172.0631) tensor(940.8345)\n",
      "0\n",
      "1\n"
     ]
    },
    {
     "name": "stderr",
     "output_type": "stream",
     "text": [
      "\r",
      " 80%|███████████████████████████████████████████████████████████████████████████████████████████████████████████████████████████████████████████████████████████████████████████████████████████████████████████████████████████▍                                                       | 399/500 [01:32<00:22,  4.56it/s]"
     ]
    },
    {
     "name": "stdout",
     "output_type": "stream",
     "text": [
      "0\n",
      "tensor(1020.7907) tensor(1122.4135) tensor(1106.7357) tensor(1202.2518)\n",
      "1\n"
     ]
    },
    {
     "name": "stderr",
     "output_type": "stream",
     "text": [
      "\r",
      " 80%|████████████████████████████████████████████████████████████████████████████████████████████████████████████████████████████████████████████████████████████████████████████████████████████████████████████████████████████                                                       | 400/500 [01:32<00:22,  4.52it/s]"
     ]
    },
    {
     "name": "stdout",
     "output_type": "stream",
     "text": [
      "tensor(1042.6113) tensor(416.7007) tensor(1258.7471) tensor(543.6849)\n",
      "tensor(767.0705) tensor(692.9086) tensor(854.9683) tensor(790.3823)\n",
      "tensor(699.6582) tensor(804.2601) tensor(789.8977) tensor(904.2377)\n",
      "tensor(1199.2555) tensor(805.1118) tensor(1297.8082) tensor(913.6239)\n",
      "0\n",
      "tensor(1091.4927) tensor(763.4570) tensor(1243.4512) tensor(888.6769)\n",
      "tensor(939.7259) tensor(893.1429) tensor(1064.9402) tensor(1088.1854)\n",
      "tensor(1191.0269) tensor(1100.1937) tensor(1301.8562) tensor(1215.6447)\n",
      "tensor(1203.2397) tensor(712.8065) tensor(1288.2625) tensor(777.8964)\n",
      "tensor(1122.6658) tensor(1014.9613) tensor(1192.1768) tensor(1089.2684)\n",
      "tensor(1180.0310) tensor(495.1678) tensor(1318.8589) tensor(665.1938)\n",
      "tensor(956.4724) tensor(685.8083) tensor(1103.5112) tensor(848.8611)\n",
      "tensor(1173.8717) tensor(968.6182) tensor(1207.0253) tensor(989.2311)\n",
      "1\n"
     ]
    },
    {
     "name": "stderr",
     "output_type": "stream",
     "text": [
      "\r",
      " 80%|████████████████████████████████████████████████████████████████████████████████████████████████████████████████████████████████████████████████████████████████████████████████████████████████████████████████████████████▌                                                      | 401/500 [01:33<00:21,  4.55it/s]"
     ]
    },
    {
     "name": "stdout",
     "output_type": "stream",
     "text": [
      "tensor(1181.3029) tensor(958.7786) tensor(1272.3292) tensor(1064.7891)\n",
      "0\n",
      "tensor(1261.2083) tensor(491.8680) tensor(1379.2078) tensor(620.9506)\n",
      "tensor(1155.2358) tensor(1144.0098) tensor(1217.9236) tensor(1208.4958)\n",
      "1\n"
     ]
    },
    {
     "name": "stderr",
     "output_type": "stream",
     "text": [
      "\r",
      " 80%|█████████████████████████████████████████████████████████████████████████████████████████████████████████████████████████████████████████████████████████████████████████████████████████████████████████████████████████████                                                      | 402/500 [01:33<00:21,  4.55it/s]"
     ]
    },
    {
     "name": "stdout",
     "output_type": "stream",
     "text": [
      "tensor(857.9843) tensor(869.8989) tensor(935.9160) tensor(945.5267)\n",
      "0\n",
      "1\n"
     ]
    },
    {
     "name": "stderr",
     "output_type": "stream",
     "text": [
      "\r",
      " 81%|█████████████████████████████████████████████████████████████████████████████████████████████████████████████████████████████████████████████████████████████████████████████████████████████████████████████████████████████▋                                                     | 403/500 [01:33<00:21,  4.50it/s]"
     ]
    },
    {
     "name": "stdout",
     "output_type": "stream",
     "text": [
      "tensor(965.2933) tensor(879.2979) tensor(1038.4423) tensor(969.4026)\n",
      "tensor(1130.5303) tensor(1100.3096) tensor(1198.5715) tensor(1178.4678)\n",
      "tensor(1108.6284) tensor(469.8723) tensor(1224.8159) tensor(609.3517)\n",
      "0\n",
      "tensor(815.0970) tensor(730.3340) tensor(886.1271) tensor(805.5609)\n",
      "1\n"
     ]
    },
    {
     "name": "stderr",
     "output_type": "stream",
     "text": [
      "\r",
      " 81%|██████████████████████████████████████████████████████████████████████████████████████████████████████████████████████████████████████████████████████████████████████████████████████████████████████████████████████████████▏                                                    | 404/500 [01:33<00:21,  4.54it/s]"
     ]
    },
    {
     "name": "stdout",
     "output_type": "stream",
     "text": [
      "tensor(1027.8981) tensor(864.6169) tensor(1119.6425) tensor(954.8245)\n",
      "tensor(1181.4093) tensor(848.3290) tensor(1259.9564) tensor(932.4921)\n",
      "0\n",
      "1\n"
     ]
    },
    {
     "name": "stderr",
     "output_type": "stream",
     "text": [
      "\r",
      " 81%|██████████████████████████████████████████████████████████████████████████████████████████████████████████████████████████████████████████████████████████████████████████████████████████████████████████████████████████████▊                                                    | 405/500 [01:33<00:20,  4.59it/s]"
     ]
    },
    {
     "name": "stdout",
     "output_type": "stream",
     "text": [
      "0\n",
      "1\n"
     ]
    },
    {
     "name": "stderr",
     "output_type": "stream",
     "text": [
      "\r",
      " 81%|███████████████████████████████████████████████████████████████████████████████████████████████████████████████████████████████████████████████████████████████████████████████████████████████████████████████████████████████▎                                                   | 406/500 [01:34<00:20,  4.60it/s]"
     ]
    },
    {
     "name": "stdout",
     "output_type": "stream",
     "text": [
      "0\n",
      "tensor(1170.2910) tensor(465.9168) tensor(1294.4128) tensor(552.2444)\n",
      "tensor(1083.5737) tensor(651.2474) tensor(1130.9175) tensor(693.3049)\n",
      "1\n"
     ]
    },
    {
     "name": "stderr",
     "output_type": "stream",
     "text": [
      "\r",
      " 81%|███████████████████████████████████████████████████████████████████████████████████████████████████████████████████████████████████████████████████████████████████████████████████████████████████████████████████████████████▊                                                   | 407/500 [01:34<00:20,  4.61it/s]"
     ]
    },
    {
     "name": "stdout",
     "output_type": "stream",
     "text": [
      "0\n",
      "tensor(1188.2957) tensor(708.2553) tensor(1316.4556) tensor(808.1965)\n",
      "tensor(1245.4771) tensor(782.6117) tensor(1373.6643) tensor(920.0444)\n",
      "1\n"
     ]
    },
    {
     "name": "stderr",
     "output_type": "stream",
     "text": [
      "\r",
      " 82%|████████████████████████████████████████████████████████████████████████████████████████████████████████████████████████████████████████████████████████████████████████████████████████████████████████████████████████████████▍                                                  | 408/500 [01:34<00:20,  4.50it/s]"
     ]
    },
    {
     "name": "stdout",
     "output_type": "stream",
     "text": [
      "tensor(1082.5074) tensor(931.4383) tensor(1150.0707) tensor(1011.4742)\n",
      "0\n",
      "tensor(1331.3744) tensor(417.3962) tensor(1395.4005) tensor(530.9429)\n",
      "1\n"
     ]
    },
    {
     "name": "stderr",
     "output_type": "stream",
     "text": [
      "\r",
      " 82%|████████████████████████████████████████████████████████████████████████████████████████████████████████████████████████████████████████████████████████████████████████████████████████████████████████████████████████████████▉                                                  | 409/500 [01:34<00:20,  4.54it/s]"
     ]
    },
    {
     "name": "stdout",
     "output_type": "stream",
     "text": [
      "tensor(910.6771) tensor(664.8769) tensor(1034.3395) tensor(828.5411)\n",
      "0\n",
      "tensor(1002.4240) tensor(908.1500) tensor(1074.8235) tensor(972.2333)\n",
      "tensor(660.0279) tensor(1186.0911) tensor(718.8752) tensor(1239.6921)\n",
      "1\n"
     ]
    },
    {
     "name": "stderr",
     "output_type": "stream",
     "text": [
      "\r",
      " 82%|█████████████████████████████████████████████████████████████████████████████████████████████████████████████████████████████████████████████████████████████████████████████████████████████████████████████████████████████████▌                                                 | 410/500 [01:35<00:19,  4.63it/s]"
     ]
    },
    {
     "name": "stdout",
     "output_type": "stream",
     "text": [
      "tensor(835.9103) tensor(980.8923) tensor(985.9579) tensor(1135.0648)\n",
      "0\n",
      "tensor(1079.8575) tensor(887.7759) tensor(1183.7765) tensor(1008.7975)\n",
      "1\n"
     ]
    },
    {
     "name": "stderr",
     "output_type": "stream",
     "text": [
      "\r",
      " 82%|██████████████████████████████████████████████████████████████████████████████████████████████████████████████████████████████████████████████████████████████████████████████████████████████████████████████████████████████████                                                 | 411/500 [01:35<00:19,  4.59it/s]"
     ]
    },
    {
     "name": "stdout",
     "output_type": "stream",
     "text": [
      "tensor(1048.2140) tensor(897.7777) tensor(1127.6420) tensor(993.4501)\n",
      "0\n",
      "tensor(833.6514) tensor(915.9794) tensor(878.3729) tensor(960.4116)\n",
      "tensor(1333.2074) tensor(1461.8727) tensor(1391.7382) tensor(1563.2543)\n",
      "tensor(665.7346) tensor(849.4047) tensor(756.1442) tensor(973.7253)\n",
      "1\n"
     ]
    },
    {
     "name": "stderr",
     "output_type": "stream",
     "text": [
      "\r",
      " 82%|██████████████████████████████████████████████████████████████████████████████████████████████████████████████████████████████████████████████████████████████████████████████████████████████████████████████████████████████████▌                                                | 412/500 [01:35<00:19,  4.50it/s]"
     ]
    },
    {
     "name": "stdout",
     "output_type": "stream",
     "text": [
      "tensor(1002.0157) tensor(1237.0182) tensor(1096.7825) tensor(1320.0250)\n",
      "tensor(922.7410) tensor(583.9084) tensor(1014.9795) tensor(685.8137)\n",
      "0\n",
      "1\n"
     ]
    },
    {
     "name": "stderr",
     "output_type": "stream",
     "text": [
      "\r",
      " 83%|███████████████████████████████████████████████████████████████████████████████████████████████████████████████████████████████████████████████████████████████████████████████████████████████████████████████████████████████████▏                                               | 413/500 [01:35<00:19,  4.49it/s]"
     ]
    },
    {
     "name": "stdout",
     "output_type": "stream",
     "text": [
      "tensor(1045.4911) tensor(958.2751) tensor(1147.2274) tensor(1073.3322)\n",
      "tensor(1338.6902) tensor(42.9461) tensor(1383.8904) tensor(99.1611)\n",
      "tensor(1337.4055) tensor(624.6042) tensor(1397.2869) tensor(723.5421)\n",
      "0\n",
      "tensor(1072.7836) tensor(646.5104) tensor(1143.5231) tensor(713.5653)\n",
      "1\n"
     ]
    },
    {
     "name": "stderr",
     "output_type": "stream",
     "text": [
      "\r",
      " 83%|███████████████████████████████████████████████████████████████████████████████████████████████████████████████████████████████████████████████████████████████████████████████████████████████████████████████████████████████████▋                                               | 414/500 [01:35<00:18,  4.60it/s]"
     ]
    },
    {
     "name": "stdout",
     "output_type": "stream",
     "text": [
      "0\n",
      "tensor(934.4517) tensor(812.2142) tensor(1041.5250) tensor(947.8796)\n",
      "tensor(818.9229) tensor(824.9492) tensor(876.9419) tensor(887.1023)\n",
      "1\n"
     ]
    },
    {
     "name": "stderr",
     "output_type": "stream",
     "text": [
      "\r",
      " 83%|████████████████████████████████████████████████████████████████████████████████████████████████████████████████████████████████████████████████████████████████████████████████████████████████████████████████████████████████████▎                                              | 415/500 [01:36<00:18,  4.56it/s]"
     ]
    },
    {
     "name": "stdout",
     "output_type": "stream",
     "text": [
      "tensor(1223.4558) tensor(1055.9612) tensor(1390.8784) tensor(1249.1995)\n",
      "0\n",
      "1\n"
     ]
    },
    {
     "name": "stderr",
     "output_type": "stream",
     "text": [
      "\r",
      " 83%|████████████████████████████████████████████████████████████████████████████████████████████████████████████████████████████████████████████████████████████████████████████████████████████████████████████████████████████████████▊                                              | 416/500 [01:36<00:18,  4.45it/s]"
     ]
    },
    {
     "name": "stdout",
     "output_type": "stream",
     "text": [
      "tensor(1267.6423) tensor(594.7751) tensor(1311.9419) tensor(646.1512)\n",
      "0\n",
      "tensor(1228.6005) tensor(1164.3529) tensor(1299.1886) tensor(1233.2123)\n",
      "tensor(1089.0442) tensor(871.1811) tensor(1215.4524) tensor(966.8799)\n",
      "tensor(1340.9004) tensor(668.9366) tensor(1379.9009) tensor(707.0531)\n",
      "tensor(1142.6318) tensor(1067.3330) tensor(1194.6399) tensor(1123.3867)\n",
      "1\n"
     ]
    },
    {
     "name": "stderr",
     "output_type": "stream",
     "text": [
      "\r",
      " 83%|█████████████████████████████████████████████████████████████████████████████████████████████████████████████████████████████████████████████████████████████████████████████████████████████████████████████████████████████████████▎                                             | 417/500 [01:36<00:19,  4.27it/s]"
     ]
    },
    {
     "name": "stdout",
     "output_type": "stream",
     "text": [
      "0\n",
      "1\n"
     ]
    },
    {
     "name": "stderr",
     "output_type": "stream",
     "text": [
      "\r",
      " 84%|█████████████████████████████████████████████████████████████████████████████████████████████████████████████████████████████████████████████████████████████████████████████████████████████████████████████████████████████████████▉                                             | 418/500 [01:36<00:19,  4.30it/s]"
     ]
    },
    {
     "name": "stdout",
     "output_type": "stream",
     "text": [
      "tensor(1269.4136) tensor(1551.1851) tensor(1387.5796) tensor(1700.)\n",
      "0\n",
      "tensor(1233.7296) tensor(670.7474) tensor(1366.5128) tensor(818.9038)\n",
      "1\n"
     ]
    },
    {
     "name": "stderr",
     "output_type": "stream",
     "text": [
      "\r",
      " 84%|██████████████████████████████████████████████████████████████████████████████████████████████████████████████████████████████████████████████████████████████████████████████████████████████████████████████████████████████████████▍                                            | 419/500 [01:37<00:18,  4.29it/s]"
     ]
    },
    {
     "name": "stdout",
     "output_type": "stream",
     "text": [
      "tensor(1136.3708) tensor(641.7524) tensor(1239.6401) tensor(786.1639)\n",
      "0\n",
      "1\n"
     ]
    },
    {
     "name": "stderr",
     "output_type": "stream",
     "text": [
      "\r",
      " 84%|███████████████████████████████████████████████████████████████████████████████████████████████████████████████████████████████████████████████████████████████████████████████████████████████████████████████████████████████████████                                            | 420/500 [01:37<00:18,  4.23it/s]"
     ]
    },
    {
     "name": "stdout",
     "output_type": "stream",
     "text": [
      "tensor(1084.8064) tensor(911.1209) tensor(1184.2573) tensor(1006.1984)\n",
      "0\n",
      "1\n"
     ]
    },
    {
     "name": "stderr",
     "output_type": "stream",
     "text": [
      "\r",
      " 84%|███████████████████████████████████████████████████████████████████████████████████████████████████████████████████████████████████████████████████████████████████████████████████████████████████████████████████████████████████████▌                                           | 421/500 [01:37<00:18,  4.35it/s]"
     ]
    },
    {
     "name": "stdout",
     "output_type": "stream",
     "text": [
      "0\n",
      "tensor(1214.4250) tensor(1312.1267) tensor(1366.2576) tensor(1503.7764)\n",
      "1\n"
     ]
    },
    {
     "name": "stderr",
     "output_type": "stream",
     "text": [
      "\r",
      " 84%|████████████████████████████████████████████████████████████████████████████████████████████████████████████████████████████████████████████████████████████████████████████████████████████████████████████████████████████████████████                                           | 422/500 [01:37<00:17,  4.54it/s]"
     ]
    },
    {
     "name": "stdout",
     "output_type": "stream",
     "text": [
      "tensor(1192.0636) tensor(451.2068) tensor(1321.7406) tensor(589.6990)\n",
      "0\n",
      "tensor(782.4563) tensor(945.5535) tensor(935.3199) tensor(1043.1234)\n",
      "tensor(552.0746) tensor(924.1556) tensor(635.8530) tensor(1010.5133)\n",
      "tensor(810.3764) tensor(553.6713) tensor(893.8703) tensor(638.9430)\n",
      "1\n"
     ]
    },
    {
     "name": "stderr",
     "output_type": "stream",
     "text": [
      "\r",
      " 85%|████████████████████████████████████████████████████████████████████████████████████████████████████████████████████████████████████████████████████████████████████████████████████████████████████████████████████████████████████████▋                                          | 423/500 [01:38<00:16,  4.59it/s]"
     ]
    },
    {
     "name": "stdout",
     "output_type": "stream",
     "text": [
      "tensor(1115.1221) tensor(463.5803) tensor(1224.6731) tensor(540.0392)\n",
      "tensor(921.1409) tensor(796.6531) tensor(986.1063) tensor(880.6182)\n",
      "tensor(1086.1689) tensor(848.7191) tensor(1255.7942) tensor(1058.2582)\n",
      "tensor(1178.7517) tensor(1021.1315) tensor(1275.1045) tensor(1120.5575)\n",
      "tensor(1016.9612) tensor(381.8317) tensor(1102.8413) tensor(486.3553)\n",
      "tensor(1072.8281) tensor(284.0319) tensor(1150.1453) tensor(363.4102)\n",
      "tensor(921.0224) tensor(985.5587) tensor(1005.6663) tensor(1072.3051)\n",
      "tensor(894.2927) tensor(544.7220) tensor(941.9955) tensor(593.3764)\n",
      "0\n",
      "1\n"
     ]
    },
    {
     "name": "stderr",
     "output_type": "stream",
     "text": [
      "\r",
      " 85%|█████████████████████████████████████████████████████████████████████████████████████████████████████████████████████████████████████████████████████████████████████████████████████████████████████████████████████████████████████████▏                                         | 424/500 [01:38<00:17,  4.45it/s]"
     ]
    },
    {
     "name": "stdout",
     "output_type": "stream",
     "text": [
      "0\n",
      "tensor(1355.6508) tensor(861.5220) tensor(1387.0594) tensor(906.8717)\n",
      "1\n"
     ]
    },
    {
     "name": "stderr",
     "output_type": "stream",
     "text": [
      "\r",
      " 85%|█████████████████████████████████████████████████████████████████████████████████████████████████████████████████████████████████████████████████████████████████████████████████████████████████████████████████████████████████████████▊                                         | 425/500 [01:38<00:17,  4.36it/s]"
     ]
    },
    {
     "name": "stdout",
     "output_type": "stream",
     "text": [
      "tensor(1182.5471) tensor(360.3321) tensor(1372.4651) tensor(512.5394)\n",
      "0\n",
      "tensor(1056.6940) tensor(416.6103) tensor(1217.3788) tensor(521.1691)\n",
      "tensor(863.7261) tensor(516.6370) tensor(1035.2285) tensor(694.5759)\n",
      "tensor(1145.9221) tensor(705.2761) tensor(1240.3545) tensor(804.5238)\n",
      "1\n"
     ]
    },
    {
     "name": "stderr",
     "output_type": "stream",
     "text": [
      "\r",
      " 85%|██████████████████████████████████████████████████████████████████████████████████████████████████████████████████████████████████████████████████████████████████████████████████████████████████████████████████████████████████████████▎                                        | 426/500 [01:38<00:17,  4.33it/s]"
     ]
    },
    {
     "name": "stdout",
     "output_type": "stream",
     "text": [
      "tensor(1176.5201) tensor(1066.5585) tensor(1229.5658) tensor(1116.7401)\n",
      "0\n",
      "1\n"
     ]
    },
    {
     "name": "stderr",
     "output_type": "stream",
     "text": [
      "\r",
      " 85%|██████████████████████████████████████████████████████████████████████████████████████████████████████████████████████████████████████████████████████████████████████████████████████████████████████████████████████████████████████████▊                                        | 427/500 [01:38<00:16,  4.33it/s]"
     ]
    },
    {
     "name": "stdout",
     "output_type": "stream",
     "text": [
      "0\n",
      "tensor(956.7537) tensor(652.0360) tensor(1092.9641) tensor(748.0834)\n",
      "tensor(1129.0691) tensor(1162.5620) tensor(1212.5901) tensor(1241.8894)\n",
      "tensor(1134.3197) tensor(857.3860) tensor(1189.7526) tensor(922.5247)\n",
      "1\n"
     ]
    },
    {
     "name": "stderr",
     "output_type": "stream",
     "text": [
      "\r",
      " 86%|███████████████████████████████████████████████████████████████████████████████████████████████████████████████████████████████████████████████████████████████████████████████████████████████████████████████████████████████████████████▍                                       | 428/500 [01:39<00:16,  4.33it/s]"
     ]
    },
    {
     "name": "stdout",
     "output_type": "stream",
     "text": [
      "0\n",
      "tensor(1067.3112) tensor(828.3923) tensor(1240.8507) tensor(971.3578)\n",
      "tensor(1245.8652) tensor(1042.8328) tensor(1356.1990) tensor(1156.7842)\n",
      "1\n"
     ]
    },
    {
     "name": "stderr",
     "output_type": "stream",
     "text": [
      "\r",
      " 86%|███████████████████████████████████████████████████████████████████████████████████████████████████████████████████████████████████████████████████████████████████████████████████████████████████████████████████████████████████████████▉                                       | 429/500 [01:39<00:15,  4.45it/s]"
     ]
    },
    {
     "name": "stdout",
     "output_type": "stream",
     "text": [
      "0\n",
      "1\n",
      "0\n"
     ]
    },
    {
     "name": "stderr",
     "output_type": "stream",
     "text": [
      "\r",
      " 86%|████████████████████████████████████████████████████████████████████████████████████████████████████████████████████████████████████████████████████████████████████████████████████████████████████████████████████████████████████████████▌                                      | 430/500 [01:39<00:15,  4.61it/s]"
     ]
    },
    {
     "name": "stdout",
     "output_type": "stream",
     "text": [
      "1\n",
      "tensor(1205.1857) tensor(858.5756) tensor(1320.5465) tensor(947.0963)\n",
      "tensor(954.6356) tensor(1098.8075) tensor(1024.7194) tensor(1180.9530)\n",
      "tensor(1067.3229) tensor(1010.6360) tensor(1150.0660) tensor(1090.4233)\n",
      "0\n"
     ]
    },
    {
     "name": "stderr",
     "output_type": "stream",
     "text": [
      "\r",
      " 86%|█████████████████████████████████████████████████████████████████████████████████████████████████████████████████████████████████████████████████████████████████████████████████████████████████████████████████████████████████████████████                                      | 431/500 [01:39<00:15,  4.51it/s]"
     ]
    },
    {
     "name": "stdout",
     "output_type": "stream",
     "text": [
      "tensor(1305.9701) tensor(681.1450) tensor(1370.6681) tensor(737.3166)\n",
      "1\n"
     ]
    },
    {
     "name": "stderr",
     "output_type": "stream",
     "text": [
      "\r",
      " 86%|█████████████████████████████████████████████████████████████████████████████████████████████████████████████████████████████████████████████████████████████████████████████████████████████████████████████████████████████████████████████▌                                     | 432/500 [01:40<00:15,  4.34it/s]"
     ]
    },
    {
     "name": "stdout",
     "output_type": "stream",
     "text": [
      "0\n",
      "1\n"
     ]
    },
    {
     "name": "stderr",
     "output_type": "stream",
     "text": [
      "\r",
      " 87%|██████████████████████████████████████████████████████████████████████████████████████████████████████████████████████████████████████████████████████████████████████████████████████████████████████████████████████████████████████████████▏                                    | 433/500 [01:40<00:15,  4.47it/s]"
     ]
    },
    {
     "name": "stdout",
     "output_type": "stream",
     "text": [
      "tensor(1226.7195) tensor(468.4297) tensor(1317.7095) tensor(546.9897)\n",
      "tensor(668.2598) tensor(710.3217) tensor(773.5092) tensor(833.5226)\n",
      "0\n",
      "1\n"
     ]
    },
    {
     "name": "stderr",
     "output_type": "stream",
     "text": [
      "\r",
      " 87%|██████████████████████████████████████████████████████████████████████████████████████████████████████████████████████████████████████████████████████████████████████████████████████████████████████████████████████████████████████████████▋                                    | 434/500 [01:40<00:14,  4.52it/s]"
     ]
    },
    {
     "name": "stdout",
     "output_type": "stream",
     "text": [
      "0\n",
      "1\n"
     ]
    },
    {
     "name": "stderr",
     "output_type": "stream",
     "text": [
      "\r",
      " 87%|███████████████████████████████████████████████████████████████████████████████████████████████████████████████████████████████████████████████████████████████████████████████████████████████████████████████████████████████████████████████▎                                   | 435/500 [01:40<00:14,  4.57it/s]"
     ]
    },
    {
     "name": "stdout",
     "output_type": "stream",
     "text": [
      "0\n",
      "1\n"
     ]
    },
    {
     "name": "stderr",
     "output_type": "stream",
     "text": [
      "\r",
      " 87%|███████████████████████████████████████████████████████████████████████████████████████████████████████████████████████████████████████████████████████████████████████████████████████████████████████████████████████████████████████████████▊                                   | 436/500 [01:40<00:13,  4.58it/s]"
     ]
    },
    {
     "name": "stdout",
     "output_type": "stream",
     "text": [
      "tensor(1109.6992) tensor(1125.1343) tensor(1182.8262) tensor(1205.8630)\n",
      "tensor(983.6147) tensor(1005.3107) tensor(1072.3909) tensor(1134.7113)\n",
      "tensor(1244.8325) tensor(1127.8077) tensor(1314.1255) tensor(1179.7806)\n",
      "tensor(1085.8188) tensor(948.8115) tensor(1123.5386) tensor(994.8853)\n",
      "0\n",
      "tensor(1201.7917) tensor(764.9182) tensor(1298.0295) tensor(853.2328)\n",
      "1\n"
     ]
    },
    {
     "name": "stderr",
     "output_type": "stream",
     "text": [
      "\r",
      " 87%|████████████████████████████████████████████████████████████████████████████████████████████████████████████████████████████████████████████████████████████████████████████████████████████████████████████████████████████████████████████████▎                                  | 437/500 [01:41<00:13,  4.60it/s]"
     ]
    },
    {
     "name": "stdout",
     "output_type": "stream",
     "text": [
      "0\n",
      "1\n"
     ]
    },
    {
     "name": "stderr",
     "output_type": "stream",
     "text": [
      "\r",
      " 88%|████████████████████████████████████████████████████████████████████████████████████████████████████████████████████████████████████████████████████████████████████████████████████████████████████████████████████████████████████████████████▉                                  | 438/500 [01:41<00:13,  4.57it/s]"
     ]
    },
    {
     "name": "stdout",
     "output_type": "stream",
     "text": [
      "tensor(1225.8176) tensor(917.9349) tensor(1294.6387) tensor(991.1396)\n",
      "0\n",
      "tensor(914.6648) tensor(963.2308) tensor(1008.3918) tensor(1056.9039)\n",
      "tensor(883.3326) tensor(863.5522) tensor(943.3745) tensor(939.8304)\n",
      "1\n",
      "tensor(942.5479) tensor(886.6594) tensor(1066.5673) tensor(969.9547)\n",
      "tensor(1078.7493) tensor(915.6388) tensor(1290.1113) tensor(1064.9159)\n",
      "0\n"
     ]
    },
    {
     "data": {
      "image/png": "[encoded data removed]",
      "text/plain": [
       "<Figure size 640x480 with 1 Axes>"
      ]
     },
     "metadata": {},
     "output_type": "display_data"
    },
    {
     "name": "stderr",
     "output_type": "stream",
     "text": [
      "\r",
      " 88%|█████████████████████████████████████████████████████████████████████████████████████████████████████████████████████████████████████████████████████████████████████████████████████████████████████████████████████████████████████████████████▍                                 | 439/500 [01:41<00:20,  3.02it/s]"
     ]
    },
    {
     "name": "stdout",
     "output_type": "stream",
     "text": [
      "1\n",
      "tensor(1115.4591) tensor(920.1245) tensor(1189.3124) tensor(1071.3698)\n",
      "0\n"
     ]
    },
    {
     "name": "stderr",
     "output_type": "stream",
     "text": [
      "\r",
      " 88%|██████████████████████████████████████████████████████████████████████████████████████████████████████████████████████████████████████████████████████████████████████████████████████████████████████████████████████████████████████████████████                                 | 440/500 [01:42<00:17,  3.38it/s]"
     ]
    },
    {
     "name": "stdout",
     "output_type": "stream",
     "text": [
      "1\n",
      "tensor(981.7416) tensor(697.4263) tensor(1073.8475) tensor(862.8271)\n",
      "tensor(1258.6847) tensor(926.8954) tensor(1343.1329) tensor(1008.6083)\n",
      "tensor(1309.6595) tensor(813.4843) tensor(1389.5179) tensor(924.9209)\n",
      "0\n"
     ]
    },
    {
     "name": "stderr",
     "output_type": "stream",
     "text": [
      "\r",
      " 88%|██████████████████████████████████████████████████████████████████████████████████████████████████████████████████████████████████████████████████████████████████████████████████████████████████████████████████████████████████████████████████▌                                | 441/500 [01:42<00:16,  3.66it/s]"
     ]
    },
    {
     "name": "stdout",
     "output_type": "stream",
     "text": [
      "1\n",
      "0\n"
     ]
    },
    {
     "name": "stderr",
     "output_type": "stream",
     "text": [
      " 89%|███████████████████████████████████████████████████████████████████████████████████████████████████████████████████████████████████████████████████████████████████████████████████████████████████████████████████████████████████████████████████▋                               | 443/500 [01:42<00:13,  4.23it/s]"
     ]
    },
    {
     "name": "stdout",
     "output_type": "stream",
     "text": [
      "1\n",
      "tensor(636.1999) tensor(340.9329) tensor(1092.0764) tensor(945.2070)\n",
      "tensor(1152.7148) tensor(433.7767) tensor(1240.8232) tensor(514.0586)\n",
      "tensor(971.6337) tensor(438.0860) tensor(1141.4038) tensor(547.8730)\n",
      "tensor(671.8804) tensor(1012.1553) tensor(726.5526) tensor(1090.8531)\n",
      "tensor(699.1594) tensor(910.7240) tensor(784.2722) tensor(969.1235)\n",
      "tensor(613.3351) tensor(717.5360) tensor(819.8641) tensor(866.7996)\n",
      "tensor(754.9195) tensor(908.9006) tensor(911.6074) tensor(1021.6157)\n",
      "tensor(971.8938) tensor(612.8379) tensor(1018.9071) tensor(644.1898)\n",
      "0\n",
      "1\n"
     ]
    },
    {
     "name": "stderr",
     "output_type": "stream",
     "text": [
      "\r",
      " 89%|████████████████████████████████████████████████████████████████████████████████████████████████████████████████████████████████████████████████████████████████████████████████████████████████████████████████████████████████████████████████████▏                              | 444/500 [01:43<00:12,  4.41it/s]"
     ]
    },
    {
     "name": "stdout",
     "output_type": "stream",
     "text": [
      "0\n",
      "1\n"
     ]
    },
    {
     "name": "stderr",
     "output_type": "stream",
     "text": [
      "\r",
      " 89%|████████████████████████████████████████████████████████████████████████████████████████████████████████████████████████████████████████████████████████████████████████████████████████████████████████████████████████████████████████████████████▊                              | 445/500 [01:43<00:12,  4.41it/s]"
     ]
    },
    {
     "name": "stdout",
     "output_type": "stream",
     "text": [
      "tensor(1256.2413) tensor(896.5876) tensor(1388.9567) tensor(994.6113)\n",
      "tensor(1143.2085) tensor(1015.9188) tensor(1216.8318) tensor(1084.0907)\n",
      "0\n",
      "tensor(866.1921) tensor(344.5366) tensor(1037.8468) tensor(508.8925)\n",
      "tensor(637.6728) tensor(605.4391) tensor(715.9454) tensor(681.0702)\n",
      "tensor(1039.1276) tensor(498.9534) tensor(1123.9340) tensor(596.0742)\n",
      "tensor(1288.1331) tensor(1400.5111) tensor(1336.6702) tensor(1455.2506)\n",
      "1\n"
     ]
    },
    {
     "name": "stderr",
     "output_type": "stream",
     "text": [
      "\r",
      " 89%|█████████████████████████████████████████████████████████████████████████████████████████████████████████████████████████████████████████████████████████████████████████████████████████████████████████████████████████████████████████████████████▎                             | 446/500 [01:43<00:11,  4.57it/s]"
     ]
    },
    {
     "name": "stdout",
     "output_type": "stream",
     "text": [
      "tensor(1117.4270) tensor(902.1835) tensor(1184.0820) tensor(963.9385)\n",
      "0\n",
      "tensor(1110.1649) tensor(723.1169) tensor(1221.4562) tensor(847.6890)\n",
      "1\n"
     ]
    },
    {
     "name": "stderr",
     "output_type": "stream",
     "text": [
      "\r",
      " 89%|█████████████████████████████████████████████████████████████████████████████████████████████████████████████████████████████████████████████████████████████████████████████████████████████████████████████████████████████████████████████████████▊                             | 447/500 [01:43<00:11,  4.64it/s]"
     ]
    },
    {
     "name": "stdout",
     "output_type": "stream",
     "text": [
      "tensor(964.9012) tensor(373.3119) tensor(1055.5919) tensor(476.4429)\n",
      "tensor(1275.8928) tensor(1283.1642) tensor(1350.0110) tensor(1357.6984)\n",
      "tensor(1129.7590) tensor(280.5022) tensor(1226.9792) tensor(368.7809)\n",
      "0\n",
      "1\n"
     ]
    },
    {
     "name": "stderr",
     "output_type": "stream",
     "text": [
      "\r",
      " 90%|██████████████████████████████████████████████████████████████████████████████████████████████████████████████████████████████████████████████████████████████████████████████████████████████████████████████████████████████████████████████████████▍                            | 448/500 [01:43<00:11,  4.63it/s]"
     ]
    },
    {
     "name": "stdout",
     "output_type": "stream",
     "text": [
      "0\n",
      "1\n"
     ]
    },
    {
     "name": "stderr",
     "output_type": "stream",
     "text": [
      "\r",
      " 90%|██████████████████████████████████████████████████████████████████████████████████████████████████████████████████████████████████████████████████████████████████████████████████████████████████████████████████████████████████████████████████████▉                            | 449/500 [01:44<00:11,  4.48it/s]"
     ]
    },
    {
     "name": "stdout",
     "output_type": "stream",
     "text": [
      "tensor(1196.0114) tensor(927.0464) tensor(1266.8722) tensor(996.4016)\n",
      "0\n",
      "tensor(984.6189) tensor(751.0542) tensor(1120.2673) tensor(923.6597)\n",
      "1\n"
     ]
    },
    {
     "name": "stderr",
     "output_type": "stream",
     "text": [
      "\r",
      " 90%|███████████████████████████████████████████████████████████████████████████████████████████████████████████████████████████████████████████████████████████████████████████████████████████████████████████████████████████████████████████████████████▌                           | 450/500 [01:44<00:10,  4.62it/s]"
     ]
    },
    {
     "name": "stdout",
     "output_type": "stream",
     "text": [
      "0\n",
      "1\n"
     ]
    },
    {
     "name": "stderr",
     "output_type": "stream",
     "text": [
      "\r",
      " 90%|████████████████████████████████████████████████████████████████████████████████████████████████████████████████████████████████████████████████████████████████████████████████████████████████████████████████████████████████████████████████████████                           | 451/500 [01:44<00:10,  4.70it/s]"
     ]
    },
    {
     "name": "stdout",
     "output_type": "stream",
     "text": [
      "0\n",
      "1\n"
     ]
    },
    {
     "name": "stderr",
     "output_type": "stream",
     "text": [
      "\r",
      " 90%|████████████████████████████████████████████████████████████████████████████████████████████████████████████████████████████████████████████████████████████████████████████████████████████████████████████████████████████████████████████████████████▌                          | 452/500 [01:44<00:10,  4.63it/s]"
     ]
    },
    {
     "name": "stdout",
     "output_type": "stream",
     "text": [
      "tensor(1171.8037) tensor(1332.9076) tensor(1228.5081) tensor(1385.3844)\n",
      "0\n",
      "1\n"
     ]
    },
    {
     "name": "stderr",
     "output_type": "stream",
     "text": [
      "\r",
      " 91%|█████████████████████████████████████████████████████████████████████████████████████████████████████████████████████████████████████████████████████████████████████████████████████████████████████████████████████████████████████████████████████████▏                         | 453/500 [01:44<00:10,  4.63it/s]"
     ]
    },
    {
     "name": "stdout",
     "output_type": "stream",
     "text": [
      "tensor(1004.0304) tensor(569.9025) tensor(1065.2850) tensor(645.6683)\n",
      "tensor(1136.9568) tensor(259.5948) tensor(1188.7004) tensor(319.8564)\n",
      "0\n",
      "tensor(1122.8676) tensor(586.5629) tensor(1247.3175) tensor(715.9295)\n",
      "1\n"
     ]
    },
    {
     "name": "stderr",
     "output_type": "stream",
     "text": [
      "\r",
      " 91%|█████████████████████████████████████████████████████████████████████████████████████████████████████████████████████████████████████████████████████████████████████████████████████████████████████████████████████████████████████████████████████████▋                         | 454/500 [01:45<00:09,  4.71it/s]"
     ]
    },
    {
     "name": "stdout",
     "output_type": "stream",
     "text": [
      "0\n",
      "1\n"
     ]
    },
    {
     "name": "stderr",
     "output_type": "stream",
     "text": [
      "\r",
      " 91%|██████████████████████████████████████████████████████████████████████████████████████████████████████████████████████████████████████████████████████████████████████████████████████████████████████████████████████████████████████████████████████████▎                        | 455/500 [01:45<00:09,  4.68it/s]"
     ]
    },
    {
     "name": "stdout",
     "output_type": "stream",
     "text": [
      "tensor(794.4512) tensor(835.1680) tensor(864.8571) tensor(905.8682)\n",
      "0\n",
      "tensor(864.5447) tensor(473.7137) tensor(1227.4922) tensor(1000.5400)\n",
      "1\n"
     ]
    },
    {
     "name": "stderr",
     "output_type": "stream",
     "text": [
      "\r",
      " 91%|██████████████████████████████████████████████████████████████████████████████████████████████████████████████████████████████████████████████████████████████████████████████████████████████████████████████████████████████████████████████████████████▊                        | 456/500 [01:45<00:09,  4.68it/s]"
     ]
    },
    {
     "name": "stdout",
     "output_type": "stream",
     "text": [
      "0\n",
      "1\n"
     ]
    },
    {
     "name": "stderr",
     "output_type": "stream",
     "text": [
      "\r",
      " 91%|███████████████████████████████████████████████████████████████████████████████████████████████████████████████████████████████████████████████████████████████████████████████████████████████████████████████████████████████████████████████████████████▎                       | 457/500 [01:45<00:09,  4.68it/s]"
     ]
    },
    {
     "name": "stdout",
     "output_type": "stream",
     "text": [
      "tensor(1092.3579) tensor(412.0643) tensor(1155.6426) tensor(463.2469)\n",
      "0\n",
      "1\n"
     ]
    },
    {
     "name": "stderr",
     "output_type": "stream",
     "text": [
      "\r",
      " 92%|███████████████████████████████████████████████████████████████████████████████████████████████████████████████████████████████████████████████████████████████████████████████████████████████████████████████████████████████████████████████████████████▉                       | 458/500 [01:46<00:09,  4.62it/s]"
     ]
    },
    {
     "name": "stdout",
     "output_type": "stream",
     "text": [
      "0\n",
      "tensor(1250.0042) tensor(834.0893) tensor(1360.0164) tensor(947.7407)\n",
      "1\n"
     ]
    },
    {
     "name": "stderr",
     "output_type": "stream",
     "text": [
      "\r",
      " 92%|████████████████████████████████████████████████████████████████████████████████████████████████████████████████████████████████████████████████████████████████████████████████████████████████████████████████████████████████████████████████████████████▍                      | 459/500 [01:46<00:09,  4.47it/s]"
     ]
    },
    {
     "name": "stdout",
     "output_type": "stream",
     "text": [
      "0\n",
      "tensor(721.9264) tensor(765.0557) tensor(810.2025) tensor(846.7390)\n",
      "tensor(1244.6506) tensor(644.7095) tensor(1328.2244) tensor(719.4565)\n",
      "tensor(836.5018) tensor(746.5880) tensor(915.6259) tensor(810.0381)\n",
      "tensor(792.6836) tensor(987.9509) tensor(849.0408) tensor(1037.9274)\n",
      "tensor(1134.1708) tensor(1084.5970) tensor(1213.1766) tensor(1166.7982)\n",
      "1\n"
     ]
    },
    {
     "name": "stderr",
     "output_type": "stream",
     "text": [
      "\r",
      " 92%|█████████████████████████████████████████████████████████████████████████████████████████████████████████████████████████████████████████████████████████████████████████████████████████████████████████████████████████████████████████████████████████████                      | 460/500 [01:46<00:08,  4.56it/s]"
     ]
    },
    {
     "name": "stdout",
     "output_type": "stream",
     "text": [
      "0\n",
      "1\n"
     ]
    },
    {
     "name": "stderr",
     "output_type": "stream",
     "text": [
      "\r",
      " 92%|█████████████████████████████████████████████████████████████████████████████████████████████████████████████████████████████████████████████████████████████████████████████████████████████████████████████████████████████████████████████████████████████▌                     | 461/500 [01:46<00:08,  4.61it/s]"
     ]
    },
    {
     "name": "stdout",
     "output_type": "stream",
     "text": [
      "tensor(1031.8020) tensor(858.4648) tensor(1088.2007) tensor(917.9504)\n",
      "tensor(1190.6814) tensor(1289.7561) tensor(1272.5017) tensor(1365.3438)\n",
      "0\n",
      "1\n"
     ]
    },
    {
     "name": "stderr",
     "output_type": "stream",
     "text": [
      "\r",
      " 92%|██████████████████████████████████████████████████████████████████████████████████████████████████████████████████████████████████████████████████████████████████████████████████████████████████████████████████████████████████████████████████████████████                     | 462/500 [01:46<00:08,  4.63it/s]"
     ]
    },
    {
     "name": "stdout",
     "output_type": "stream",
     "text": [
      "tensor(1264.4956) tensor(684.5422) tensor(1316.6372) tensor(732.0707)\n",
      "tensor(979.1277) tensor(744.6674) tensor(1107.7285) tensor(888.1100)\n",
      "0\n",
      "1\n"
     ]
    },
    {
     "name": "stderr",
     "output_type": "stream",
     "text": [
      "\r",
      " 93%|██████████████████████████████████████████████████████████████████████████████████████████████████████████████████████████████████████████████████████████████████████████████████████████████████████████████████████████████████████████████████████████████▋                    | 463/500 [01:47<00:08,  4.57it/s]"
     ]
    },
    {
     "name": "stdout",
     "output_type": "stream",
     "text": [
      "tensor(1349.7437) tensor(463.1947) tensor(1397.5840) tensor(546.1508)\n",
      "0\n",
      "1\n"
     ]
    },
    {
     "name": "stderr",
     "output_type": "stream",
     "text": [
      "\r",
      " 93%|███████████████████████████████████████████████████████████████████████████████████████████████████████████████████████████████████████████████████████████████████████████████████████████████████████████████████████████████████████████████████████████████▏                   | 464/500 [01:47<00:07,  4.59it/s]"
     ]
    },
    {
     "name": "stdout",
     "output_type": "stream",
     "text": [
      "tensor(1009.1586) tensor(461.9091) tensor(1314.6984) tensor(708.5193)\n",
      "tensor(1065.6112) tensor(1172.6128) tensor(1167.0138) tensor(1262.0083)\n",
      "0\n",
      "tensor(1104.9449) tensor(896.2599) tensor(1161.1490) tensor(952.8837)\n",
      "1\n"
     ]
    },
    {
     "name": "stderr",
     "output_type": "stream",
     "text": [
      "\r",
      " 93%|███████████████████████████████████████████████████████████████████████████████████████████████████████████████████████████████████████████████████████████████████████████████████████████████████████████████████████████████████████████████████████████████▊                   | 465/500 [01:47<00:07,  4.59it/s]"
     ]
    },
    {
     "name": "stdout",
     "output_type": "stream",
     "text": [
      "0\n",
      "tensor(974.5641) tensor(449.3970) tensor(1360.0802) tensor(1115.5725)\n",
      "1\n"
     ]
    },
    {
     "name": "stderr",
     "output_type": "stream",
     "text": [
      "\r",
      " 93%|████████████████████████████████████████████████████████████████████████████████████████████████████████████████████████████████████████████████████████████████████████████████████████████████████████████████████████████████████████████████████████████████▎                  | 466/500 [01:47<00:07,  4.63it/s]"
     ]
    },
    {
     "name": "stdout",
     "output_type": "stream",
     "text": [
      "0\n",
      "tensor(726.7302) tensor(844.5335) tensor(832.3113) tensor(951.3909)\n",
      "tensor(1032.4885) tensor(1175.9136) tensor(1112.4829) tensor(1234.2322)\n",
      "1\n"
     ]
    },
    {
     "name": "stderr",
     "output_type": "stream",
     "text": [
      "\r",
      " 93%|████████████████████████████████████████████████████████████████████████████████████████████████████████████████████████████████████████████████████████████████████████████████████████████████████████████████████████████████████████████████████████████████▊                  | 467/500 [01:47<00:07,  4.61it/s]"
     ]
    },
    {
     "name": "stdout",
     "output_type": "stream",
     "text": [
      "0\n",
      "1\n"
     ]
    },
    {
     "name": "stderr",
     "output_type": "stream",
     "text": [
      "\r",
      " 94%|█████████████████████████████████████████████████████████████████████████████████████████████████████████████████████████████████████████████████████████████████████████████████████████████████████████████████████████████████████████████████████████████████▍                 | 468/500 [01:48<00:06,  4.62it/s]"
     ]
    },
    {
     "name": "stdout",
     "output_type": "stream",
     "text": [
      "0\n",
      "1\n"
     ]
    },
    {
     "name": "stderr",
     "output_type": "stream",
     "text": [
      "\r",
      " 94%|█████████████████████████████████████████████████████████████████████████████████████████████████████████████████████████████████████████████████████████████████████████████████████████████████████████████████████████████████████████████████████████████████▉                 | 469/500 [01:48<00:06,  4.59it/s]"
     ]
    },
    {
     "name": "stdout",
     "output_type": "stream",
     "text": [
      "tensor(1061.4591) tensor(314.8759) tensor(1399.3385) tensor(603.8135)\n",
      "0\n",
      "1\n"
     ]
    },
    {
     "name": "stderr",
     "output_type": "stream",
     "text": [
      "\r",
      " 94%|██████████████████████████████████████████████████████████████████████████████████████████████████████████████████████████████████████████████████████████████████████████████████████████████████████████████████████████████████████████████████████████████████▌                | 470/500 [01:48<00:06,  4.59it/s]"
     ]
    },
    {
     "name": "stdout",
     "output_type": "stream",
     "text": [
      "tensor(1001.9868) tensor(1283.7560) tensor(1121.2179) tensor(1419.6327)\n",
      "tensor(1009.3344) tensor(943.8788) tensor(1086.1932) tensor(1012.1295)\n",
      "0\n",
      "tensor(1230.2079) tensor(774.3705) tensor(1288.7308) tensor(833.0673)\n",
      "tensor(1095.2834) tensor(609.6093) tensor(1201.2522) tensor(730.8217)\n",
      "1\n"
     ]
    },
    {
     "name": "stderr",
     "output_type": "stream",
     "text": [
      "\r",
      " 94%|███████████████████████████████████████████████████████████████████████████████████████████████████████████████████████████████████████████████████████████████████████████████████████████████████████████████████████████████████████████████████████████████████                | 471/500 [01:48<00:06,  4.65it/s]"
     ]
    },
    {
     "name": "stdout",
     "output_type": "stream",
     "text": [
      "0\n",
      "tensor(913.5091) tensor(1158.1658) tensor(990.6342) tensor(1239.6174)\n",
      "1\n"
     ]
    },
    {
     "name": "stderr",
     "output_type": "stream",
     "text": [
      "\r",
      " 94%|███████████████████████████████████████████████████████████████████████████████████████████████████████████████████████████████████████████████████████████████████████████████████████████████████████████████████████████████████████████████████████████████████▌               | 472/500 [01:49<00:06,  4.58it/s]"
     ]
    },
    {
     "name": "stdout",
     "output_type": "stream",
     "text": [
      "tensor(934.9072) tensor(821.0062) tensor(1012.8710) tensor(904.2761)\n",
      "0\n",
      "tensor(728.0679) tensor(1118.6975) tensor(768.0562) tensor(1157.3540)\n",
      "1\n"
     ]
    },
    {
     "name": "stderr",
     "output_type": "stream",
     "text": [
      "\r",
      " 95%|████████████████████████████████████████████████████████████████████████████████████████████████████████████████████████████████████████████████████████████████████████████████████████████████████████████████████████████████████████████████████████████████████▏              | 473/500 [01:49<00:05,  4.53it/s]"
     ]
    },
    {
     "name": "stdout",
     "output_type": "stream",
     "text": [
      "tensor(1087.9741) tensor(896.3954) tensor(1141.8113) tensor(940.8261)\n",
      "0\n",
      "1\n"
     ]
    },
    {
     "name": "stderr",
     "output_type": "stream",
     "text": [
      "\r",
      " 95%|████████████████████████████████████████████████████████████████████████████████████████████████████████████████████████████████████████████████████████████████████████████████████████████████████████████████████████████████████████████████████████████████████▋              | 474/500 [01:49<00:05,  4.58it/s]"
     ]
    },
    {
     "name": "stdout",
     "output_type": "stream",
     "text": [
      "0\n",
      "1\n"
     ]
    },
    {
     "name": "stderr",
     "output_type": "stream",
     "text": [
      "\r",
      " 95%|█████████████████████████████████████████████████████████████████████████████████████████████████████████████████████████████████████████████████████████████████████████████████████████████████████████████████████████████████████████████████████████████████████▎             | 475/500 [01:49<00:05,  4.64it/s]"
     ]
    },
    {
     "name": "stdout",
     "output_type": "stream",
     "text": [
      "tensor(1133.8331) tensor(823.0928) tensor(1202.3812) tensor(888.8447)\n",
      "tensor(1270.5719) tensor(1309.1631) tensor(1395.6200) tensor(1700.)\n",
      "tensor(846.8117) tensor(570.2441) tensor(925.4205) tensor(661.1633)\n",
      "0\n",
      "tensor(967.5945) tensor(279.7729) tensor(1360.8420) tensor(765.2285)\n",
      "1\n"
     ]
    },
    {
     "name": "stderr",
     "output_type": "stream",
     "text": [
      "\r",
      " 95%|█████████████████████████████████████████████████████████████████████████████████████████████████████████████████████████████████████████████████████████████████████████████████████████████████████████████████████████████████████████████████████████████████████▊             | 476/500 [01:49<00:05,  4.62it/s]"
     ]
    },
    {
     "name": "stdout",
     "output_type": "stream",
     "text": [
      "0\n",
      "tensor(1064.2274) tensor(1330.9023) tensor(1122.3219) tensor(1393.9146)\n",
      "1\n"
     ]
    },
    {
     "name": "stderr",
     "output_type": "stream",
     "text": [
      "\r",
      " 95%|██████████████████████████████████████████████████████████████████████████████████████████████████████████████████████████████████████████████████████████████████████████████████████████████████████████████████████████████████████████████████████████████████████▎            | 477/500 [01:50<00:05,  4.56it/s]"
     ]
    },
    {
     "name": "stdout",
     "output_type": "stream",
     "text": [
      "0\n",
      "1\n"
     ]
    },
    {
     "name": "stderr",
     "output_type": "stream",
     "text": [
      "\r",
      " 96%|██████████████████████████████████████████████████████████████████████████████████████████████████████████████████████████████████████████████████████████████████████████████████████████████████████████████████████████████████████████████████████████████████████▉            | 478/500 [01:50<00:04,  4.54it/s]"
     ]
    },
    {
     "name": "stdout",
     "output_type": "stream",
     "text": [
      "0\n",
      "1\n"
     ]
    },
    {
     "name": "stderr",
     "output_type": "stream",
     "text": [
      "\r",
      " 96%|███████████████████████████████████████████████████████████████████████████████████████████████████████████████████████████████████████████████████████████████████████████████████████████████████████████████████████████████████████████████████████████████████████▍           | 479/500 [01:50<00:04,  4.30it/s]"
     ]
    },
    {
     "name": "stdout",
     "output_type": "stream",
     "text": [
      "0\n",
      "tensor(1009.0730) tensor(1039.5090) tensor(1075.6343) tensor(1102.5869)\n",
      "tensor(1177.3035) tensor(410.3896) tensor(1306.6614) tensor(549.6870)\n",
      "1\n"
     ]
    },
    {
     "name": "stderr",
     "output_type": "stream",
     "text": [
      "\r",
      " 96%|████████████████████████████████████████████████████████████████████████████████████████████████████████████████████████████████████████████████████████████████████████████████████████████████████████████████████████████████████████████████████████████████████████           | 480/500 [01:50<00:04,  4.26it/s]"
     ]
    },
    {
     "name": "stdout",
     "output_type": "stream",
     "text": [
      "tensor(1321.7865) tensor(1300.1398) tensor(1370.8959) tensor(1353.7242)\n",
      "tensor(1234.7397) tensor(1068.5980) tensor(1329.1436) tensor(1143.6390)\n",
      "tensor(1059.8813) tensor(352.0162) tensor(1118.7290) tensor(415.0981)\n",
      "0\n",
      "1\n"
     ]
    },
    {
     "name": "stderr",
     "output_type": "stream",
     "text": [
      "\r",
      " 96%|████████████████████████████████████████████████████████████████████████████████████████████████████████████████████████████████████████████████████████████████████████████████████████████████████████████████████████████████████████████████████████████████████████▌          | 481/500 [01:51<00:04,  4.14it/s]"
     ]
    },
    {
     "name": "stdout",
     "output_type": "stream",
     "text": [
      "0\n",
      "1\n"
     ]
    },
    {
     "name": "stderr",
     "output_type": "stream",
     "text": [
      "\r",
      " 96%|█████████████████████████████████████████████████████████████████████████████████████████████████████████████████████████████████████████████████████████████████████████████████████████████████████████████████████████████████████████████████████████████████████████          | 482/500 [01:51<00:04,  4.09it/s]"
     ]
    },
    {
     "name": "stdout",
     "output_type": "stream",
     "text": [
      "tensor(935.8741) tensor(931.2363) tensor(1036.3265) tensor(1036.6725)\n",
      "0\n",
      "tensor(1158.1754) tensor(751.8711) tensor(1263.3744) tensor(837.9288)\n",
      "tensor(985.5013) tensor(954.0898) tensor(1107.8802) tensor(1105.9651)\n",
      "tensor(1070.8427) tensor(606.5726) tensor(1156.4247) tensor(709.7511)\n",
      "1\n"
     ]
    },
    {
     "name": "stderr",
     "output_type": "stream",
     "text": [
      "\r",
      " 97%|█████████████████████████████████████████████████████████████████████████████████████████████████████████████████████████████████████████████████████████████████████████████████████████████████████████████████████████████████████████████████████████████████████████▋         | 483/500 [01:51<00:04,  3.99it/s]"
     ]
    },
    {
     "name": "stdout",
     "output_type": "stream",
     "text": [
      "tensor(495.6393) tensor(804.3811) tensor(1197.9246) tensor(1195.5692)\n",
      "tensor(725.8208) tensor(404.9648) tensor(1273.5870) tensor(855.9573)\n",
      "tensor(904.9607) tensor(1052.6682) tensor(1079.3760) tensor(1174.9758)\n",
      "0\n",
      "tensor(815.8264) tensor(986.5534) tensor(866.8824) tensor(1041.5621)\n",
      "1\n"
     ]
    },
    {
     "name": "stderr",
     "output_type": "stream",
     "text": [
      "\r",
      " 97%|██████████████████████████████████████████████████████████████████████████████████████████████████████████████████████████████████████████████████████████████████████████████████████████████████████████████████████████████████████████████████████████████████████████▏        | 484/500 [01:51<00:03,  4.07it/s]"
     ]
    },
    {
     "name": "stdout",
     "output_type": "stream",
     "text": [
      "0\n",
      "1\n"
     ]
    },
    {
     "name": "stderr",
     "output_type": "stream",
     "text": [
      "\r",
      " 97%|██████████████████████████████████████████████████████████████████████████████████████████████████████████████████████████████████████████████████████████████████████████████████████████████████████████████████████████████████████████████████████████████████████████▊        | 485/500 [01:52<00:03,  4.09it/s]"
     ]
    },
    {
     "name": "stdout",
     "output_type": "stream",
     "text": [
      "tensor(1075.2084) tensor(952.6843) tensor(1182.9781) tensor(1060.6271)\n",
      "0\n",
      "tensor(1104.0171) tensor(927.5245) tensor(1236.6211) tensor(1041.6118)\n",
      "1\n"
     ]
    },
    {
     "name": "stderr",
     "output_type": "stream",
     "text": [
      "\r",
      " 97%|███████████████████████████████████████████████████████████████████████████████████████████████████████████████████████████████████████████████████████████████████████████████████████████████████████████████████████████████████████████████████████████████████████████▎       | 486/500 [01:52<00:03,  3.99it/s]"
     ]
    },
    {
     "name": "stdout",
     "output_type": "stream",
     "text": [
      "tensor(1143.4663) tensor(853.0905) tensor(1288.6060) tensor(963.9901)\n",
      "0\n",
      "tensor(1206.3590) tensor(582.2646) tensor(1294.5433) tensor(675.5000)\n",
      "1\n"
     ]
    },
    {
     "name": "stderr",
     "output_type": "stream",
     "text": [
      "\r",
      " 97%|███████████████████████████████████████████████████████████████████████████████████████████████████████████████████████████████████████████████████████████████████████████████████████████████████████████████████████████████████████████████████████████████████████████▊       | 487/500 [01:52<00:03,  4.01it/s]"
     ]
    },
    {
     "name": "stdout",
     "output_type": "stream",
     "text": [
      "tensor(1239.4166) tensor(883.7830) tensor(1360.4266) tensor(1003.8250)\n",
      "0\n",
      "1\n"
     ]
    },
    {
     "name": "stderr",
     "output_type": "stream",
     "text": [
      "\r",
      " 98%|████████████████████████████████████████████████████████████████████████████████████████████████████████████████████████████████████████████████████████████████████████████████████████████████████████████████████████████████████████████████████████████████████████████▍      | 488/500 [01:52<00:03,  3.99it/s]"
     ]
    },
    {
     "name": "stdout",
     "output_type": "stream",
     "text": [
      "tensor(1176.3154) tensor(866.6345) tensor(1400.) tensor(1187.8618)\n",
      "tensor(1243.4750) tensor(864.7217) tensor(1286.0260) tensor(902.1535)\n",
      "0\n",
      "tensor(1195.2209) tensor(671.1662) tensor(1245.6814) tensor(733.0515)\n",
      "1\n"
     ]
    },
    {
     "name": "stderr",
     "output_type": "stream",
     "text": [
      "\r",
      " 98%|████████████████████████████████████████████████████████████████████████████████████████████████████████████████████████████████████████████████████████████████████████████████████████████████████████████████████████████████████████████████████████████████████████████▉      | 489/500 [01:53<00:02,  3.93it/s]"
     ]
    },
    {
     "name": "stdout",
     "output_type": "stream",
     "text": [
      "0\n",
      "tensor(1193.5078) tensor(923.2190) tensor(1244.9241) tensor(999.5886)\n",
      "tensor(1134.9546) tensor(766.0502) tensor(1231.0073) tensor(846.0428)\n",
      "1\n"
     ]
    },
    {
     "name": "stderr",
     "output_type": "stream",
     "text": [
      "\r",
      " 98%|█████████████████████████████████████████████████████████████████████████████████████████████████████████████████████████████████████████████████████████████████████████████████████████████████████████████████████████████████████████████████████████████████████████████▌     | 490/500 [01:53<00:02,  3.99it/s]"
     ]
    },
    {
     "name": "stdout",
     "output_type": "stream",
     "text": [
      "tensor(1258.3004) tensor(747.7670) tensor(1395.6857) tensor(894.1058)\n",
      "tensor(1127.9841) tensor(793.5403) tensor(1194.0188) tensor(864.3013)\n",
      "0\n",
      "tensor(1274.0577) tensor(896.2104) tensor(1340.4967) tensor(979.4156)\n",
      "1\n"
     ]
    },
    {
     "name": "stderr",
     "output_type": "stream",
     "text": [
      "\r",
      " 98%|██████████████████████████████████████████████████████████████████████████████████████████████████████████████████████████████████████████████████████████████████████████████████████████████████████████████████████████████████████████████████████████████████████████████     | 491/500 [01:53<00:02,  3.88it/s]"
     ]
    },
    {
     "name": "stdout",
     "output_type": "stream",
     "text": [
      "0\n",
      "tensor(1214.6781) tensor(995.7731) tensor(1346.6024) tensor(1077.2393)\n",
      "1\n"
     ]
    },
    {
     "name": "stderr",
     "output_type": "stream",
     "text": [
      "\r",
      " 98%|██████████████████████████████████████████████████████████████████████████████████████████████████████████████████████████████████████████████████████████████████████████████████████████████████████████████████████████████████████████████████████████████████████████████▌    | 492/500 [01:53<00:02,  3.92it/s]"
     ]
    },
    {
     "name": "stdout",
     "output_type": "stream",
     "text": [
      "tensor(1169.0077) tensor(1001.0409) tensor(1270.0389) tensor(1108.4181)\n",
      "0\n",
      "tensor(1146.1090) tensor(494.3256) tensor(1345.8497) tensor(633.9860)\n",
      "1\n"
     ]
    },
    {
     "name": "stderr",
     "output_type": "stream",
     "text": [
      "\r",
      " 99%|███████████████████████████████████████████████████████████████████████████████████████████████████████████████████████████████████████████████████████████████████████████████████████████████████████████████████████████████████████████████████████████████████████████████▏   | 493/500 [01:54<00:01,  3.96it/s]"
     ]
    },
    {
     "name": "stdout",
     "output_type": "stream",
     "text": [
      "tensor(1061.3196) tensor(843.0450) tensor(1343.7871) tensor(1125.0510)\n",
      "0\n",
      "1\n"
     ]
    },
    {
     "name": "stderr",
     "output_type": "stream",
     "text": [
      "\r",
      " 99%|███████████████████████████████████████████████████████████████████████████████████████████████████████████████████████████████████████████████████████████████████████████████████████████████████████████████████████████████████████████████████████████████████████████████▋   | 494/500 [01:54<00:01,  3.92it/s]"
     ]
    },
    {
     "name": "stdout",
     "output_type": "stream",
     "text": [
      "0\n",
      "tensor(1245.0740) tensor(1047.9088) tensor(1291.2864) tensor(1090.2511)\n",
      "1\n"
     ]
    },
    {
     "name": "stderr",
     "output_type": "stream",
     "text": [
      "\r",
      " 99%|████████████████████████████████████████████████████████████████████████████████████████████████████████████████████████████████████████████████████████████████████████████████████████████████████████████████████████████████████████████████████████████████████████████████▎  | 495/500 [01:54<00:01,  4.00it/s]"
     ]
    },
    {
     "name": "stdout",
     "output_type": "stream",
     "text": [
      "tensor(1042.7750) tensor(538.7413) tensor(1178.2548) tensor(680.5878)\n",
      "0\n",
      "1\n"
     ]
    },
    {
     "name": "stderr",
     "output_type": "stream",
     "text": [
      "\r",
      " 99%|████████████████████████████████████████████████████████████████████████████████████████████████████████████████████████████████████████████████████████████████████████████████████████████████████████████████████████████████████████████████████████████████████████████████▊  | 496/500 [01:54<00:00,  4.21it/s]"
     ]
    },
    {
     "name": "stdout",
     "output_type": "stream",
     "text": [
      "0\n",
      "tensor(1164.7255) tensor(372.1801) tensor(1294.1803) tensor(481.1775)\n",
      "1\n",
      "0\n"
     ]
    },
    {
     "name": "stderr",
     "output_type": "stream",
     "text": [
      "100%|█████████████████████████████████████████████████████████████████████████████████████████████████████████████████████████████████████████████████████████████████████████████████████████████████████████████████████████████████████████████████████████████████████████████████▉ | 498/500 [01:55<00:00,  4.73it/s]"
     ]
    },
    {
     "name": "stdout",
     "output_type": "stream",
     "text": [
      "tensor(1228.6289) tensor(634.2160) tensor(1364.5320) tensor(796.8381)\n",
      "1\n",
      "0\n",
      "tensor(1147.1360) tensor(698.2472) tensor(1229.0889) tensor(777.2598)\n",
      "1\n"
     ]
    },
    {
     "name": "stderr",
     "output_type": "stream",
     "text": [
      "\r",
      "100%|██████████████████████████████████████████████████████████████████████████████████████████████████████████████████████████████████████████████████████████████████████████████████████████████████████████████████████████████████████████████████████████████████████████████████▍| 499/500 [01:55<00:00,  4.75it/s]"
     ]
    },
    {
     "name": "stdout",
     "output_type": "stream",
     "text": [
      "tensor(1015.1006) tensor(783.1797) tensor(1121.7306) tensor(925.9960)\n",
      "tensor(1161.8319) tensor(792.3473) tensor(1262.2955) tensor(869.2039)\n",
      "tensor(1081.6670) tensor(910.5750) tensor(1138.2241) tensor(964.8792)\n",
      "tensor(1308.0632) tensor(703.8860) tensor(1350.2063) tensor(752.2397)\n",
      "0\n",
      "tensor(1146.4946) tensor(834.0143) tensor(1271.9209) tensor(992.1459)\n",
      "tensor(1083.0745) tensor(962.3258) tensor(1178.9260) tensor(1092.4811)\n",
      "tensor(1163.4523) tensor(1167.8463) tensor(1269.0114) tensor(1279.9628)\n",
      "1\n",
      "tensor(1230.5425) tensor(758.6989) tensor(1358.5171) tensor(927.1617)\n",
      "0\n"
     ]
    },
    {
     "name": "stderr",
     "output_type": "stream",
     "text": [
      "100%|███████████████████████████████████████████████████████████████████████████████████████████████████████████████████████████████████████████████████████████████████████████████████████████████████████████████████████████████████████████████████████████████████████████████████| 500/500 [01:55<00:00,  4.32it/s]"
     ]
    },
    {
     "name": "stdout",
     "output_type": "stream",
     "text": [
      "1\n"
     ]
    },
    {
     "name": "stderr",
     "output_type": "stream",
     "text": [
      "\n"
     ]
    }
   ],
   "source": [
    "model.roi_heads.score_thresh =1e-4\n",
    "for images, targets in tqdm(valid_loader):\n",
    "    model.eval()\n",
    "    images = list(img.to(DEVICE) for img in images)\n",
    "    if torch.cuda.is_available():\n",
    "        torch.cuda.synchronize()\n",
    "    with torch.no_grad():\n",
    "        outputs = model(images)\n",
    "        #print('out',outputs)\n",
    "        #print('tar',targets)\n",
    "    #####################################\n",
    "    for i in range(len(images)):\n",
    "        true_dict = dict()\n",
    "        preds_dict = dict()\n",
    "        true_dict['boxes'] = targets[i]['boxes'].detach().cpu()\n",
    "        true_dict['labels'] = targets[i]['labels'].detach().cpu()\n",
    "        preds_dict['boxes'] = outputs[i]['boxes'].detach().cpu()\n",
    "        preds_dict['scores'] = outputs[i]['scores'].detach().cpu()\n",
    "        preds_dict['labels'] = outputs[i]['labels'].detach().cpu()\n",
    "        img = images[i]\n",
    "        #img = invTrans(img)[0]\n",
    "        img= img.permute(1,2,0)\n",
    "        img = img.cpu().numpy().copy()\n",
    "        #plt.imshow(img)\n",
    "        count=0\n",
    "        for j, label in enumerate(preds_dict['labels']):\n",
    "            if  label ==3:\n",
    "                #count+=1\n",
    "                x_min, y_min, x_max, y_max = preds_dict['boxes'][j]\n",
    "                print(x_min, y_min, x_max, y_max)\n",
    "                img =cv2.rectangle(img=img,pt1= (int(x_min),int(y_min)),pt2= (int(x_max),int(y_max)), color = (1.0,1.0,0),thickness =5)\n",
    "#             elif label ==2:\n",
    "#                 #count+=1\n",
    "#                 x_min, y_min, x_max, y_max = preds_dict['boxes'][j]\n",
    "#                 print(x_min, y_min, x_max, y_max)\n",
    "#                 img =cv2.rectangle(img=img,pt1= (int(x_min),int(y_min)),pt2= (int(x_max),int(y_max)), color = (1.0,0,0),thickness =5)\n",
    "        \n",
    "        for j, label in enumerate(true_dict['labels']):\n",
    "            if  label ==3:\n",
    "                count+=1\n",
    "                x_min, y_min, x_max, y_max = true_dict['boxes'][j]\n",
    "                img =cv2.rectangle(img =img,pt1= (int(x_min),int(y_min)),pt2= (int(x_max),int(y_max)), color = (0,1.0,0),thickness =5)\n",
    "#             elif label ==2: \n",
    "#                 count+=1\n",
    "#                 x_min, y_min, x_max, y_max = true_dict['boxes'][j]\n",
    "#                 img =cv2.rectangle(img =img,pt1= (int(x_min),int(y_min)),pt2= (int(x_max),int(y_max)), color = (0,0,1.0),thickness =5)\n",
    "        print(i)\n",
    "        if count>0:\n",
    "            plt.imshow(img)\n",
    "            plt.show()\n",
    "    "
   ]
  },
  {
   "cell_type": "code",
   "execution_count": null,
   "id": "256944ff",
   "metadata": {},
   "outputs": [],
   "source": [
    "np.linspace(0,1,10)"
   ]
  },
  {
   "cell_type": "code",
   "execution_count": 16,
   "id": "95b1cff7",
   "metadata": {},
   "outputs": [
    {
     "data": {
      "text/plain": [
       "<matplotlib.image.AxesImage at 0x7ff93875ee50>"
      ]
     },
     "execution_count": 16,
     "metadata": {},
     "output_type": "execute_result"
    },
    {
     "data": {
      "image/png": "[encoded data removed]",
      "text/plain": [
       "<Figure size 640x480 with 1 Axes>"
      ]
     },
     "metadata": {},
     "output_type": "display_data"
    }
   ],
   "source": [
    "img = np.zeros((100,100,3))\n",
    "img =cv2.rectangle(img =img,pt1= (40,40),pt2= (80,80), color = (0,0,1.0),thickness =5)\n",
    "plt.imshow(img)"
   ]
  },
  {
   "cell_type": "code",
   "execution_count": null,
   "id": "7e7cbd5c",
   "metadata": {},
   "outputs": [],
   "source": []
  }
 ],
 "metadata": {
  "kernelspec": {
   "display_name": "Python 3 (ipykernel)",
   "language": "python",
   "name": "python3"
  },
  "language_info": {
   "codemirror_mode": {
    "name": "ipython",
    "version": 3
   },
   "file_extension": ".py",
   "mimetype": "text/x-python",
   "name": "python",
   "nbconvert_exporter": "python",
   "pygments_lexer": "ipython3",
   "version": "3.9.16"
  }
 },
 "nbformat": 4,
 "nbformat_minor": 5
}
